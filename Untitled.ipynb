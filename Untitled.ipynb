{
 "cells": [
  {
   "cell_type": "code",
   "execution_count": 1,
   "metadata": {},
   "outputs": [],
   "source": [
    "import pandas as pd\n",
    "import os.path"
   ]
  },
  {
   "cell_type": "code",
   "execution_count": 2,
   "metadata": {},
   "outputs": [],
   "source": [
    "trades_today = pd.read_csv('trades_today.csv')\n",
    "budget_df = pd.read_csv('budget.csv')\n",
    "if os.path.exists('all_trades.csv'):\n",
    "    all_trades = pd.read_csv('all_trades.csv')\n",
    "else:\n",
    "    all_trades = pd.DataFrame(columns=trades_today.columns)"
   ]
  },
  {
   "cell_type": "code",
   "execution_count": 16,
   "metadata": {},
   "outputs": [],
   "source": [
    "for index, row in trades_today.iterrows():\n",
    "    valid_trades = all_trades[(all_trades['instrument']==row['instrument']) & (all_trades['condition']==row['condition']) & (all_trades['status']=='complete')]\n",
    "    last_valid_trade = valid_trades[(valid_trades['trade_number']==valid_trades['trade_number'].max())]\n",
    "    "
   ]
  },
  {
   "cell_type": "code",
   "execution_count": 17,
   "metadata": {},
   "outputs": [
    {
     "data": {
      "text/html": [
       "<div>\n",
       "<style scoped>\n",
       "    .dataframe tbody tr th:only-of-type {\n",
       "        vertical-align: middle;\n",
       "    }\n",
       "\n",
       "    .dataframe tbody tr th {\n",
       "        vertical-align: top;\n",
       "    }\n",
       "\n",
       "    .dataframe thead th {\n",
       "        text-align: right;\n",
       "    }\n",
       "</style>\n",
       "<table border=\"1\" class=\"dataframe\">\n",
       "  <thead>\n",
       "    <tr style=\"text-align: right;\">\n",
       "      <th></th>\n",
       "      <th>instrument</th>\n",
       "      <th>high_prev</th>\n",
       "      <th>low_prev</th>\n",
       "      <th>open_today</th>\n",
       "      <th>condition</th>\n",
       "      <th>transaction_type</th>\n",
       "      <th>trade_number</th>\n",
       "      <th>level</th>\n",
       "      <th>budget</th>\n",
       "      <th>return</th>\n",
       "      <th>...</th>\n",
       "      <th>squareoff</th>\n",
       "      <th>stoploss</th>\n",
       "      <th>order_id</th>\n",
       "      <th>timestamp</th>\n",
       "      <th>order_type</th>\n",
       "      <th>status</th>\n",
       "      <th>profit</th>\n",
       "      <th>pl_tag</th>\n",
       "      <th>flag</th>\n",
       "      <th>adhoora_khwab</th>\n",
       "    </tr>\n",
       "  </thead>\n",
       "  <tbody>\n",
       "    <tr>\n",
       "      <th>89</th>\n",
       "      <td>NSE:PETRONET</td>\n",
       "      <td>246.95</td>\n",
       "      <td>NaN</td>\n",
       "      <td>248.25</td>\n",
       "      <td>high</td>\n",
       "      <td>buy</td>\n",
       "      <td>1</td>\n",
       "      <td>1</td>\n",
       "      <td>400.0</td>\n",
       "      <td>0.02</td>\n",
       "      <td>...</td>\n",
       "      <td>5.0</td>\n",
       "      <td>5.0</td>\n",
       "      <td>190827000050993</td>\n",
       "      <td>2019-08-27 09:15:02.097718</td>\n",
       "      <td>SL</td>\n",
       "      <td>complete</td>\n",
       "      <td>10.0</td>\n",
       "      <td>1.0</td>\n",
       "      <td>1</td>\n",
       "      <td>-2.0</td>\n",
       "    </tr>\n",
       "  </tbody>\n",
       "</table>\n",
       "<p>1 rows × 26 columns</p>\n",
       "</div>"
      ],
      "text/plain": [
       "      instrument  high_prev  low_prev  open_today condition transaction_type  \\\n",
       "89  NSE:PETRONET     246.95       NaN      248.25      high              buy   \n",
       "\n",
       "    trade_number  level  budget  return  ...  squareoff  stoploss  \\\n",
       "89             1      1   400.0    0.02  ...        5.0       5.0   \n",
       "\n",
       "           order_id                   timestamp  order_type    status  profit  \\\n",
       "89  190827000050993  2019-08-27 09:15:02.097718          SL  complete    10.0   \n",
       "\n",
       "    pl_tag  flag adhoora_khwab  \n",
       "89     1.0     1          -2.0  \n",
       "\n",
       "[1 rows x 26 columns]"
      ]
     },
     "execution_count": 17,
     "metadata": {},
     "output_type": "execute_result"
    }
   ],
   "source": [
    "last_valid_trade"
   ]
  },
  {
   "cell_type": "code",
   "execution_count": 12,
   "metadata": {},
   "outputs": [
    {
     "data": {
      "text/html": [
       "<div>\n",
       "<style scoped>\n",
       "    .dataframe tbody tr th:only-of-type {\n",
       "        vertical-align: middle;\n",
       "    }\n",
       "\n",
       "    .dataframe tbody tr th {\n",
       "        vertical-align: top;\n",
       "    }\n",
       "\n",
       "    .dataframe thead th {\n",
       "        text-align: right;\n",
       "    }\n",
       "</style>\n",
       "<table border=\"1\" class=\"dataframe\">\n",
       "  <thead>\n",
       "    <tr style=\"text-align: right;\">\n",
       "      <th></th>\n",
       "      <th>instrument</th>\n",
       "      <th>high_prev</th>\n",
       "      <th>low_prev</th>\n",
       "      <th>open_today</th>\n",
       "      <th>condition</th>\n",
       "      <th>transaction_type</th>\n",
       "      <th>trade_number</th>\n",
       "      <th>level</th>\n",
       "      <th>budget</th>\n",
       "      <th>return</th>\n",
       "      <th>...</th>\n",
       "      <th>squareoff</th>\n",
       "      <th>stoploss</th>\n",
       "      <th>order_id</th>\n",
       "      <th>timestamp</th>\n",
       "      <th>order_type</th>\n",
       "      <th>status</th>\n",
       "      <th>profit</th>\n",
       "      <th>pl_tag</th>\n",
       "      <th>flag</th>\n",
       "      <th>adhoora_khwab</th>\n",
       "    </tr>\n",
       "  </thead>\n",
       "  <tbody>\n",
       "  </tbody>\n",
       "</table>\n",
       "<p>0 rows × 26 columns</p>\n",
       "</div>"
      ],
      "text/plain": [
       "Empty DataFrame\n",
       "Columns: [instrument, high_prev, low_prev, open_today, condition, transaction_type, trade_number, level, budget, return, daily_khwab, actual_khwab, quantity, budget_required, price, trigger_price, squareoff, stoploss, order_id, timestamp, order_type, status, profit, pl_tag, flag, adhoora_khwab]\n",
       "Index: []\n",
       "\n",
       "[0 rows x 26 columns]"
      ]
     },
     "execution_count": 12,
     "metadata": {},
     "output_type": "execute_result"
    }
   ],
   "source": [
    "all_trades[(all_trades['instrument']==row['instrument']) & (all_trades['condition']==row['condition']) & (all_trades['status']=='complete') & (all_trades['trade_number']==all_trades['trade_number'].max())]\n"
   ]
  },
  {
   "cell_type": "code",
   "execution_count": 13,
   "metadata": {},
   "outputs": [
    {
     "data": {
      "text/plain": [
       "3"
      ]
     },
     "execution_count": 13,
     "metadata": {},
     "output_type": "execute_result"
    }
   ],
   "source": [
    "all_trades['trade_number'].max()"
   ]
  },
  {
   "cell_type": "code",
   "execution_count": null,
   "metadata": {},
   "outputs": [],
   "source": []
  }
 ],
 "metadata": {
  "kernelspec": {
   "display_name": "needle",
   "language": "python",
   "name": "needle"
  },
  "language_info": {
   "codemirror_mode": {
    "name": "ipython",
    "version": 3
   },
   "file_extension": ".py",
   "mimetype": "text/x-python",
   "name": "python",
   "nbconvert_exporter": "python",
   "pygments_lexer": "ipython3",
   "version": "3.6.7"
  }
 },
 "nbformat": 4,
 "nbformat_minor": 2
}
