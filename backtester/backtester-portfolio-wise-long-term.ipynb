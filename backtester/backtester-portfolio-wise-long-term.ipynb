{
 "cells": [
  {
   "cell_type": "code",
   "execution_count": null,
   "metadata": {},
   "outputs": [],
   "source": [
    "import pandas as pd\n",
    "import pickle\n",
    "import datetime as dt\n",
    "pd.set_option('display.max_columns', 500)\n",
    "pd.set_option('display.max_rows', 5000)"
   ]
  },
  {
   "cell_type": "code",
   "execution_count": null,
   "metadata": {},
   "outputs": [],
   "source": [
    "#from LogIn import LogIn\n",
    "#kite = LogIn().return_kite_obj()"
   ]
  },
  {
   "cell_type": "code",
   "execution_count": null,
   "metadata": {},
   "outputs": [],
   "source": [
    "budget_df = pd.read_csv('budget.csv')"
   ]
  },
  {
   "cell_type": "code",
   "execution_count": null,
   "metadata": {},
   "outputs": [],
   "source": [
    "budget_df"
   ]
  },
  {
   "cell_type": "markdown",
   "metadata": {},
   "source": [
    "# Inputs"
   ]
  },
  {
   "cell_type": "code",
   "execution_count": null,
   "metadata": {},
   "outputs": [],
   "source": [
    "from_year = 2015\n",
    "to_year = 2020"
   ]
  },
  {
   "cell_type": "code",
   "execution_count": null,
   "metadata": {},
   "outputs": [],
   "source": [
    "leverage = 15\n",
    "exit_time = dt.time(15, 10)"
   ]
  },
  {
   "cell_type": "markdown",
   "metadata": {},
   "source": [
    "# Process"
   ]
  },
  {
   "cell_type": "code",
   "execution_count": null,
   "metadata": {
    "scrolled": true
   },
   "outputs": [],
   "source": [
    "# Download data of all companies\n",
    "download = False\n",
    "\n",
    "if download:\n",
    "    \n",
    "    for year in range(from_year, to_year+1):\n",
    "        \n",
    "        from_date = '{}-01-01'.format(year)\n",
    "        to_date = '{}-12-31'.format(year)\n",
    "        print(from_date, to_date)\n",
    "        for instrument in budget_df.instrument.tolist():\n",
    "\n",
    "            try:\n",
    "                print('------------')\n",
    "                print(instrument)\n",
    "                instrument_token = kite.ohlc(instrument)[instrument]['instrument_token']\n",
    "                data = kite.historical_data(instrument_token=instrument_token, from_date=from_date, to_date=to_date, interval='minute', continuous=False)\n",
    "                data_df = pd.DataFrame(data)\n",
    "                data_df.to_pickle('./data/{}_{}_{}.pkl'.format(instrument, from_date, to_date))\n",
    "\n",
    "            except Exception as ex:\n",
    "                print('Failed for {} : {}'.format(instrument, ex))"
   ]
  },
  {
   "cell_type": "code",
   "execution_count": null,
   "metadata": {},
   "outputs": [],
   "source": [
    "def get_clean_data(instrument, from_year, to_year):\n",
    "    \n",
    "    print(instrument)\n",
    "    \n",
    "    all_data_df = pd.DataFrame()\n",
    "    \n",
    "    for year in range(from_year, to_year+1):\n",
    "        \n",
    "        print(year)\n",
    "        \n",
    "        from_date = '{}-01-01'.format(year)\n",
    "        to_date = '{}-12-31'.format(year)\n",
    "        \n",
    "        data_df = pd.read_pickle('./data/{}_{}_{}.pkl'.format(instrument, from_date, to_date))\n",
    "        data_df.rename(columns={'date':'timestamp'}, inplace=True)\n",
    "        data_df['date'] = data_df['timestamp'].dt.date\n",
    "        data_df['day'] = data_df['timestamp'].dt.day_name()\n",
    "        print(len(data_df))\n",
    "\n",
    "        sanity_check = data_df.groupby('date').count().reset_index()\n",
    "        incomplete_data_days = sanity_check[sanity_check['volume']<300]\n",
    "        print(incomplete_data_days)\n",
    "\n",
    "        data_df = data_df[~data_df['date'].isin(incomplete_data_days.date.tolist())]\n",
    "        data_df['instrument'] = instrument\n",
    "        print(len(data_df)/375)\n",
    "        \n",
    "        all_data_df = all_data_df.append(data_df, ignore_index=True)\n",
    "        \n",
    "    return all_data_df"
   ]
  },
  {
   "cell_type": "code",
   "execution_count": null,
   "metadata": {},
   "outputs": [],
   "source": [
    "header_list = ['instrument', 'high_prev', 'low_prev', 'open_today', 'condition', 'transaction_type', 'trade_number', 'level', 'budget', 'return', 'daily_khwab', 'actual_khwab', 'quantity', 'budget_required', 'price', 'trigger_price', 'squareoff', 'stoploss', 'order_id', 'timestamp', 'order_type', 'status', 'profit', 'pl_tag', 'flag', 'adhoora_khwab']\n"
   ]
  },
  {
   "cell_type": "code",
   "execution_count": null,
   "metadata": {
    "scrolled": true
   },
   "outputs": [],
   "source": [
    "calculate = True\n",
    "\n",
    "if calculate:\n",
    "    \n",
    "    all_trades = pd.DataFrame(columns=header_list)\n",
    "\n",
    "    for instrument in budget_df.instrument.tolist():\n",
    "\n",
    "        try:\n",
    "            all_data_df = get_clean_data(instrument, from_year, to_year)\n",
    "\n",
    "            for i in range(len(all_data_df.date.unique().tolist())-1):\n",
    "\n",
    "                date_prev = all_data_df.date.unique().tolist()[i]\n",
    "                data_prev = all_data_df[all_data_df['date']==date_prev]\n",
    "                open_prev = data_prev.open.iloc[0]\n",
    "                close_prev = data_prev.open.iloc[-1]\n",
    "                high_prev = data_prev.high.max()\n",
    "                low_prev = data_prev.low.min()\n",
    "\n",
    "                date_today = all_data_df.date.unique().tolist()[i+1]\n",
    "                data_today = all_data_df[all_data_df['date']==date_today]\n",
    "\n",
    "                # Trim beyond exit time\n",
    "                data_today = data_today[data_today['timestamp'].dt.time<exit_time]\n",
    "                open_today = data_today.open.iloc[0]\n",
    "\n",
    "                if (open_today > high_prev) & (open_today < 1.15 * high_prev):\n",
    "\n",
    "                    condition = 'high'\n",
    "                    transaction_type = 'buy'\n",
    "\n",
    "                elif (open_today < low_prev) & (open_today > 0.85 * low_prev):\n",
    "\n",
    "                    condition = 'low'\n",
    "                    transaction_type = 'sell'\n",
    "\n",
    "                else:\n",
    "\n",
    "                    condition = None\n",
    "                    transaction_type = None\n",
    "\n",
    "                if condition is not None:\n",
    "\n",
    "                    valid_trades = all_trades[(all_trades['instrument']==instrument) & (all_trades['condition']==condition) & (all_trades['status']=='complete')]\n",
    "                    last_valid_trade = valid_trades[valid_trades['trade_number']==valid_trades['trade_number'].max()]\n",
    "\n",
    "                    # Calculate trade number\n",
    "                    if len(last_valid_trade):\n",
    "                        trade_number = int(last_valid_trade['trade_number']) + 1\n",
    "                    else:\n",
    "                        trade_number = 1\n",
    "\n",
    "                    # Calculate level\n",
    "                    if len(last_valid_trade):\n",
    "                        if float(last_valid_trade['pl_tag'])==1.0:\n",
    "                            level = 1\n",
    "                        else:\n",
    "                            level = float(last_valid_trade['level']) + 1\n",
    "                    else:\n",
    "                        level = 1\n",
    "\n",
    "                    # Calculate budget and return\n",
    "                    if level==1:\n",
    "                        budget = float(budget_df[budget_df['instrument']==instrument]['budget'])\n",
    "                        return_ = float(budget_df[budget_df['instrument']==instrument]['return'])\n",
    "                    else:\n",
    "                        budget = float(last_valid_trade['budget'])\n",
    "                        return_ = float(last_valid_trade['return'])\n",
    "\n",
    "                    # Calculate daily khwab\n",
    "                    if len(last_valid_trade):\n",
    "                        if int(last_valid_trade['flag'])==1:\n",
    "                            daily_khwab = round(return_ * budget, 2)\n",
    "                        else:\n",
    "                            daily_khwab = 0\n",
    "                    else:\n",
    "                        daily_khwab = round(return_ * budget, 2)\n",
    "\n",
    "                    # Calculate actual khwab\n",
    "                    if len(last_valid_trade):\n",
    "                        actual_khwab = max(round(float(last_valid_trade['adhoora_khwab']) + daily_khwab, 2), round(return_ * budget, 2))\n",
    "                    else:\n",
    "                        actual_khwab = round(return_ * budget, 2)\n",
    "\n",
    "                    # Calculate quantity\n",
    "                    quantity = int(round(actual_khwab/(return_ * open_today)))\n",
    "\n",
    "                    # Calculate budget required\n",
    "                    budget_required = round(quantity * open_today, 2)\n",
    "\n",
    "                    # Calculate price and trigger price\n",
    "                    if condition=='high':\n",
    "                        price = round(open_today + 0.05 * max(round(20 * 0.0010 * open_today), 2), 2)\n",
    "                        trigger_price = round(open_today + 0.05 * max(round(20 * 0.0005 * open_today),1), 2)\n",
    "                    else:\n",
    "                        price = round(open_today - 0.05 * max(round(20 * 0.0010 * open_today), 2), 2)\n",
    "                        trigger_price = round(open_today - 0.05 * max(round(20 * 0.0005 * open_today),1), 2)\n",
    "\n",
    "                    # Calculate square off and stoploss\n",
    "                    squareoff = round(return_ * price, 1)\n",
    "                    stoploss = round(return_ * price, 1)\n",
    "\n",
    "                    # Calculate order_id, order_type\n",
    "                    order_id = trade_number\n",
    "                    order_type = 'SL'\n",
    "\n",
    "                    # Calculate timestamp, status and profit\n",
    "                    if transaction_type=='buy':\n",
    "                        \n",
    "                        if data_today.high.max() < trigger_price:\n",
    "\n",
    "                            timestamp = data_today.timestamp.iloc[0]\n",
    "                            status = 'incomplete'\n",
    "                            profit = 0\n",
    "\n",
    "                        else:\n",
    "\n",
    "                            status = 'complete'\n",
    "                            for index, row in data_today.iterrows():\n",
    "\n",
    "                                if row['high'] > price + squareoff:\n",
    "                                    timestamp = row['timestamp']\n",
    "                                    profit = round(squareoff * quantity, 2)\n",
    "                                    break\n",
    "\n",
    "                                elif row['low'] < price - stoploss:\n",
    "                                    timestamp = row['timestamp']\n",
    "                                    profit = round(-1 * stoploss * quantity, 2)\n",
    "                                    break\n",
    "\n",
    "                                else:\n",
    "                                    timestamp = row['timestamp']\n",
    "                                    profit = round((row['close']-price) * quantity, 2)\n",
    "\n",
    "                    else:\n",
    "\n",
    "                        if data_today.low.min() > trigger_price:\n",
    "                            timestamp = data_today.timestamp.iloc[0]\n",
    "                            status = 'incomplete'\n",
    "                            profit = 0            \n",
    "\n",
    "                        else:\n",
    "\n",
    "                            status = 'complete'\n",
    "                            for index, row in data_today.iterrows():\n",
    "\n",
    "                                if row['low'] < price - squareoff:\n",
    "                                    timestamp = row['timestamp']\n",
    "                                    profit = round(squareoff * quantity, 2)\n",
    "                                    break\n",
    "\n",
    "                                elif row['high'] > price + stoploss:\n",
    "                                    timestamp = row['timestamp']\n",
    "                                    profit = round(-1 * stoploss * quantity, 2)\n",
    "                                    break\n",
    "\n",
    "                                else:\n",
    "                                    timestamp = row['timestamp']\n",
    "                                    profit = round((price - row['close']) * quantity, 2)\n",
    "\n",
    "                    # Calculate P/L tag\n",
    "                    pl_tag = round(round(float(profit), 2) / (float(squareoff) * float(quantity)), 1)\n",
    "\n",
    "                    # Calculate flag\n",
    "                    if abs(float(pl_tag))==1:\n",
    "                        flag = 1\n",
    "                    else:\n",
    "                        flag = 0\n",
    "\n",
    "                    # Calculate adhoora khwab\n",
    "                    adhoora_khwab = round(float(actual_khwab) - profit, 2)\n",
    "\n",
    "                    trades_today = pd.DataFrame(data={'instrument':[instrument], \n",
    "                                                      'high_prev':[high_prev], \n",
    "                                                      'low_prev':[low_prev], \n",
    "                                                      'open_today':[open_today], \n",
    "                                                      'condition':[condition], \n",
    "                                                      'transaction_type':[transaction_type], \n",
    "                                                      'trade_number':[trade_number], \n",
    "                                                      'level':[level], \n",
    "                                                      'budget':[budget], \n",
    "                                                      'return':[return_], \n",
    "                                                      'daily_khwab':[daily_khwab], \n",
    "                                                      'actual_khwab':[actual_khwab], \n",
    "                                                      'quantity':[quantity], \n",
    "                                                      'budget_required':[budget_required], \n",
    "                                                      'price':[price], \n",
    "                                                      'trigger_price':[trigger_price], \n",
    "                                                      'squareoff':[squareoff], \n",
    "                                                      'stoploss':[stoploss], \n",
    "                                                      'order_id':[order_id], \n",
    "                                                      'timestamp':[timestamp], \n",
    "                                                      'order_type':[order_type], \n",
    "                                                      'status':[status], \n",
    "                                                      'profit':[profit], \n",
    "                                                      'pl_tag':[pl_tag], \n",
    "                                                      'flag':[flag], \n",
    "                                                      'adhoora_khwab':[adhoora_khwab]\n",
    "                                                     })\n",
    "\n",
    "                    all_trades = all_trades.append(trades_today, ignore_index = True)\n",
    "        except Exception as ex:\n",
    "            print('Failed calculation for {} : {}'.format(instrument, ex))\n",
    "            \n",
    "    all_trades.to_pickle('all_trades_{}_{}.pkl'.format(from_year, to_year))\n",
    "    \n",
    "else:\n",
    "    \n",
    "    all_trades = pd.read_pickle('all_trades_{}_{}.pkl'.format(from_year, to_year))"
   ]
  },
  {
   "cell_type": "markdown",
   "metadata": {},
   "source": [
    "# High Trades Analysis"
   ]
  },
  {
   "cell_type": "code",
   "execution_count": null,
   "metadata": {},
   "outputs": [],
   "source": [
    "high_trades = all_trades[(all_trades['condition']=='high') & (all_trades['status']=='complete')]"
   ]
  },
  {
   "cell_type": "code",
   "execution_count": null,
   "metadata": {},
   "outputs": [],
   "source": [
    "high_trades_loop = pd.DataFrame()\n",
    "for instrument in high_trades.instrument.unique().tolist():\n",
    "    instrument_high_trades = high_trades[high_trades['instrument']==instrument]\n",
    "    instrument_high_trades_loop = instrument_high_trades[instrument_high_trades['trade_number']<=instrument_high_trades[instrument_high_trades['pl_tag']==1.0].trade_number.max()]\n",
    "    high_trades_loop = high_trades_loop.append(instrument_high_trades_loop, ignore_index=True)\n",
    "    "
   ]
  },
  {
   "cell_type": "code",
   "execution_count": null,
   "metadata": {
    "scrolled": false
   },
   "outputs": [],
   "source": [
    "high_trades.head()"
   ]
  },
  {
   "cell_type": "markdown",
   "metadata": {},
   "source": [
    "# Low Trades Analysis"
   ]
  },
  {
   "cell_type": "code",
   "execution_count": null,
   "metadata": {},
   "outputs": [],
   "source": [
    "low_trades = all_trades[(all_trades['condition']=='low') & (all_trades['status']=='complete')]"
   ]
  },
  {
   "cell_type": "code",
   "execution_count": null,
   "metadata": {},
   "outputs": [],
   "source": [
    "low_trades_loop = pd.DataFrame()\n",
    "for instrument in low_trades.instrument.unique().tolist():\n",
    "    instrument_low_trades = low_trades[low_trades['instrument']==instrument]\n",
    "    instrument_low_trades_loop = instrument_low_trades[instrument_low_trades['trade_number']<=instrument_low_trades[instrument_low_trades['pl_tag']==1.0].trade_number.max()]\n",
    "    low_trades_loop = low_trades_loop.append(instrument_low_trades_loop, ignore_index=True)\n",
    "    "
   ]
  },
  {
   "cell_type": "code",
   "execution_count": null,
   "metadata": {
    "scrolled": true
   },
   "outputs": [],
   "source": [
    "low_trades.head()"
   ]
  },
  {
   "cell_type": "markdown",
   "metadata": {},
   "source": [
    "# Results"
   ]
  },
  {
   "cell_type": "code",
   "execution_count": null,
   "metadata": {
    "scrolled": true
   },
   "outputs": [],
   "source": [
    "pd.DataFrame(data={'high':[len(high_trades),\n",
    "                           len(high_trades_loop),\n",
    "                           round(high_trades_loop.profit.sum(), 2), \n",
    "                           round(high_trades_loop.profit.sum()/budget_df.budget.sum() * 100, 2),\n",
    "                           round(high_trades_loop.budget_required.max()), \n",
    "                           round(high_trades_loop.budget_required.max()/leverage)],\n",
    "                   'low':[len(low_trades),\n",
    "                          len(low_trades_loop),\n",
    "                          round(low_trades_loop.profit.sum(), 2), \n",
    "                          round(low_trades_loop.profit.sum()/budget_df.budget.sum() * 100, 2),\n",
    "                          round(low_trades_loop.budget_required.max()),\n",
    "                          round(low_trades_loop.budget_required.max()/leverage)]\n",
    "                   }, \n",
    "             index = ['total_trades', 'trades_considered', 'profit', 'perc_return', 'hightest_budget_required', 'hightest_margin_required'])"
   ]
  },
  {
   "cell_type": "markdown",
   "metadata": {},
   "source": [
    "# Daily Margin Required Analysis"
   ]
  },
  {
   "cell_type": "code",
   "execution_count": null,
   "metadata": {},
   "outputs": [],
   "source": [
    "all_trades['date'] = all_trades['timestamp'].dt.date\n",
    "all_trades['margin_required'] = all_trades['budget_required']/leverage\n",
    "margins = all_trades.groupby('date').agg({'budget_required':sum, 'margin_required':sum, 'instrument':list}).reset_index()"
   ]
  },
  {
   "cell_type": "code",
   "execution_count": null,
   "metadata": {},
   "outputs": [],
   "source": [
    "import numpy as np\n",
    "import matplotlib.pyplot as plt\n",
    "\n",
    "def stacked_bar(data, series_labels, category_labels=None, \n",
    "                show_values=False, value_format=\"{}\", y_label=None, \n",
    "                grid=True, reverse=False):\n",
    "    \"\"\"Plots a stacked bar chart with the data and labels provided.\n",
    "\n",
    "    Keyword arguments:\n",
    "    data            -- 2-dimensional numpy array or nested list\n",
    "                       containing data for each series in rows\n",
    "    series_labels   -- list of series labels (these appear in\n",
    "                       the legend)\n",
    "    category_labels -- list of category labels (these appear\n",
    "                       on the x-axis)\n",
    "    show_values     -- If True then numeric value labels will \n",
    "                       be shown on each bar\n",
    "    value_format    -- Format string for numeric value labels\n",
    "                       (default is \"{}\")\n",
    "    y_label         -- Label for y-axis (str)\n",
    "    grid            -- If True display grid\n",
    "    reverse         -- If True reverse the order that the\n",
    "                       series are displayed (left-to-right\n",
    "                       or right-to-left)\n",
    "    \"\"\"\n",
    "\n",
    "    ny = len(data[0])\n",
    "    ind = list(range(ny))\n",
    "\n",
    "    axes = []\n",
    "    cum_size = np.zeros(ny)\n",
    "\n",
    "    data = np.array(data)\n",
    "\n",
    "    if reverse:\n",
    "        data = np.flip(data, axis=1)\n",
    "        category_labels = reversed(category_labels)\n",
    "\n",
    "    for i, row_data in enumerate(data):\n",
    "        axes.append(plt.bar(ind, row_data, bottom=cum_size, \n",
    "                            label=series_labels[i]))\n",
    "        cum_size += row_data\n",
    "\n",
    "    if category_labels:\n",
    "        plt.xticks(ind, category_labels, rotation='vertical')\n",
    "\n",
    "    if y_label:\n",
    "        plt.ylabel(y_label)\n",
    "\n",
    "    plt.legend(loc='center left', bbox_to_anchor=(1, 0.5))\n",
    "\n",
    "    if grid:\n",
    "        plt.grid()\n",
    "\n",
    "    if show_values:\n",
    "        for axis in axes:\n",
    "            for bar in axis:\n",
    "                w, h = bar.get_width(), bar.get_height()\n",
    "                plt.text(bar.get_x() + w/2, bar.get_y() + h/2, \n",
    "                         value_format.format(h), ha=\"center\", \n",
    "                         va=\"center\")"
   ]
  },
  {
   "cell_type": "code",
   "execution_count": null,
   "metadata": {
    "scrolled": true
   },
   "outputs": [],
   "source": [
    "df2 = all_trades.groupby(['date', 'instrument'])['margin_required'].sum().unstack('instrument').fillna(0)\n",
    "\n",
    "df = df2.transpose()\n",
    "\n",
    "plt.figure(figsize=(50, 10))\n",
    "\n",
    "series_labels = df.index.tolist()\n",
    "\n",
    "data = df.values\n",
    "\n",
    "category_labels = df.columns.tolist()\n",
    "\n",
    "stacked_bar(\n",
    "    data, \n",
    "    series_labels, \n",
    "    category_labels=category_labels, \n",
    "    show_values=False,\n",
    "    value_format=\"{:.1f}\",\n",
    "    y_label=\"Total margin required\"\n",
    ")\n",
    "\n",
    "plt.savefig('margin_required_2015_2018.png')\n",
    "plt.show()"
   ]
  },
  {
   "cell_type": "code",
   "execution_count": null,
   "metadata": {},
   "outputs": [],
   "source": []
  }
 ],
 "metadata": {
  "kernelspec": {
   "display_name": "needle",
   "language": "python",
   "name": "needle"
  },
  "language_info": {
   "codemirror_mode": {
    "name": "ipython",
    "version": 3
   },
   "file_extension": ".py",
   "mimetype": "text/x-python",
   "name": "python",
   "nbconvert_exporter": "python",
   "pygments_lexer": "ipython3",
   "version": "3.6.7"
  }
 },
 "nbformat": 4,
 "nbformat_minor": 2
}
