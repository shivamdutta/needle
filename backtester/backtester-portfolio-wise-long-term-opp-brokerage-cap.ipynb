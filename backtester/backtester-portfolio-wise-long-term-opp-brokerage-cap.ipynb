{
 "cells": [
  {
   "cell_type": "code",
   "execution_count": 1,
   "metadata": {},
   "outputs": [],
   "source": [
    "import pandas as pd\n",
    "import pickle\n",
    "import datetime as dt\n",
    "pd.set_option('display.max_columns', 500)\n",
    "pd.set_option('display.max_rows', 5000)"
   ]
  },
  {
   "cell_type": "code",
   "execution_count": 2,
   "metadata": {},
   "outputs": [],
   "source": [
    "#from LogIn import LogIn\n",
    "#kite = LogIn().return_kite_obj()"
   ]
  },
  {
   "cell_type": "code",
   "execution_count": 3,
   "metadata": {},
   "outputs": [],
   "source": [
    "budget_df = pd.read_csv('budget.csv')"
   ]
  },
  {
   "cell_type": "code",
   "execution_count": 4,
   "metadata": {},
   "outputs": [
    {
     "data": {
      "text/html": [
       "<div>\n",
       "<style scoped>\n",
       "    .dataframe tbody tr th:only-of-type {\n",
       "        vertical-align: middle;\n",
       "    }\n",
       "\n",
       "    .dataframe tbody tr th {\n",
       "        vertical-align: top;\n",
       "    }\n",
       "\n",
       "    .dataframe thead th {\n",
       "        text-align: right;\n",
       "    }\n",
       "</style>\n",
       "<table border=\"1\" class=\"dataframe\">\n",
       "  <thead>\n",
       "    <tr style=\"text-align: right;\">\n",
       "      <th></th>\n",
       "      <th>instrument</th>\n",
       "      <th>budget</th>\n",
       "      <th>return</th>\n",
       "    </tr>\n",
       "  </thead>\n",
       "  <tbody>\n",
       "    <tr>\n",
       "      <td>0</td>\n",
       "      <td>NSE:UNIONBANK</td>\n",
       "      <td>400</td>\n",
       "      <td>0.02</td>\n",
       "    </tr>\n",
       "    <tr>\n",
       "      <td>1</td>\n",
       "      <td>NSE:DCBBANK</td>\n",
       "      <td>400</td>\n",
       "      <td>0.02</td>\n",
       "    </tr>\n",
       "    <tr>\n",
       "      <td>2</td>\n",
       "      <td>NSE:YESBANK</td>\n",
       "      <td>400</td>\n",
       "      <td>0.02</td>\n",
       "    </tr>\n",
       "    <tr>\n",
       "      <td>3</td>\n",
       "      <td>NSE:WIPRO</td>\n",
       "      <td>400</td>\n",
       "      <td>0.02</td>\n",
       "    </tr>\n",
       "    <tr>\n",
       "      <td>4</td>\n",
       "      <td>NSE:TATASTEEL</td>\n",
       "      <td>400</td>\n",
       "      <td>0.02</td>\n",
       "    </tr>\n",
       "    <tr>\n",
       "      <td>5</td>\n",
       "      <td>NSE:SBIN</td>\n",
       "      <td>400</td>\n",
       "      <td>0.02</td>\n",
       "    </tr>\n",
       "    <tr>\n",
       "      <td>6</td>\n",
       "      <td>NSE:PNB</td>\n",
       "      <td>400</td>\n",
       "      <td>0.02</td>\n",
       "    </tr>\n",
       "    <tr>\n",
       "      <td>7</td>\n",
       "      <td>NSE:ONGC</td>\n",
       "      <td>400</td>\n",
       "      <td>0.02</td>\n",
       "    </tr>\n",
       "    <tr>\n",
       "      <td>8</td>\n",
       "      <td>NSE:OIL</td>\n",
       "      <td>400</td>\n",
       "      <td>0.02</td>\n",
       "    </tr>\n",
       "    <tr>\n",
       "      <td>9</td>\n",
       "      <td>NSE:NTPC</td>\n",
       "      <td>400</td>\n",
       "      <td>0.02</td>\n",
       "    </tr>\n",
       "    <tr>\n",
       "      <td>10</td>\n",
       "      <td>NSE:BEL</td>\n",
       "      <td>400</td>\n",
       "      <td>0.02</td>\n",
       "    </tr>\n",
       "    <tr>\n",
       "      <td>11</td>\n",
       "      <td>NSE:BIOCON</td>\n",
       "      <td>400</td>\n",
       "      <td>0.02</td>\n",
       "    </tr>\n",
       "    <tr>\n",
       "      <td>12</td>\n",
       "      <td>NSE:CANBK</td>\n",
       "      <td>400</td>\n",
       "      <td>0.02</td>\n",
       "    </tr>\n",
       "    <tr>\n",
       "      <td>13</td>\n",
       "      <td>NSE:CASTROLIND</td>\n",
       "      <td>400</td>\n",
       "      <td>0.02</td>\n",
       "    </tr>\n",
       "    <tr>\n",
       "      <td>14</td>\n",
       "      <td>NSE:CHOLAFIN</td>\n",
       "      <td>400</td>\n",
       "      <td>0.02</td>\n",
       "    </tr>\n",
       "    <tr>\n",
       "      <td>15</td>\n",
       "      <td>NSE:COALINDIA</td>\n",
       "      <td>400</td>\n",
       "      <td>0.02</td>\n",
       "    </tr>\n",
       "    <tr>\n",
       "      <td>16</td>\n",
       "      <td>NSE:ENGINERSIN</td>\n",
       "      <td>400</td>\n",
       "      <td>0.02</td>\n",
       "    </tr>\n",
       "    <tr>\n",
       "      <td>17</td>\n",
       "      <td>NSE:EXIDEIND</td>\n",
       "      <td>400</td>\n",
       "      <td>0.02</td>\n",
       "    </tr>\n",
       "    <tr>\n",
       "      <td>18</td>\n",
       "      <td>NSE:JSWSTEEL</td>\n",
       "      <td>400</td>\n",
       "      <td>0.02</td>\n",
       "    </tr>\n",
       "    <tr>\n",
       "      <td>19</td>\n",
       "      <td>NSE:MANAPPURAM</td>\n",
       "      <td>400</td>\n",
       "      <td>0.02</td>\n",
       "    </tr>\n",
       "    <tr>\n",
       "      <td>20</td>\n",
       "      <td>NSE:SAIL</td>\n",
       "      <td>400</td>\n",
       "      <td>0.02</td>\n",
       "    </tr>\n",
       "    <tr>\n",
       "      <td>21</td>\n",
       "      <td>NSE:RECLTD</td>\n",
       "      <td>400</td>\n",
       "      <td>0.02</td>\n",
       "    </tr>\n",
       "    <tr>\n",
       "      <td>22</td>\n",
       "      <td>NSE:NMDC</td>\n",
       "      <td>400</td>\n",
       "      <td>0.02</td>\n",
       "    </tr>\n",
       "    <tr>\n",
       "      <td>23</td>\n",
       "      <td>NSE:MFSL</td>\n",
       "      <td>500</td>\n",
       "      <td>0.02</td>\n",
       "    </tr>\n",
       "    <tr>\n",
       "      <td>24</td>\n",
       "      <td>NSE:IDBI</td>\n",
       "      <td>400</td>\n",
       "      <td>0.02</td>\n",
       "    </tr>\n",
       "    <tr>\n",
       "      <td>25</td>\n",
       "      <td>NSE:ARVIND</td>\n",
       "      <td>400</td>\n",
       "      <td>0.02</td>\n",
       "    </tr>\n",
       "    <tr>\n",
       "      <td>26</td>\n",
       "      <td>NSE:BHEL</td>\n",
       "      <td>400</td>\n",
       "      <td>0.02</td>\n",
       "    </tr>\n",
       "    <tr>\n",
       "      <td>27</td>\n",
       "      <td>NSE:TATAMTRDVR</td>\n",
       "      <td>400</td>\n",
       "      <td>0.02</td>\n",
       "    </tr>\n",
       "    <tr>\n",
       "      <td>28</td>\n",
       "      <td>NSE:TATAPOWER</td>\n",
       "      <td>400</td>\n",
       "      <td>0.02</td>\n",
       "    </tr>\n",
       "    <tr>\n",
       "      <td>29</td>\n",
       "      <td>NSE:ADANIPOWER</td>\n",
       "      <td>400</td>\n",
       "      <td>0.02</td>\n",
       "    </tr>\n",
       "    <tr>\n",
       "      <td>30</td>\n",
       "      <td>NSE:BSOFT</td>\n",
       "      <td>400</td>\n",
       "      <td>0.02</td>\n",
       "    </tr>\n",
       "    <tr>\n",
       "      <td>31</td>\n",
       "      <td>NSE:ASHOKLEY</td>\n",
       "      <td>400</td>\n",
       "      <td>0.02</td>\n",
       "    </tr>\n",
       "    <tr>\n",
       "      <td>32</td>\n",
       "      <td>NSE:NCC</td>\n",
       "      <td>400</td>\n",
       "      <td>0.02</td>\n",
       "    </tr>\n",
       "    <tr>\n",
       "      <td>33</td>\n",
       "      <td>NSE:BANKINDIA</td>\n",
       "      <td>400</td>\n",
       "      <td>0.02</td>\n",
       "    </tr>\n",
       "    <tr>\n",
       "      <td>34</td>\n",
       "      <td>NSE:FEDERALBNK</td>\n",
       "      <td>400</td>\n",
       "      <td>0.02</td>\n",
       "    </tr>\n",
       "    <tr>\n",
       "      <td>35</td>\n",
       "      <td>NSE:MOTHERSUMI</td>\n",
       "      <td>400</td>\n",
       "      <td>0.02</td>\n",
       "    </tr>\n",
       "    <tr>\n",
       "      <td>36</td>\n",
       "      <td>NSE:BANKBARODA</td>\n",
       "      <td>400</td>\n",
       "      <td>0.02</td>\n",
       "    </tr>\n",
       "    <tr>\n",
       "      <td>37</td>\n",
       "      <td>NSE:JINDALSTEL</td>\n",
       "      <td>400</td>\n",
       "      <td>0.02</td>\n",
       "    </tr>\n",
       "    <tr>\n",
       "      <td>38</td>\n",
       "      <td>NSE:L&amp;TFH</td>\n",
       "      <td>400</td>\n",
       "      <td>0.02</td>\n",
       "    </tr>\n",
       "    <tr>\n",
       "      <td>39</td>\n",
       "      <td>NSE:PFC</td>\n",
       "      <td>400</td>\n",
       "      <td>0.02</td>\n",
       "    </tr>\n",
       "    <tr>\n",
       "      <td>40</td>\n",
       "      <td>NSE:EQUITAS</td>\n",
       "      <td>400</td>\n",
       "      <td>0.02</td>\n",
       "    </tr>\n",
       "    <tr>\n",
       "      <td>41</td>\n",
       "      <td>NSE:TATAMOTORS</td>\n",
       "      <td>400</td>\n",
       "      <td>0.02</td>\n",
       "    </tr>\n",
       "    <tr>\n",
       "      <td>42</td>\n",
       "      <td>NSE:IOC</td>\n",
       "      <td>400</td>\n",
       "      <td>0.02</td>\n",
       "    </tr>\n",
       "    <tr>\n",
       "      <td>43</td>\n",
       "      <td>NSE:ADANIENT</td>\n",
       "      <td>400</td>\n",
       "      <td>0.02</td>\n",
       "    </tr>\n",
       "    <tr>\n",
       "      <td>44</td>\n",
       "      <td>NSE:GAIL</td>\n",
       "      <td>400</td>\n",
       "      <td>0.02</td>\n",
       "    </tr>\n",
       "    <tr>\n",
       "      <td>45</td>\n",
       "      <td>NSE:VEDL</td>\n",
       "      <td>400</td>\n",
       "      <td>0.02</td>\n",
       "    </tr>\n",
       "    <tr>\n",
       "      <td>46</td>\n",
       "      <td>NSE:APOLLOTYRE</td>\n",
       "      <td>400</td>\n",
       "      <td>0.02</td>\n",
       "    </tr>\n",
       "    <tr>\n",
       "      <td>47</td>\n",
       "      <td>NSE:DLF</td>\n",
       "      <td>400</td>\n",
       "      <td>0.02</td>\n",
       "    </tr>\n",
       "    <tr>\n",
       "      <td>48</td>\n",
       "      <td>NSE:HINDALCO</td>\n",
       "      <td>400</td>\n",
       "      <td>0.02</td>\n",
       "    </tr>\n",
       "    <tr>\n",
       "      <td>49</td>\n",
       "      <td>NSE:AMBUJACEM</td>\n",
       "      <td>400</td>\n",
       "      <td>0.02</td>\n",
       "    </tr>\n",
       "    <tr>\n",
       "      <td>50</td>\n",
       "      <td>NSE:HINDZINC</td>\n",
       "      <td>400</td>\n",
       "      <td>0.02</td>\n",
       "    </tr>\n",
       "    <tr>\n",
       "      <td>51</td>\n",
       "      <td>NSE:CADILAHC</td>\n",
       "      <td>400</td>\n",
       "      <td>0.02</td>\n",
       "    </tr>\n",
       "    <tr>\n",
       "      <td>52</td>\n",
       "      <td>NSE:POWERGRID</td>\n",
       "      <td>400</td>\n",
       "      <td>0.02</td>\n",
       "    </tr>\n",
       "    <tr>\n",
       "      <td>53</td>\n",
       "      <td>NSE:HINDPETRO</td>\n",
       "      <td>400</td>\n",
       "      <td>0.02</td>\n",
       "    </tr>\n",
       "    <tr>\n",
       "      <td>54</td>\n",
       "      <td>NSE:INFRATEL</td>\n",
       "      <td>400</td>\n",
       "      <td>0.02</td>\n",
       "    </tr>\n",
       "    <tr>\n",
       "      <td>55</td>\n",
       "      <td>NSE:ITC</td>\n",
       "      <td>400</td>\n",
       "      <td>0.02</td>\n",
       "    </tr>\n",
       "    <tr>\n",
       "      <td>56</td>\n",
       "      <td>NSE:PETRONET</td>\n",
       "      <td>400</td>\n",
       "      <td>0.02</td>\n",
       "    </tr>\n",
       "    <tr>\n",
       "      <td>57</td>\n",
       "      <td>NSE:TATAGLOBAL</td>\n",
       "      <td>400</td>\n",
       "      <td>0.02</td>\n",
       "    </tr>\n",
       "    <tr>\n",
       "      <td>58</td>\n",
       "      <td>NSE:UJJIVAN</td>\n",
       "      <td>400</td>\n",
       "      <td>0.02</td>\n",
       "    </tr>\n",
       "    <tr>\n",
       "      <td>59</td>\n",
       "      <td>NSE:TORNTPOWER</td>\n",
       "      <td>400</td>\n",
       "      <td>0.02</td>\n",
       "    </tr>\n",
       "    <tr>\n",
       "      <td>60</td>\n",
       "      <td>NSE:IGL</td>\n",
       "      <td>400</td>\n",
       "      <td>0.02</td>\n",
       "    </tr>\n",
       "    <tr>\n",
       "      <td>61</td>\n",
       "      <td>NSE:ADANIPORTS</td>\n",
       "      <td>400</td>\n",
       "      <td>0.02</td>\n",
       "    </tr>\n",
       "    <tr>\n",
       "      <td>62</td>\n",
       "      <td>NSE:BERGEPAINT</td>\n",
       "      <td>400</td>\n",
       "      <td>0.02</td>\n",
       "    </tr>\n",
       "    <tr>\n",
       "      <td>63</td>\n",
       "      <td>NSE:BPCL</td>\n",
       "      <td>400</td>\n",
       "      <td>0.02</td>\n",
       "    </tr>\n",
       "    <tr>\n",
       "      <td>64</td>\n",
       "      <td>NSE:ZEEL</td>\n",
       "      <td>400</td>\n",
       "      <td>0.02</td>\n",
       "    </tr>\n",
       "    <tr>\n",
       "      <td>65</td>\n",
       "      <td>NSE:GLENMARK</td>\n",
       "      <td>400</td>\n",
       "      <td>0.02</td>\n",
       "    </tr>\n",
       "    <tr>\n",
       "      <td>66</td>\n",
       "      <td>NSE:BHARTIARTL</td>\n",
       "      <td>400</td>\n",
       "      <td>0.02</td>\n",
       "    </tr>\n",
       "    <tr>\n",
       "      <td>67</td>\n",
       "      <td>NSE:TVSMOTOR</td>\n",
       "      <td>400</td>\n",
       "      <td>0.02</td>\n",
       "    </tr>\n",
       "    <tr>\n",
       "      <td>68</td>\n",
       "      <td>NSE:HEXAWARE</td>\n",
       "      <td>400</td>\n",
       "      <td>0.02</td>\n",
       "    </tr>\n",
       "    <tr>\n",
       "      <td>69</td>\n",
       "      <td>NSE:ICICIPRULI</td>\n",
       "      <td>400</td>\n",
       "      <td>0.02</td>\n",
       "    </tr>\n",
       "  </tbody>\n",
       "</table>\n",
       "</div>"
      ],
      "text/plain": [
       "        instrument  budget  return\n",
       "0    NSE:UNIONBANK     400    0.02\n",
       "1      NSE:DCBBANK     400    0.02\n",
       "2      NSE:YESBANK     400    0.02\n",
       "3        NSE:WIPRO     400    0.02\n",
       "4    NSE:TATASTEEL     400    0.02\n",
       "5         NSE:SBIN     400    0.02\n",
       "6          NSE:PNB     400    0.02\n",
       "7         NSE:ONGC     400    0.02\n",
       "8          NSE:OIL     400    0.02\n",
       "9         NSE:NTPC     400    0.02\n",
       "10         NSE:BEL     400    0.02\n",
       "11      NSE:BIOCON     400    0.02\n",
       "12       NSE:CANBK     400    0.02\n",
       "13  NSE:CASTROLIND     400    0.02\n",
       "14    NSE:CHOLAFIN     400    0.02\n",
       "15   NSE:COALINDIA     400    0.02\n",
       "16  NSE:ENGINERSIN     400    0.02\n",
       "17    NSE:EXIDEIND     400    0.02\n",
       "18    NSE:JSWSTEEL     400    0.02\n",
       "19  NSE:MANAPPURAM     400    0.02\n",
       "20        NSE:SAIL     400    0.02\n",
       "21      NSE:RECLTD     400    0.02\n",
       "22        NSE:NMDC     400    0.02\n",
       "23        NSE:MFSL     500    0.02\n",
       "24        NSE:IDBI     400    0.02\n",
       "25      NSE:ARVIND     400    0.02\n",
       "26        NSE:BHEL     400    0.02\n",
       "27  NSE:TATAMTRDVR     400    0.02\n",
       "28   NSE:TATAPOWER     400    0.02\n",
       "29  NSE:ADANIPOWER     400    0.02\n",
       "30       NSE:BSOFT     400    0.02\n",
       "31    NSE:ASHOKLEY     400    0.02\n",
       "32         NSE:NCC     400    0.02\n",
       "33   NSE:BANKINDIA     400    0.02\n",
       "34  NSE:FEDERALBNK     400    0.02\n",
       "35  NSE:MOTHERSUMI     400    0.02\n",
       "36  NSE:BANKBARODA     400    0.02\n",
       "37  NSE:JINDALSTEL     400    0.02\n",
       "38       NSE:L&TFH     400    0.02\n",
       "39         NSE:PFC     400    0.02\n",
       "40     NSE:EQUITAS     400    0.02\n",
       "41  NSE:TATAMOTORS     400    0.02\n",
       "42         NSE:IOC     400    0.02\n",
       "43    NSE:ADANIENT     400    0.02\n",
       "44        NSE:GAIL     400    0.02\n",
       "45        NSE:VEDL     400    0.02\n",
       "46  NSE:APOLLOTYRE     400    0.02\n",
       "47         NSE:DLF     400    0.02\n",
       "48    NSE:HINDALCO     400    0.02\n",
       "49   NSE:AMBUJACEM     400    0.02\n",
       "50    NSE:HINDZINC     400    0.02\n",
       "51    NSE:CADILAHC     400    0.02\n",
       "52   NSE:POWERGRID     400    0.02\n",
       "53   NSE:HINDPETRO     400    0.02\n",
       "54    NSE:INFRATEL     400    0.02\n",
       "55         NSE:ITC     400    0.02\n",
       "56    NSE:PETRONET     400    0.02\n",
       "57  NSE:TATAGLOBAL     400    0.02\n",
       "58     NSE:UJJIVAN     400    0.02\n",
       "59  NSE:TORNTPOWER     400    0.02\n",
       "60         NSE:IGL     400    0.02\n",
       "61  NSE:ADANIPORTS     400    0.02\n",
       "62  NSE:BERGEPAINT     400    0.02\n",
       "63        NSE:BPCL     400    0.02\n",
       "64        NSE:ZEEL     400    0.02\n",
       "65    NSE:GLENMARK     400    0.02\n",
       "66  NSE:BHARTIARTL     400    0.02\n",
       "67    NSE:TVSMOTOR     400    0.02\n",
       "68    NSE:HEXAWARE     400    0.02\n",
       "69  NSE:ICICIPRULI     400    0.02"
      ]
     },
     "execution_count": 4,
     "metadata": {},
     "output_type": "execute_result"
    }
   ],
   "source": [
    "budget_df"
   ]
  },
  {
   "cell_type": "markdown",
   "metadata": {},
   "source": [
    "# Inputs"
   ]
  },
  {
   "cell_type": "code",
   "execution_count": 5,
   "metadata": {},
   "outputs": [],
   "source": [
    "from_year = 2015\n",
    "to_year = 2018"
   ]
  },
  {
   "cell_type": "code",
   "execution_count": 6,
   "metadata": {},
   "outputs": [],
   "source": [
    "leverage = 15\n",
    "exit_time = dt.time(15, 10)"
   ]
  },
  {
   "cell_type": "markdown",
   "metadata": {},
   "source": [
    "# Process"
   ]
  },
  {
   "cell_type": "code",
   "execution_count": 7,
   "metadata": {
    "scrolled": true
   },
   "outputs": [],
   "source": [
    "# Download data of all companies\n",
    "download = False\n",
    "\n",
    "if download:\n",
    "    \n",
    "    for year in range(from_year, to_year+1):\n",
    "        \n",
    "        from_date = '{}-01-01'.format(year)\n",
    "        to_date = '{}-12-31'.format(year)\n",
    "        print(from_date, to_date)\n",
    "        for instrument in budget_df.instrument.tolist():\n",
    "\n",
    "            try:\n",
    "                print('------------')\n",
    "                print(instrument)\n",
    "                instrument_token = kite.ohlc(instrument)[instrument]['instrument_token']\n",
    "                data = kite.historical_data(instrument_token=instrument_token, from_date=from_date, to_date=to_date, interval='minute', continuous=False)\n",
    "                data_df = pd.DataFrame(data)\n",
    "                data_df.to_pickle('./data/{}_{}_{}.pkl'.format(instrument, from_date, to_date))\n",
    "\n",
    "            except Exception as ex:\n",
    "                print('Failed for {} : {}'.format(instrument, ex))"
   ]
  },
  {
   "cell_type": "code",
   "execution_count": 8,
   "metadata": {},
   "outputs": [],
   "source": [
    "def get_clean_data(instrument, from_year, to_year):\n",
    "    \n",
    "    print(instrument)\n",
    "    \n",
    "    all_data_df = pd.DataFrame()\n",
    "    \n",
    "    for year in range(from_year, to_year+1):\n",
    "        \n",
    "        #print(year)\n",
    "        \n",
    "        from_date = '{}-01-01'.format(year)\n",
    "        to_date = '{}-12-31'.format(year)\n",
    "        \n",
    "        data_df = pd.read_pickle('./data/{}_{}_{}.pkl'.format(instrument, from_date, to_date))\n",
    "        data_df.rename(columns={'date':'timestamp'}, inplace=True)\n",
    "        data_df['date'] = data_df['timestamp'].dt.date\n",
    "        data_df['day'] = data_df['timestamp'].dt.day_name()\n",
    "        #print(len(data_df))\n",
    "\n",
    "        sanity_check = data_df.groupby('date').count().reset_index()\n",
    "        incomplete_data_days = sanity_check[sanity_check['volume']<300]\n",
    "        #print(incomplete_data_days)\n",
    "\n",
    "        data_df = data_df[~data_df['date'].isin(incomplete_data_days.date.tolist())]\n",
    "        data_df['instrument'] = instrument\n",
    "        #print(len(data_df)/375)\n",
    "        \n",
    "        all_data_df = all_data_df.append(data_df, ignore_index=True)\n",
    "        \n",
    "    return all_data_df"
   ]
  },
  {
   "cell_type": "code",
   "execution_count": 9,
   "metadata": {},
   "outputs": [],
   "source": [
    "header_list = ['instrument', 'high_prev', 'low_prev', 'open_today', 'condition', 'transaction_type', 'trade_number', 'level', 'budget', 'return', 'daily_khwab', 'actual_khwab', 'quantity', 'budget_required', 'price', 'trigger_price', 'squareoff', 'stoploss', 'order_id', 'timestamp', 'order_type', 'status', 'profit', 'pl_tag', 'flag', 'adhoora_khwab']\n"
   ]
  },
  {
   "cell_type": "code",
   "execution_count": 10,
   "metadata": {
    "scrolled": true
   },
   "outputs": [
    {
     "name": "stdout",
     "output_type": "stream",
     "text": [
      "NSE:UNIONBANK\n",
      "962\n",
      "NSE:DCBBANK\n",
      "962\n",
      "NSE:YESBANK\n",
      "962\n",
      "NSE:WIPRO\n",
      "962\n",
      "NSE:TATASTEEL\n",
      "962\n",
      "NSE:SBIN\n",
      "962\n",
      "NSE:PNB\n",
      "962\n",
      "NSE:ONGC\n",
      "962\n",
      "NSE:OIL\n",
      "962\n",
      "NSE:NTPC\n",
      "962\n",
      "NSE:BEL\n",
      "962\n",
      "NSE:BIOCON\n",
      "962\n",
      "NSE:CANBK\n",
      "962\n",
      "NSE:CASTROLIND\n",
      "962\n",
      "NSE:CHOLAFIN\n",
      "962\n",
      "NSE:COALINDIA\n",
      "962\n",
      "NSE:ENGINERSIN\n",
      "962\n",
      "NSE:EXIDEIND\n",
      "962\n",
      "NSE:JSWSTEEL\n",
      "962\n",
      "NSE:MANAPPURAM\n",
      "962\n",
      "NSE:SAIL\n",
      "962\n",
      "NSE:RECLTD\n",
      "962\n",
      "NSE:NMDC\n",
      "962\n",
      "NSE:MFSL\n",
      "952\n",
      "NSE:IDBI\n",
      "962\n",
      "NSE:ARVIND\n",
      "962\n",
      "NSE:BHEL\n",
      "962\n",
      "NSE:TATAMTRDVR\n",
      "962\n",
      "NSE:TATAPOWER\n",
      "962\n",
      "NSE:ADANIPOWER\n",
      "962\n",
      "NSE:BSOFT\n",
      "962\n",
      "NSE:ASHOKLEY\n",
      "962\n",
      "NSE:NCC\n",
      "962\n",
      "NSE:BANKINDIA\n",
      "962\n",
      "NSE:FEDERALBNK\n",
      "962\n",
      "NSE:MOTHERSUMI\n",
      "962\n",
      "NSE:BANKBARODA\n",
      "962\n",
      "NSE:JINDALSTEL\n",
      "962\n",
      "NSE:L&TFH\n",
      "962\n",
      "NSE:PFC\n",
      "962\n",
      "NSE:EQUITAS\n",
      "error NSE:EQUITAS\n",
      "NSE:TATAMOTORS\n",
      "962\n",
      "NSE:IOC\n",
      "962\n",
      "NSE:ADANIENT\n",
      "962\n",
      "NSE:GAIL\n",
      "962\n",
      "NSE:VEDL\n",
      "962\n",
      "NSE:APOLLOTYRE\n",
      "962\n",
      "NSE:DLF\n",
      "962\n",
      "NSE:HINDALCO\n",
      "962\n",
      "NSE:AMBUJACEM\n",
      "962\n",
      "NSE:HINDZINC\n",
      "962\n",
      "NSE:CADILAHC\n",
      "962\n",
      "NSE:POWERGRID\n",
      "962\n",
      "NSE:HINDPETRO\n",
      "962\n",
      "NSE:INFRATEL\n",
      "962\n",
      "NSE:ITC\n",
      "962\n",
      "NSE:PETRONET\n",
      "962\n",
      "NSE:TATAGLOBAL\n",
      "962\n",
      "NSE:UJJIVAN\n",
      "error NSE:UJJIVAN\n",
      "NSE:TORNTPOWER\n",
      "962\n",
      "NSE:IGL\n",
      "962\n",
      "NSE:ADANIPORTS\n",
      "962\n",
      "NSE:BERGEPAINT\n",
      "962\n",
      "NSE:BPCL\n",
      "962\n",
      "NSE:ZEEL\n",
      "962\n",
      "NSE:GLENMARK\n",
      "error NSE:GLENMARK\n",
      "NSE:BHARTIARTL\n",
      "962\n",
      "NSE:TVSMOTOR\n",
      "962\n",
      "NSE:HEXAWARE\n",
      "962\n",
      "NSE:ICICIPRULI\n",
      "error NSE:ICICIPRULI\n"
     ]
    }
   ],
   "source": [
    "for instrument in budget_df.instrument.tolist():\n",
    "    try:\n",
    "        d = get_clean_data(instrument, from_year, to_year)\n",
    "        print(len(d.date.unique()))\n",
    "    except:\n",
    "        print('error', instrument)"
   ]
  },
  {
   "cell_type": "code",
   "execution_count": null,
   "metadata": {
    "scrolled": true
   },
   "outputs": [
    {
     "name": "stdout",
     "output_type": "stream",
     "text": [
      "NSE:UNIONBANK\n",
      "NSE:DCBBANK\n"
     ]
    },
    {
     "name": "stderr",
     "output_type": "stream",
     "text": [
      "/anaconda3/lib/python3.7/site-packages/pandas/core/frame.py:7123: FutureWarning: Sorting because non-concatenation axis is not aligned. A future version\n",
      "of pandas will change to not sort by default.\n",
      "\n",
      "To accept the future behavior, pass 'sort=False'.\n",
      "\n",
      "To retain the current behavior and silence the warning, pass 'sort=True'.\n",
      "\n",
      "  sort=sort,\n"
     ]
    },
    {
     "name": "stdout",
     "output_type": "stream",
     "text": [
      "NSE:YESBANK\n",
      "NSE:WIPRO\n",
      "NSE:TATASTEEL\n",
      "NSE:SBIN\n",
      "NSE:PNB\n",
      "NSE:ONGC\n",
      "NSE:OIL\n",
      "NSE:NTPC\n",
      "NSE:BEL\n",
      "NSE:BIOCON\n",
      "NSE:CANBK\n"
     ]
    },
    {
     "name": "stderr",
     "output_type": "stream",
     "text": [
      "/anaconda3/lib/python3.7/site-packages/pandas/core/frame.py:7123: FutureWarning: Sorting because non-concatenation axis is not aligned. A future version\n",
      "of pandas will change to not sort by default.\n",
      "\n",
      "To accept the future behavior, pass 'sort=False'.\n",
      "\n",
      "To retain the current behavior and silence the warning, pass 'sort=True'.\n",
      "\n",
      "  sort=sort,\n"
     ]
    },
    {
     "name": "stdout",
     "output_type": "stream",
     "text": [
      "NSE:CASTROLIND\n",
      "NSE:CHOLAFIN\n",
      "NSE:COALINDIA\n",
      "NSE:ENGINERSIN\n",
      "NSE:EXIDEIND\n",
      "NSE:JSWSTEEL\n",
      "NSE:MANAPPURAM\n"
     ]
    },
    {
     "name": "stderr",
     "output_type": "stream",
     "text": [
      "/anaconda3/lib/python3.7/site-packages/pandas/core/frame.py:7123: FutureWarning: Sorting because non-concatenation axis is not aligned. A future version\n",
      "of pandas will change to not sort by default.\n",
      "\n",
      "To accept the future behavior, pass 'sort=False'.\n",
      "\n",
      "To retain the current behavior and silence the warning, pass 'sort=True'.\n",
      "\n",
      "  sort=sort,\n"
     ]
    },
    {
     "name": "stdout",
     "output_type": "stream",
     "text": [
      "NSE:SAIL\n",
      "NSE:RECLTD\n"
     ]
    },
    {
     "name": "stderr",
     "output_type": "stream",
     "text": [
      "/anaconda3/lib/python3.7/site-packages/pandas/core/frame.py:7123: FutureWarning: Sorting because non-concatenation axis is not aligned. A future version\n",
      "of pandas will change to not sort by default.\n",
      "\n",
      "To accept the future behavior, pass 'sort=False'.\n",
      "\n",
      "To retain the current behavior and silence the warning, pass 'sort=True'.\n",
      "\n",
      "  sort=sort,\n"
     ]
    },
    {
     "name": "stdout",
     "output_type": "stream",
     "text": [
      "NSE:NMDC\n",
      "NSE:MFSL\n",
      "NSE:IDBI\n",
      "NSE:ARVIND\n",
      "NSE:BHEL\n",
      "NSE:TATAMTRDVR\n",
      "NSE:TATAPOWER\n",
      "NSE:ADANIPOWER\n",
      "NSE:BSOFT\n",
      "NSE:ASHOKLEY\n",
      "NSE:NCC\n",
      "NSE:BANKINDIA\n",
      "NSE:FEDERALBNK\n"
     ]
    },
    {
     "name": "stderr",
     "output_type": "stream",
     "text": [
      "/anaconda3/lib/python3.7/site-packages/pandas/core/frame.py:7123: FutureWarning: Sorting because non-concatenation axis is not aligned. A future version\n",
      "of pandas will change to not sort by default.\n",
      "\n",
      "To accept the future behavior, pass 'sort=False'.\n",
      "\n",
      "To retain the current behavior and silence the warning, pass 'sort=True'.\n",
      "\n",
      "  sort=sort,\n"
     ]
    },
    {
     "name": "stdout",
     "output_type": "stream",
     "text": [
      "NSE:MOTHERSUMI\n",
      "NSE:BANKBARODA\n",
      "NSE:JINDALSTEL\n",
      "NSE:L&TFH\n"
     ]
    },
    {
     "name": "stderr",
     "output_type": "stream",
     "text": [
      "/anaconda3/lib/python3.7/site-packages/pandas/core/frame.py:7123: FutureWarning: Sorting because non-concatenation axis is not aligned. A future version\n",
      "of pandas will change to not sort by default.\n",
      "\n",
      "To accept the future behavior, pass 'sort=False'.\n",
      "\n",
      "To retain the current behavior and silence the warning, pass 'sort=True'.\n",
      "\n",
      "  sort=sort,\n"
     ]
    },
    {
     "name": "stdout",
     "output_type": "stream",
     "text": [
      "NSE:PFC\n"
     ]
    },
    {
     "name": "stderr",
     "output_type": "stream",
     "text": [
      "/anaconda3/lib/python3.7/site-packages/pandas/core/frame.py:7123: FutureWarning: Sorting because non-concatenation axis is not aligned. A future version\n",
      "of pandas will change to not sort by default.\n",
      "\n",
      "To accept the future behavior, pass 'sort=False'.\n",
      "\n",
      "To retain the current behavior and silence the warning, pass 'sort=True'.\n",
      "\n",
      "  sort=sort,\n"
     ]
    },
    {
     "name": "stdout",
     "output_type": "stream",
     "text": [
      "NSE:EQUITAS\n",
      "NSE:EQUITAS 'timestamp'\n",
      "NSE:TATAMOTORS\n"
     ]
    },
    {
     "name": "stderr",
     "output_type": "stream",
     "text": [
      "/anaconda3/lib/python3.7/site-packages/pandas/core/frame.py:7123: FutureWarning: Sorting because non-concatenation axis is not aligned. A future version\n",
      "of pandas will change to not sort by default.\n",
      "\n",
      "To accept the future behavior, pass 'sort=False'.\n",
      "\n",
      "To retain the current behavior and silence the warning, pass 'sort=True'.\n",
      "\n",
      "  sort=sort,\n"
     ]
    },
    {
     "name": "stdout",
     "output_type": "stream",
     "text": [
      "NSE:IOC\n",
      "NSE:ADANIENT\n",
      "NSE:GAIL\n",
      "NSE:VEDL\n",
      "NSE:APOLLOTYRE\n",
      "NSE:DLF\n",
      "NSE:HINDALCO\n"
     ]
    },
    {
     "name": "stderr",
     "output_type": "stream",
     "text": [
      "/anaconda3/lib/python3.7/site-packages/pandas/core/frame.py:7123: FutureWarning: Sorting because non-concatenation axis is not aligned. A future version\n",
      "of pandas will change to not sort by default.\n",
      "\n",
      "To accept the future behavior, pass 'sort=False'.\n",
      "\n",
      "To retain the current behavior and silence the warning, pass 'sort=True'.\n",
      "\n",
      "  sort=sort,\n"
     ]
    },
    {
     "name": "stdout",
     "output_type": "stream",
     "text": [
      "NSE:AMBUJACEM\n",
      "NSE:HINDZINC\n",
      "NSE:CADILAHC\n",
      "NSE:POWERGRID\n",
      "NSE:HINDPETRO\n",
      "NSE:INFRATEL\n"
     ]
    },
    {
     "name": "stderr",
     "output_type": "stream",
     "text": [
      "/anaconda3/lib/python3.7/site-packages/pandas/core/frame.py:7123: FutureWarning: Sorting because non-concatenation axis is not aligned. A future version\n",
      "of pandas will change to not sort by default.\n",
      "\n",
      "To accept the future behavior, pass 'sort=False'.\n",
      "\n",
      "To retain the current behavior and silence the warning, pass 'sort=True'.\n",
      "\n",
      "  sort=sort,\n"
     ]
    },
    {
     "name": "stdout",
     "output_type": "stream",
     "text": [
      "NSE:ITC\n",
      "NSE:PETRONET\n",
      "NSE:TATAGLOBAL\n",
      "NSE:UJJIVAN\n",
      "NSE:UJJIVAN 'timestamp'\n",
      "NSE:TORNTPOWER\n",
      "NSE:IGL\n",
      "NSE:ADANIPORTS\n",
      "NSE:BERGEPAINT\n",
      "NSE:BPCL\n",
      "NSE:ZEEL\n",
      "NSE:GLENMARK\n",
      "NSE:GLENMARK 'DataFrame' object has no attribute 'dt'\n",
      "NSE:BHARTIARTL\n",
      "NSE:TVSMOTOR\n",
      "NSE:HEXAWARE\n"
     ]
    },
    {
     "name": "stderr",
     "output_type": "stream",
     "text": [
      "/anaconda3/lib/python3.7/site-packages/pandas/core/frame.py:7123: FutureWarning: Sorting because non-concatenation axis is not aligned. A future version\n",
      "of pandas will change to not sort by default.\n",
      "\n",
      "To accept the future behavior, pass 'sort=False'.\n",
      "\n",
      "To retain the current behavior and silence the warning, pass 'sort=True'.\n",
      "\n",
      "  sort=sort,\n"
     ]
    },
    {
     "name": "stdout",
     "output_type": "stream",
     "text": [
      "NSE:ICICIPRULI\n",
      "NSE:ICICIPRULI 'timestamp'\n",
      "NSE:UNIONBANK\n",
      "NSE:DCBBANK\n",
      "NSE:YESBANK\n",
      "NSE:WIPRO\n",
      "NSE:TATASTEEL\n",
      "NSE:SBIN\n",
      "NSE:PNB\n",
      "NSE:ONGC\n"
     ]
    },
    {
     "name": "stderr",
     "output_type": "stream",
     "text": [
      "/anaconda3/lib/python3.7/site-packages/pandas/core/frame.py:7123: FutureWarning: Sorting because non-concatenation axis is not aligned. A future version\n",
      "of pandas will change to not sort by default.\n",
      "\n",
      "To accept the future behavior, pass 'sort=False'.\n",
      "\n",
      "To retain the current behavior and silence the warning, pass 'sort=True'.\n",
      "\n",
      "  sort=sort,\n"
     ]
    },
    {
     "name": "stdout",
     "output_type": "stream",
     "text": [
      "NSE:OIL\n"
     ]
    },
    {
     "name": "stderr",
     "output_type": "stream",
     "text": [
      "/anaconda3/lib/python3.7/site-packages/pandas/core/frame.py:7123: FutureWarning: Sorting because non-concatenation axis is not aligned. A future version\n",
      "of pandas will change to not sort by default.\n",
      "\n",
      "To accept the future behavior, pass 'sort=False'.\n",
      "\n",
      "To retain the current behavior and silence the warning, pass 'sort=True'.\n",
      "\n",
      "  sort=sort,\n"
     ]
    },
    {
     "name": "stdout",
     "output_type": "stream",
     "text": [
      "NSE:NTPC\n",
      "NSE:BEL\n"
     ]
    },
    {
     "name": "stderr",
     "output_type": "stream",
     "text": [
      "/anaconda3/lib/python3.7/site-packages/pandas/core/frame.py:7123: FutureWarning: Sorting because non-concatenation axis is not aligned. A future version\n",
      "of pandas will change to not sort by default.\n",
      "\n",
      "To accept the future behavior, pass 'sort=False'.\n",
      "\n",
      "To retain the current behavior and silence the warning, pass 'sort=True'.\n",
      "\n",
      "  sort=sort,\n"
     ]
    },
    {
     "name": "stdout",
     "output_type": "stream",
     "text": [
      "NSE:BIOCON\n",
      "NSE:CANBK\n",
      "NSE:CASTROLIND\n",
      "NSE:CHOLAFIN\n",
      "NSE:COALINDIA\n",
      "NSE:ENGINERSIN\n",
      "NSE:EXIDEIND\n",
      "NSE:JSWSTEEL\n",
      "NSE:MANAPPURAM\n",
      "NSE:SAIL\n",
      "NSE:RECLTD\n",
      "NSE:NMDC\n",
      "NSE:MFSL\n",
      "NSE:IDBI\n",
      "NSE:ARVIND\n",
      "NSE:BHEL\n"
     ]
    },
    {
     "name": "stderr",
     "output_type": "stream",
     "text": [
      "/anaconda3/lib/python3.7/site-packages/pandas/core/frame.py:7123: FutureWarning: Sorting because non-concatenation axis is not aligned. A future version\n",
      "of pandas will change to not sort by default.\n",
      "\n",
      "To accept the future behavior, pass 'sort=False'.\n",
      "\n",
      "To retain the current behavior and silence the warning, pass 'sort=True'.\n",
      "\n",
      "  sort=sort,\n"
     ]
    },
    {
     "name": "stdout",
     "output_type": "stream",
     "text": [
      "NSE:TATAMTRDVR\n",
      "NSE:TATAPOWER\n",
      "NSE:ADANIPOWER\n",
      "NSE:BSOFT\n",
      "NSE:ASHOKLEY\n",
      "NSE:NCC\n",
      "NSE:BANKINDIA\n",
      "NSE:FEDERALBNK\n",
      "NSE:MOTHERSUMI\n",
      "NSE:BANKBARODA\n",
      "NSE:JINDALSTEL\n"
     ]
    },
    {
     "name": "stderr",
     "output_type": "stream",
     "text": [
      "/anaconda3/lib/python3.7/site-packages/pandas/core/frame.py:7123: FutureWarning: Sorting because non-concatenation axis is not aligned. A future version\n",
      "of pandas will change to not sort by default.\n",
      "\n",
      "To accept the future behavior, pass 'sort=False'.\n",
      "\n",
      "To retain the current behavior and silence the warning, pass 'sort=True'.\n",
      "\n",
      "  sort=sort,\n"
     ]
    },
    {
     "name": "stdout",
     "output_type": "stream",
     "text": [
      "NSE:L&TFH\n",
      "NSE:PFC\n",
      "NSE:EQUITAS\n",
      "NSE:EQUITAS 'timestamp'\n",
      "NSE:TATAMOTORS\n",
      "NSE:IOC\n"
     ]
    },
    {
     "name": "stderr",
     "output_type": "stream",
     "text": [
      "/anaconda3/lib/python3.7/site-packages/pandas/core/frame.py:7123: FutureWarning: Sorting because non-concatenation axis is not aligned. A future version\n",
      "of pandas will change to not sort by default.\n",
      "\n",
      "To accept the future behavior, pass 'sort=False'.\n",
      "\n",
      "To retain the current behavior and silence the warning, pass 'sort=True'.\n",
      "\n",
      "  sort=sort,\n"
     ]
    },
    {
     "name": "stdout",
     "output_type": "stream",
     "text": [
      "NSE:ADANIENT\n",
      "NSE:GAIL\n"
     ]
    },
    {
     "name": "stderr",
     "output_type": "stream",
     "text": [
      "/anaconda3/lib/python3.7/site-packages/pandas/core/frame.py:7123: FutureWarning: Sorting because non-concatenation axis is not aligned. A future version\n",
      "of pandas will change to not sort by default.\n",
      "\n",
      "To accept the future behavior, pass 'sort=False'.\n",
      "\n",
      "To retain the current behavior and silence the warning, pass 'sort=True'.\n",
      "\n",
      "  sort=sort,\n"
     ]
    },
    {
     "name": "stdout",
     "output_type": "stream",
     "text": [
      "NSE:VEDL\n"
     ]
    },
    {
     "name": "stderr",
     "output_type": "stream",
     "text": [
      "/anaconda3/lib/python3.7/site-packages/pandas/core/frame.py:7123: FutureWarning: Sorting because non-concatenation axis is not aligned. A future version\n",
      "of pandas will change to not sort by default.\n",
      "\n",
      "To accept the future behavior, pass 'sort=False'.\n",
      "\n",
      "To retain the current behavior and silence the warning, pass 'sort=True'.\n",
      "\n",
      "  sort=sort,\n"
     ]
    },
    {
     "name": "stdout",
     "output_type": "stream",
     "text": [
      "NSE:APOLLOTYRE\n",
      "NSE:DLF\n",
      "NSE:HINDALCO\n",
      "NSE:AMBUJACEM\n",
      "NSE:HINDZINC\n",
      "NSE:CADILAHC\n",
      "NSE:POWERGRID\n",
      "NSE:HINDPETRO\n",
      "NSE:INFRATEL\n",
      "NSE:ITC\n"
     ]
    },
    {
     "name": "stderr",
     "output_type": "stream",
     "text": [
      "/anaconda3/lib/python3.7/site-packages/pandas/core/frame.py:7123: FutureWarning: Sorting because non-concatenation axis is not aligned. A future version\n",
      "of pandas will change to not sort by default.\n",
      "\n",
      "To accept the future behavior, pass 'sort=False'.\n",
      "\n",
      "To retain the current behavior and silence the warning, pass 'sort=True'.\n",
      "\n",
      "  sort=sort,\n"
     ]
    },
    {
     "name": "stdout",
     "output_type": "stream",
     "text": [
      "NSE:PETRONET\n",
      "NSE:TATAGLOBAL\n",
      "NSE:UJJIVAN\n",
      "NSE:UJJIVAN 'timestamp'\n",
      "NSE:TORNTPOWER\n",
      "NSE:IGL\n",
      "NSE:ADANIPORTS\n",
      "NSE:BERGEPAINT\n",
      "NSE:BPCL\n",
      "NSE:ZEEL\n",
      "NSE:GLENMARK\n",
      "NSE:GLENMARK 'DataFrame' object has no attribute 'dt'\n",
      "NSE:BHARTIARTL\n"
     ]
    },
    {
     "name": "stderr",
     "output_type": "stream",
     "text": [
      "/anaconda3/lib/python3.7/site-packages/pandas/core/frame.py:7123: FutureWarning: Sorting because non-concatenation axis is not aligned. A future version\n",
      "of pandas will change to not sort by default.\n",
      "\n",
      "To accept the future behavior, pass 'sort=False'.\n",
      "\n",
      "To retain the current behavior and silence the warning, pass 'sort=True'.\n",
      "\n",
      "  sort=sort,\n"
     ]
    },
    {
     "name": "stdout",
     "output_type": "stream",
     "text": [
      "NSE:TVSMOTOR\n",
      "NSE:HEXAWARE\n",
      "NSE:ICICIPRULI\n",
      "NSE:ICICIPRULI 'timestamp'\n",
      "NSE:UNIONBANK\n",
      "NSE:DCBBANK\n",
      "NSE:YESBANK\n",
      "NSE:WIPRO\n",
      "NSE:TATASTEEL\n",
      "NSE:SBIN\n",
      "NSE:PNB\n",
      "NSE:ONGC\n",
      "NSE:OIL\n",
      "NSE:NTPC\n",
      "NSE:BEL\n",
      "NSE:BIOCON\n",
      "NSE:CANBK\n",
      "NSE:CASTROLIND\n",
      "NSE:CHOLAFIN\n",
      "NSE:COALINDIA\n",
      "NSE:ENGINERSIN\n",
      "NSE:EXIDEIND\n",
      "NSE:JSWSTEEL\n",
      "NSE:MANAPPURAM\n",
      "NSE:SAIL\n",
      "NSE:RECLTD\n",
      "NSE:NMDC\n",
      "NSE:MFSL\n",
      "NSE:IDBI\n",
      "NSE:ARVIND\n",
      "NSE:BHEL\n",
      "NSE:TATAMTRDVR\n",
      "NSE:TATAPOWER\n",
      "NSE:ADANIPOWER\n",
      "NSE:BSOFT\n",
      "NSE:ASHOKLEY\n",
      "NSE:NCC\n",
      "NSE:BANKINDIA\n",
      "NSE:FEDERALBNK\n",
      "NSE:MOTHERSUMI\n",
      "NSE:BANKBARODA\n",
      "NSE:JINDALSTEL\n",
      "NSE:L&TFH\n",
      "NSE:PFC\n",
      "NSE:EQUITAS\n",
      "NSE:EQUITAS 'timestamp'\n",
      "NSE:TATAMOTORS\n",
      "NSE:IOC\n",
      "NSE:ADANIENT\n",
      "NSE:GAIL\n",
      "NSE:VEDL\n",
      "NSE:APOLLOTYRE\n",
      "NSE:DLF\n",
      "NSE:HINDALCO\n",
      "NSE:AMBUJACEM\n",
      "NSE:HINDZINC\n",
      "NSE:CADILAHC\n",
      "NSE:POWERGRID\n",
      "NSE:HINDPETRO\n",
      "NSE:INFRATEL\n",
      "NSE:ITC\n",
      "NSE:PETRONET\n",
      "NSE:TATAGLOBAL\n",
      "NSE:UJJIVAN\n",
      "NSE:UJJIVAN 'timestamp'\n",
      "NSE:TORNTPOWER\n",
      "NSE:IGL\n",
      "NSE:ADANIPORTS\n",
      "NSE:BERGEPAINT\n",
      "NSE:BPCL\n",
      "NSE:ZEEL\n",
      "NSE:GLENMARK\n",
      "NSE:GLENMARK 'DataFrame' object has no attribute 'dt'\n",
      "NSE:BHARTIARTL\n",
      "NSE:TVSMOTOR\n",
      "NSE:HEXAWARE\n",
      "NSE:ICICIPRULI\n",
      "NSE:ICICIPRULI 'timestamp'\n",
      "NSE:UNIONBANK\n",
      "NSE:DCBBANK\n",
      "NSE:YESBANK\n",
      "NSE:WIPRO\n",
      "NSE:TATASTEEL\n",
      "NSE:SBIN\n",
      "NSE:PNB\n",
      "NSE:ONGC\n",
      "NSE:OIL\n",
      "NSE:NTPC\n",
      "NSE:BEL\n",
      "NSE:BIOCON\n",
      "NSE:CANBK\n",
      "NSE:CASTROLIND\n",
      "NSE:CHOLAFIN\n",
      "NSE:COALINDIA\n",
      "NSE:ENGINERSIN\n",
      "NSE:EXIDEIND\n",
      "NSE:JSWSTEEL\n",
      "NSE:MANAPPURAM\n",
      "NSE:SAIL\n",
      "NSE:RECLTD\n",
      "NSE:NMDC\n",
      "NSE:MFSL\n",
      "NSE:IDBI\n"
     ]
    },
    {
     "name": "stderr",
     "output_type": "stream",
     "text": [
      "/anaconda3/lib/python3.7/site-packages/pandas/core/frame.py:7123: FutureWarning: Sorting because non-concatenation axis is not aligned. A future version\n",
      "of pandas will change to not sort by default.\n",
      "\n",
      "To accept the future behavior, pass 'sort=False'.\n",
      "\n",
      "To retain the current behavior and silence the warning, pass 'sort=True'.\n",
      "\n",
      "  sort=sort,\n"
     ]
    },
    {
     "name": "stdout",
     "output_type": "stream",
     "text": [
      "NSE:ARVIND\n",
      "NSE:BHEL\n",
      "NSE:TATAMTRDVR\n"
     ]
    },
    {
     "name": "stderr",
     "output_type": "stream",
     "text": [
      "/anaconda3/lib/python3.7/site-packages/pandas/core/frame.py:7123: FutureWarning: Sorting because non-concatenation axis is not aligned. A future version\n",
      "of pandas will change to not sort by default.\n",
      "\n",
      "To accept the future behavior, pass 'sort=False'.\n",
      "\n",
      "To retain the current behavior and silence the warning, pass 'sort=True'.\n",
      "\n",
      "  sort=sort,\n"
     ]
    },
    {
     "name": "stdout",
     "output_type": "stream",
     "text": [
      "NSE:TATAPOWER\n",
      "NSE:ADANIPOWER\n",
      "NSE:BSOFT\n",
      "NSE:ASHOKLEY\n",
      "NSE:NCC\n",
      "NSE:BANKINDIA\n",
      "NSE:FEDERALBNK\n",
      "NSE:MOTHERSUMI\n",
      "NSE:BANKBARODA\n",
      "NSE:JINDALSTEL\n",
      "NSE:L&TFH\n",
      "NSE:PFC\n",
      "NSE:EQUITAS\n",
      "NSE:EQUITAS 'timestamp'\n",
      "NSE:TATAMOTORS\n"
     ]
    },
    {
     "name": "stderr",
     "output_type": "stream",
     "text": [
      "/anaconda3/lib/python3.7/site-packages/pandas/core/frame.py:7123: FutureWarning: Sorting because non-concatenation axis is not aligned. A future version\n",
      "of pandas will change to not sort by default.\n",
      "\n",
      "To accept the future behavior, pass 'sort=False'.\n",
      "\n",
      "To retain the current behavior and silence the warning, pass 'sort=True'.\n",
      "\n",
      "  sort=sort,\n"
     ]
    },
    {
     "name": "stdout",
     "output_type": "stream",
     "text": [
      "NSE:IOC\n",
      "NSE:ADANIENT\n",
      "NSE:GAIL\n",
      "NSE:VEDL\n",
      "NSE:APOLLOTYRE\n",
      "NSE:DLF\n"
     ]
    },
    {
     "name": "stderr",
     "output_type": "stream",
     "text": [
      "/anaconda3/lib/python3.7/site-packages/pandas/core/frame.py:7123: FutureWarning: Sorting because non-concatenation axis is not aligned. A future version\n",
      "of pandas will change to not sort by default.\n",
      "\n",
      "To accept the future behavior, pass 'sort=False'.\n",
      "\n",
      "To retain the current behavior and silence the warning, pass 'sort=True'.\n",
      "\n",
      "  sort=sort,\n"
     ]
    },
    {
     "name": "stdout",
     "output_type": "stream",
     "text": [
      "NSE:HINDALCO\n",
      "NSE:AMBUJACEM\n",
      "NSE:HINDZINC\n",
      "NSE:CADILAHC\n",
      "NSE:POWERGRID\n"
     ]
    },
    {
     "name": "stderr",
     "output_type": "stream",
     "text": [
      "/anaconda3/lib/python3.7/site-packages/pandas/core/frame.py:7123: FutureWarning: Sorting because non-concatenation axis is not aligned. A future version\n",
      "of pandas will change to not sort by default.\n",
      "\n",
      "To accept the future behavior, pass 'sort=False'.\n",
      "\n",
      "To retain the current behavior and silence the warning, pass 'sort=True'.\n",
      "\n",
      "  sort=sort,\n"
     ]
    },
    {
     "name": "stdout",
     "output_type": "stream",
     "text": [
      "NSE:HINDPETRO\n",
      "NSE:INFRATEL\n",
      "NSE:ITC\n",
      "NSE:PETRONET\n",
      "NSE:TATAGLOBAL\n",
      "NSE:UJJIVAN\n",
      "NSE:UJJIVAN 'timestamp'\n",
      "NSE:TORNTPOWER\n",
      "NSE:IGL\n",
      "NSE:ADANIPORTS\n",
      "NSE:BERGEPAINT\n",
      "NSE:BPCL\n",
      "NSE:ZEEL\n",
      "NSE:GLENMARK\n",
      "NSE:GLENMARK 'DataFrame' object has no attribute 'dt'\n",
      "NSE:BHARTIARTL\n",
      "NSE:TVSMOTOR\n",
      "NSE:HEXAWARE\n",
      "NSE:ICICIPRULI\n",
      "NSE:ICICIPRULI 'timestamp'\n",
      "NSE:UNIONBANK\n"
     ]
    },
    {
     "name": "stderr",
     "output_type": "stream",
     "text": [
      "/anaconda3/lib/python3.7/site-packages/pandas/core/frame.py:7123: FutureWarning: Sorting because non-concatenation axis is not aligned. A future version\n",
      "of pandas will change to not sort by default.\n",
      "\n",
      "To accept the future behavior, pass 'sort=False'.\n",
      "\n",
      "To retain the current behavior and silence the warning, pass 'sort=True'.\n",
      "\n",
      "  sort=sort,\n"
     ]
    },
    {
     "name": "stdout",
     "output_type": "stream",
     "text": [
      "NSE:DCBBANK\n"
     ]
    },
    {
     "name": "stderr",
     "output_type": "stream",
     "text": [
      "/anaconda3/lib/python3.7/site-packages/pandas/core/frame.py:7123: FutureWarning: Sorting because non-concatenation axis is not aligned. A future version\n",
      "of pandas will change to not sort by default.\n",
      "\n",
      "To accept the future behavior, pass 'sort=False'.\n",
      "\n",
      "To retain the current behavior and silence the warning, pass 'sort=True'.\n",
      "\n",
      "  sort=sort,\n"
     ]
    },
    {
     "name": "stdout",
     "output_type": "stream",
     "text": [
      "NSE:YESBANK\n",
      "NSE:WIPRO\n",
      "NSE:TATASTEEL\n"
     ]
    },
    {
     "name": "stderr",
     "output_type": "stream",
     "text": [
      "/anaconda3/lib/python3.7/site-packages/pandas/core/frame.py:7123: FutureWarning: Sorting because non-concatenation axis is not aligned. A future version\n",
      "of pandas will change to not sort by default.\n",
      "\n",
      "To accept the future behavior, pass 'sort=False'.\n",
      "\n",
      "To retain the current behavior and silence the warning, pass 'sort=True'.\n",
      "\n",
      "  sort=sort,\n"
     ]
    },
    {
     "name": "stdout",
     "output_type": "stream",
     "text": [
      "NSE:SBIN\n",
      "NSE:PNB\n",
      "NSE:ONGC\n",
      "NSE:OIL\n",
      "NSE:NTPC\n",
      "NSE:BEL\n",
      "NSE:BIOCON\n",
      "NSE:CANBK\n"
     ]
    },
    {
     "name": "stderr",
     "output_type": "stream",
     "text": [
      "/anaconda3/lib/python3.7/site-packages/pandas/core/frame.py:7123: FutureWarning: Sorting because non-concatenation axis is not aligned. A future version\n",
      "of pandas will change to not sort by default.\n",
      "\n",
      "To accept the future behavior, pass 'sort=False'.\n",
      "\n",
      "To retain the current behavior and silence the warning, pass 'sort=True'.\n",
      "\n",
      "  sort=sort,\n"
     ]
    },
    {
     "name": "stdout",
     "output_type": "stream",
     "text": [
      "NSE:CASTROLIND\n",
      "NSE:CHOLAFIN\n",
      "NSE:COALINDIA\n",
      "NSE:ENGINERSIN\n"
     ]
    },
    {
     "name": "stderr",
     "output_type": "stream",
     "text": [
      "/anaconda3/lib/python3.7/site-packages/pandas/core/frame.py:7123: FutureWarning: Sorting because non-concatenation axis is not aligned. A future version\n",
      "of pandas will change to not sort by default.\n",
      "\n",
      "To accept the future behavior, pass 'sort=False'.\n",
      "\n",
      "To retain the current behavior and silence the warning, pass 'sort=True'.\n",
      "\n",
      "  sort=sort,\n"
     ]
    },
    {
     "name": "stdout",
     "output_type": "stream",
     "text": [
      "NSE:EXIDEIND\n",
      "NSE:JSWSTEEL\n"
     ]
    },
    {
     "name": "stderr",
     "output_type": "stream",
     "text": [
      "/anaconda3/lib/python3.7/site-packages/pandas/core/frame.py:7123: FutureWarning: Sorting because non-concatenation axis is not aligned. A future version\n",
      "of pandas will change to not sort by default.\n",
      "\n",
      "To accept the future behavior, pass 'sort=False'.\n",
      "\n",
      "To retain the current behavior and silence the warning, pass 'sort=True'.\n",
      "\n",
      "  sort=sort,\n"
     ]
    },
    {
     "name": "stdout",
     "output_type": "stream",
     "text": [
      "NSE:MANAPPURAM\n"
     ]
    },
    {
     "name": "stderr",
     "output_type": "stream",
     "text": [
      "/anaconda3/lib/python3.7/site-packages/pandas/core/frame.py:7123: FutureWarning: Sorting because non-concatenation axis is not aligned. A future version\n",
      "of pandas will change to not sort by default.\n",
      "\n",
      "To accept the future behavior, pass 'sort=False'.\n",
      "\n",
      "To retain the current behavior and silence the warning, pass 'sort=True'.\n",
      "\n",
      "  sort=sort,\n"
     ]
    },
    {
     "name": "stdout",
     "output_type": "stream",
     "text": [
      "NSE:SAIL\n",
      "NSE:RECLTD\n",
      "NSE:NMDC\n",
      "NSE:MFSL\n",
      "NSE:IDBI\n",
      "NSE:ARVIND\n",
      "NSE:BHEL\n"
     ]
    },
    {
     "name": "stderr",
     "output_type": "stream",
     "text": [
      "/anaconda3/lib/python3.7/site-packages/pandas/core/frame.py:7123: FutureWarning: Sorting because non-concatenation axis is not aligned. A future version\n",
      "of pandas will change to not sort by default.\n",
      "\n",
      "To accept the future behavior, pass 'sort=False'.\n",
      "\n",
      "To retain the current behavior and silence the warning, pass 'sort=True'.\n",
      "\n",
      "  sort=sort,\n"
     ]
    },
    {
     "name": "stdout",
     "output_type": "stream",
     "text": [
      "NSE:TATAMTRDVR\n",
      "NSE:TATAPOWER\n"
     ]
    },
    {
     "name": "stderr",
     "output_type": "stream",
     "text": [
      "/anaconda3/lib/python3.7/site-packages/pandas/core/frame.py:7123: FutureWarning: Sorting because non-concatenation axis is not aligned. A future version\n",
      "of pandas will change to not sort by default.\n",
      "\n",
      "To accept the future behavior, pass 'sort=False'.\n",
      "\n",
      "To retain the current behavior and silence the warning, pass 'sort=True'.\n",
      "\n",
      "  sort=sort,\n"
     ]
    },
    {
     "name": "stdout",
     "output_type": "stream",
     "text": [
      "NSE:ADANIPOWER\n"
     ]
    },
    {
     "name": "stderr",
     "output_type": "stream",
     "text": [
      "/anaconda3/lib/python3.7/site-packages/pandas/core/frame.py:7123: FutureWarning: Sorting because non-concatenation axis is not aligned. A future version\n",
      "of pandas will change to not sort by default.\n",
      "\n",
      "To accept the future behavior, pass 'sort=False'.\n",
      "\n",
      "To retain the current behavior and silence the warning, pass 'sort=True'.\n",
      "\n",
      "  sort=sort,\n"
     ]
    },
    {
     "name": "stdout",
     "output_type": "stream",
     "text": [
      "NSE:BSOFT\n",
      "NSE:ASHOKLEY\n",
      "NSE:NCC\n"
     ]
    },
    {
     "name": "stderr",
     "output_type": "stream",
     "text": [
      "/anaconda3/lib/python3.7/site-packages/pandas/core/frame.py:7123: FutureWarning: Sorting because non-concatenation axis is not aligned. A future version\n",
      "of pandas will change to not sort by default.\n",
      "\n",
      "To accept the future behavior, pass 'sort=False'.\n",
      "\n",
      "To retain the current behavior and silence the warning, pass 'sort=True'.\n",
      "\n",
      "  sort=sort,\n"
     ]
    },
    {
     "name": "stdout",
     "output_type": "stream",
     "text": [
      "NSE:BANKINDIA\n",
      "NSE:FEDERALBNK\n",
      "NSE:MOTHERSUMI\n",
      "NSE:BANKBARODA\n",
      "NSE:JINDALSTEL\n"
     ]
    },
    {
     "name": "stderr",
     "output_type": "stream",
     "text": [
      "/anaconda3/lib/python3.7/site-packages/pandas/core/frame.py:7123: FutureWarning: Sorting because non-concatenation axis is not aligned. A future version\n",
      "of pandas will change to not sort by default.\n",
      "\n",
      "To accept the future behavior, pass 'sort=False'.\n",
      "\n",
      "To retain the current behavior and silence the warning, pass 'sort=True'.\n",
      "\n",
      "  sort=sort,\n"
     ]
    },
    {
     "name": "stdout",
     "output_type": "stream",
     "text": [
      "NSE:L&TFH\n",
      "NSE:PFC\n",
      "NSE:EQUITAS\n",
      "NSE:EQUITAS 'timestamp'\n",
      "NSE:TATAMOTORS\n"
     ]
    },
    {
     "name": "stderr",
     "output_type": "stream",
     "text": [
      "/anaconda3/lib/python3.7/site-packages/pandas/core/frame.py:7123: FutureWarning: Sorting because non-concatenation axis is not aligned. A future version\n",
      "of pandas will change to not sort by default.\n",
      "\n",
      "To accept the future behavior, pass 'sort=False'.\n",
      "\n",
      "To retain the current behavior and silence the warning, pass 'sort=True'.\n",
      "\n",
      "  sort=sort,\n"
     ]
    },
    {
     "name": "stdout",
     "output_type": "stream",
     "text": [
      "NSE:IOC\n"
     ]
    },
    {
     "name": "stderr",
     "output_type": "stream",
     "text": [
      "/anaconda3/lib/python3.7/site-packages/pandas/core/frame.py:7123: FutureWarning: Sorting because non-concatenation axis is not aligned. A future version\n",
      "of pandas will change to not sort by default.\n",
      "\n",
      "To accept the future behavior, pass 'sort=False'.\n",
      "\n",
      "To retain the current behavior and silence the warning, pass 'sort=True'.\n",
      "\n",
      "  sort=sort,\n"
     ]
    },
    {
     "name": "stdout",
     "output_type": "stream",
     "text": [
      "NSE:ADANIENT\n"
     ]
    },
    {
     "name": "stderr",
     "output_type": "stream",
     "text": [
      "/anaconda3/lib/python3.7/site-packages/pandas/core/frame.py:7123: FutureWarning: Sorting because non-concatenation axis is not aligned. A future version\n",
      "of pandas will change to not sort by default.\n",
      "\n",
      "To accept the future behavior, pass 'sort=False'.\n",
      "\n",
      "To retain the current behavior and silence the warning, pass 'sort=True'.\n",
      "\n",
      "  sort=sort,\n"
     ]
    },
    {
     "name": "stdout",
     "output_type": "stream",
     "text": [
      "NSE:GAIL\n"
     ]
    },
    {
     "name": "stderr",
     "output_type": "stream",
     "text": [
      "/anaconda3/lib/python3.7/site-packages/pandas/core/frame.py:7123: FutureWarning: Sorting because non-concatenation axis is not aligned. A future version\n",
      "of pandas will change to not sort by default.\n",
      "\n",
      "To accept the future behavior, pass 'sort=False'.\n",
      "\n",
      "To retain the current behavior and silence the warning, pass 'sort=True'.\n",
      "\n",
      "  sort=sort,\n"
     ]
    },
    {
     "name": "stdout",
     "output_type": "stream",
     "text": [
      "NSE:VEDL\n",
      "NSE:APOLLOTYRE\n"
     ]
    },
    {
     "name": "stderr",
     "output_type": "stream",
     "text": [
      "/anaconda3/lib/python3.7/site-packages/pandas/core/frame.py:7123: FutureWarning: Sorting because non-concatenation axis is not aligned. A future version\n",
      "of pandas will change to not sort by default.\n",
      "\n",
      "To accept the future behavior, pass 'sort=False'.\n",
      "\n",
      "To retain the current behavior and silence the warning, pass 'sort=True'.\n",
      "\n",
      "  sort=sort,\n"
     ]
    },
    {
     "name": "stdout",
     "output_type": "stream",
     "text": [
      "NSE:DLF\n"
     ]
    },
    {
     "name": "stderr",
     "output_type": "stream",
     "text": [
      "/anaconda3/lib/python3.7/site-packages/pandas/core/frame.py:7123: FutureWarning: Sorting because non-concatenation axis is not aligned. A future version\n",
      "of pandas will change to not sort by default.\n",
      "\n",
      "To accept the future behavior, pass 'sort=False'.\n",
      "\n",
      "To retain the current behavior and silence the warning, pass 'sort=True'.\n",
      "\n",
      "  sort=sort,\n"
     ]
    },
    {
     "name": "stdout",
     "output_type": "stream",
     "text": [
      "NSE:HINDALCO\n",
      "NSE:AMBUJACEM\n",
      "NSE:HINDZINC\n"
     ]
    },
    {
     "name": "stderr",
     "output_type": "stream",
     "text": [
      "/anaconda3/lib/python3.7/site-packages/pandas/core/frame.py:7123: FutureWarning: Sorting because non-concatenation axis is not aligned. A future version\n",
      "of pandas will change to not sort by default.\n",
      "\n",
      "To accept the future behavior, pass 'sort=False'.\n",
      "\n",
      "To retain the current behavior and silence the warning, pass 'sort=True'.\n",
      "\n",
      "  sort=sort,\n"
     ]
    },
    {
     "name": "stdout",
     "output_type": "stream",
     "text": [
      "NSE:CADILAHC\n",
      "NSE:POWERGRID\n",
      "NSE:HINDPETRO\n",
      "NSE:INFRATEL\n"
     ]
    },
    {
     "name": "stderr",
     "output_type": "stream",
     "text": [
      "/anaconda3/lib/python3.7/site-packages/pandas/core/frame.py:7123: FutureWarning: Sorting because non-concatenation axis is not aligned. A future version\n",
      "of pandas will change to not sort by default.\n",
      "\n",
      "To accept the future behavior, pass 'sort=False'.\n",
      "\n",
      "To retain the current behavior and silence the warning, pass 'sort=True'.\n",
      "\n",
      "  sort=sort,\n"
     ]
    },
    {
     "name": "stdout",
     "output_type": "stream",
     "text": [
      "NSE:ITC\n",
      "NSE:PETRONET\n",
      "NSE:TATAGLOBAL\n"
     ]
    },
    {
     "name": "stderr",
     "output_type": "stream",
     "text": [
      "/anaconda3/lib/python3.7/site-packages/pandas/core/frame.py:7123: FutureWarning: Sorting because non-concatenation axis is not aligned. A future version\n",
      "of pandas will change to not sort by default.\n",
      "\n",
      "To accept the future behavior, pass 'sort=False'.\n",
      "\n",
      "To retain the current behavior and silence the warning, pass 'sort=True'.\n",
      "\n",
      "  sort=sort,\n"
     ]
    },
    {
     "name": "stdout",
     "output_type": "stream",
     "text": [
      "NSE:UJJIVAN\n",
      "NSE:UJJIVAN 'timestamp'\n",
      "NSE:TORNTPOWER\n"
     ]
    },
    {
     "name": "stderr",
     "output_type": "stream",
     "text": [
      "/anaconda3/lib/python3.7/site-packages/pandas/core/frame.py:7123: FutureWarning: Sorting because non-concatenation axis is not aligned. A future version\n",
      "of pandas will change to not sort by default.\n",
      "\n",
      "To accept the future behavior, pass 'sort=False'.\n",
      "\n",
      "To retain the current behavior and silence the warning, pass 'sort=True'.\n",
      "\n",
      "  sort=sort,\n"
     ]
    },
    {
     "name": "stdout",
     "output_type": "stream",
     "text": [
      "NSE:IGL\n"
     ]
    },
    {
     "name": "stderr",
     "output_type": "stream",
     "text": [
      "/anaconda3/lib/python3.7/site-packages/pandas/core/frame.py:7123: FutureWarning: Sorting because non-concatenation axis is not aligned. A future version\n",
      "of pandas will change to not sort by default.\n",
      "\n",
      "To accept the future behavior, pass 'sort=False'.\n",
      "\n",
      "To retain the current behavior and silence the warning, pass 'sort=True'.\n",
      "\n",
      "  sort=sort,\n"
     ]
    },
    {
     "name": "stdout",
     "output_type": "stream",
     "text": [
      "NSE:ADANIPORTS\n"
     ]
    },
    {
     "name": "stderr",
     "output_type": "stream",
     "text": [
      "/anaconda3/lib/python3.7/site-packages/pandas/core/frame.py:7123: FutureWarning: Sorting because non-concatenation axis is not aligned. A future version\n",
      "of pandas will change to not sort by default.\n",
      "\n",
      "To accept the future behavior, pass 'sort=False'.\n",
      "\n",
      "To retain the current behavior and silence the warning, pass 'sort=True'.\n",
      "\n",
      "  sort=sort,\n"
     ]
    },
    {
     "name": "stdout",
     "output_type": "stream",
     "text": [
      "NSE:BERGEPAINT\n"
     ]
    },
    {
     "name": "stderr",
     "output_type": "stream",
     "text": [
      "/anaconda3/lib/python3.7/site-packages/pandas/core/frame.py:7123: FutureWarning: Sorting because non-concatenation axis is not aligned. A future version\n",
      "of pandas will change to not sort by default.\n",
      "\n",
      "To accept the future behavior, pass 'sort=False'.\n",
      "\n",
      "To retain the current behavior and silence the warning, pass 'sort=True'.\n",
      "\n",
      "  sort=sort,\n"
     ]
    },
    {
     "name": "stdout",
     "output_type": "stream",
     "text": [
      "NSE:BPCL\n"
     ]
    },
    {
     "name": "stderr",
     "output_type": "stream",
     "text": [
      "/anaconda3/lib/python3.7/site-packages/pandas/core/frame.py:7123: FutureWarning: Sorting because non-concatenation axis is not aligned. A future version\n",
      "of pandas will change to not sort by default.\n",
      "\n",
      "To accept the future behavior, pass 'sort=False'.\n",
      "\n",
      "To retain the current behavior and silence the warning, pass 'sort=True'.\n",
      "\n",
      "  sort=sort,\n"
     ]
    },
    {
     "name": "stdout",
     "output_type": "stream",
     "text": [
      "NSE:ZEEL\n",
      "NSE:GLENMARK\n",
      "NSE:GLENMARK 'DataFrame' object has no attribute 'dt'\n",
      "NSE:BHARTIARTL\n",
      "NSE:TVSMOTOR\n",
      "NSE:HEXAWARE\n",
      "NSE:ICICIPRULI\n",
      "NSE:ICICIPRULI 'timestamp'\n",
      "NSE:UNIONBANK\n"
     ]
    },
    {
     "name": "stderr",
     "output_type": "stream",
     "text": [
      "/anaconda3/lib/python3.7/site-packages/pandas/core/frame.py:7123: FutureWarning: Sorting because non-concatenation axis is not aligned. A future version\n",
      "of pandas will change to not sort by default.\n",
      "\n",
      "To accept the future behavior, pass 'sort=False'.\n",
      "\n",
      "To retain the current behavior and silence the warning, pass 'sort=True'.\n",
      "\n",
      "  sort=sort,\n"
     ]
    },
    {
     "name": "stdout",
     "output_type": "stream",
     "text": [
      "NSE:DCBBANK\n"
     ]
    },
    {
     "name": "stderr",
     "output_type": "stream",
     "text": [
      "/anaconda3/lib/python3.7/site-packages/pandas/core/frame.py:7123: FutureWarning: Sorting because non-concatenation axis is not aligned. A future version\n",
      "of pandas will change to not sort by default.\n",
      "\n",
      "To accept the future behavior, pass 'sort=False'.\n",
      "\n",
      "To retain the current behavior and silence the warning, pass 'sort=True'.\n",
      "\n",
      "  sort=sort,\n"
     ]
    },
    {
     "name": "stdout",
     "output_type": "stream",
     "text": [
      "NSE:YESBANK\n"
     ]
    },
    {
     "name": "stderr",
     "output_type": "stream",
     "text": [
      "/anaconda3/lib/python3.7/site-packages/pandas/core/frame.py:7123: FutureWarning: Sorting because non-concatenation axis is not aligned. A future version\n",
      "of pandas will change to not sort by default.\n",
      "\n",
      "To accept the future behavior, pass 'sort=False'.\n",
      "\n",
      "To retain the current behavior and silence the warning, pass 'sort=True'.\n",
      "\n",
      "  sort=sort,\n"
     ]
    },
    {
     "name": "stdout",
     "output_type": "stream",
     "text": [
      "NSE:WIPRO\n",
      "NSE:TATASTEEL\n"
     ]
    },
    {
     "name": "stderr",
     "output_type": "stream",
     "text": [
      "/anaconda3/lib/python3.7/site-packages/pandas/core/frame.py:7123: FutureWarning: Sorting because non-concatenation axis is not aligned. A future version\n",
      "of pandas will change to not sort by default.\n",
      "\n",
      "To accept the future behavior, pass 'sort=False'.\n",
      "\n",
      "To retain the current behavior and silence the warning, pass 'sort=True'.\n",
      "\n",
      "  sort=sort,\n"
     ]
    },
    {
     "name": "stdout",
     "output_type": "stream",
     "text": [
      "NSE:SBIN\n"
     ]
    },
    {
     "name": "stderr",
     "output_type": "stream",
     "text": [
      "/anaconda3/lib/python3.7/site-packages/pandas/core/frame.py:7123: FutureWarning: Sorting because non-concatenation axis is not aligned. A future version\n",
      "of pandas will change to not sort by default.\n",
      "\n",
      "To accept the future behavior, pass 'sort=False'.\n",
      "\n",
      "To retain the current behavior and silence the warning, pass 'sort=True'.\n",
      "\n",
      "  sort=sort,\n"
     ]
    },
    {
     "name": "stdout",
     "output_type": "stream",
     "text": [
      "NSE:PNB\n"
     ]
    },
    {
     "name": "stderr",
     "output_type": "stream",
     "text": [
      "/anaconda3/lib/python3.7/site-packages/pandas/core/frame.py:7123: FutureWarning: Sorting because non-concatenation axis is not aligned. A future version\n",
      "of pandas will change to not sort by default.\n",
      "\n",
      "To accept the future behavior, pass 'sort=False'.\n",
      "\n",
      "To retain the current behavior and silence the warning, pass 'sort=True'.\n",
      "\n",
      "  sort=sort,\n"
     ]
    },
    {
     "name": "stdout",
     "output_type": "stream",
     "text": [
      "NSE:ONGC\n",
      "NSE:OIL\n",
      "NSE:NTPC\n",
      "NSE:BEL\n"
     ]
    },
    {
     "name": "stderr",
     "output_type": "stream",
     "text": [
      "/anaconda3/lib/python3.7/site-packages/pandas/core/frame.py:7123: FutureWarning: Sorting because non-concatenation axis is not aligned. A future version\n",
      "of pandas will change to not sort by default.\n",
      "\n",
      "To accept the future behavior, pass 'sort=False'.\n",
      "\n",
      "To retain the current behavior and silence the warning, pass 'sort=True'.\n",
      "\n",
      "  sort=sort,\n"
     ]
    },
    {
     "name": "stdout",
     "output_type": "stream",
     "text": [
      "NSE:BIOCON\n",
      "NSE:CANBK\n"
     ]
    },
    {
     "name": "stderr",
     "output_type": "stream",
     "text": [
      "/anaconda3/lib/python3.7/site-packages/pandas/core/frame.py:7123: FutureWarning: Sorting because non-concatenation axis is not aligned. A future version\n",
      "of pandas will change to not sort by default.\n",
      "\n",
      "To accept the future behavior, pass 'sort=False'.\n",
      "\n",
      "To retain the current behavior and silence the warning, pass 'sort=True'.\n",
      "\n",
      "  sort=sort,\n"
     ]
    },
    {
     "name": "stdout",
     "output_type": "stream",
     "text": [
      "NSE:CASTROLIND\n",
      "NSE:CHOLAFIN\n",
      "NSE:COALINDIA\n",
      "NSE:ENGINERSIN\n",
      "NSE:EXIDEIND\n"
     ]
    },
    {
     "name": "stderr",
     "output_type": "stream",
     "text": [
      "/anaconda3/lib/python3.7/site-packages/pandas/core/frame.py:7123: FutureWarning: Sorting because non-concatenation axis is not aligned. A future version\n",
      "of pandas will change to not sort by default.\n",
      "\n",
      "To accept the future behavior, pass 'sort=False'.\n",
      "\n",
      "To retain the current behavior and silence the warning, pass 'sort=True'.\n",
      "\n",
      "  sort=sort,\n"
     ]
    },
    {
     "name": "stdout",
     "output_type": "stream",
     "text": [
      "NSE:JSWSTEEL\n",
      "NSE:MANAPPURAM\n",
      "NSE:SAIL\n"
     ]
    },
    {
     "name": "stderr",
     "output_type": "stream",
     "text": [
      "/anaconda3/lib/python3.7/site-packages/pandas/core/frame.py:7123: FutureWarning: Sorting because non-concatenation axis is not aligned. A future version\n",
      "of pandas will change to not sort by default.\n",
      "\n",
      "To accept the future behavior, pass 'sort=False'.\n",
      "\n",
      "To retain the current behavior and silence the warning, pass 'sort=True'.\n",
      "\n",
      "  sort=sort,\n"
     ]
    },
    {
     "name": "stdout",
     "output_type": "stream",
     "text": [
      "NSE:RECLTD\n",
      "NSE:NMDC\n",
      "NSE:MFSL\n",
      "NSE:IDBI\n",
      "NSE:ARVIND\n",
      "NSE:BHEL\n",
      "NSE:TATAMTRDVR\n",
      "NSE:TATAPOWER\n"
     ]
    },
    {
     "name": "stderr",
     "output_type": "stream",
     "text": [
      "/anaconda3/lib/python3.7/site-packages/pandas/core/frame.py:7123: FutureWarning: Sorting because non-concatenation axis is not aligned. A future version\n",
      "of pandas will change to not sort by default.\n",
      "\n",
      "To accept the future behavior, pass 'sort=False'.\n",
      "\n",
      "To retain the current behavior and silence the warning, pass 'sort=True'.\n",
      "\n",
      "  sort=sort,\n"
     ]
    },
    {
     "name": "stdout",
     "output_type": "stream",
     "text": [
      "NSE:ADANIPOWER\n",
      "NSE:BSOFT\n",
      "NSE:ASHOKLEY\n"
     ]
    },
    {
     "name": "stderr",
     "output_type": "stream",
     "text": [
      "/anaconda3/lib/python3.7/site-packages/pandas/core/frame.py:7123: FutureWarning: Sorting because non-concatenation axis is not aligned. A future version\n",
      "of pandas will change to not sort by default.\n",
      "\n",
      "To accept the future behavior, pass 'sort=False'.\n",
      "\n",
      "To retain the current behavior and silence the warning, pass 'sort=True'.\n",
      "\n",
      "  sort=sort,\n"
     ]
    },
    {
     "name": "stdout",
     "output_type": "stream",
     "text": [
      "NSE:NCC\n"
     ]
    },
    {
     "name": "stderr",
     "output_type": "stream",
     "text": [
      "/anaconda3/lib/python3.7/site-packages/pandas/core/frame.py:7123: FutureWarning: Sorting because non-concatenation axis is not aligned. A future version\n",
      "of pandas will change to not sort by default.\n",
      "\n",
      "To accept the future behavior, pass 'sort=False'.\n",
      "\n",
      "To retain the current behavior and silence the warning, pass 'sort=True'.\n",
      "\n",
      "  sort=sort,\n"
     ]
    },
    {
     "name": "stdout",
     "output_type": "stream",
     "text": [
      "NSE:BANKINDIA\n"
     ]
    },
    {
     "name": "stderr",
     "output_type": "stream",
     "text": [
      "/anaconda3/lib/python3.7/site-packages/pandas/core/frame.py:7123: FutureWarning: Sorting because non-concatenation axis is not aligned. A future version\n",
      "of pandas will change to not sort by default.\n",
      "\n",
      "To accept the future behavior, pass 'sort=False'.\n",
      "\n",
      "To retain the current behavior and silence the warning, pass 'sort=True'.\n",
      "\n",
      "  sort=sort,\n"
     ]
    },
    {
     "name": "stdout",
     "output_type": "stream",
     "text": [
      "NSE:FEDERALBNK\n",
      "NSE:MOTHERSUMI\n",
      "NSE:BANKBARODA\n"
     ]
    },
    {
     "name": "stderr",
     "output_type": "stream",
     "text": [
      "/anaconda3/lib/python3.7/site-packages/pandas/core/frame.py:7123: FutureWarning: Sorting because non-concatenation axis is not aligned. A future version\n",
      "of pandas will change to not sort by default.\n",
      "\n",
      "To accept the future behavior, pass 'sort=False'.\n",
      "\n",
      "To retain the current behavior and silence the warning, pass 'sort=True'.\n",
      "\n",
      "  sort=sort,\n"
     ]
    },
    {
     "name": "stdout",
     "output_type": "stream",
     "text": [
      "NSE:JINDALSTEL\n",
      "NSE:L&TFH\n",
      "NSE:PFC\n",
      "NSE:EQUITAS\n",
      "NSE:EQUITAS 'timestamp'\n",
      "NSE:TATAMOTORS\n",
      "NSE:IOC\n"
     ]
    },
    {
     "name": "stderr",
     "output_type": "stream",
     "text": [
      "/anaconda3/lib/python3.7/site-packages/pandas/core/frame.py:7123: FutureWarning: Sorting because non-concatenation axis is not aligned. A future version\n",
      "of pandas will change to not sort by default.\n",
      "\n",
      "To accept the future behavior, pass 'sort=False'.\n",
      "\n",
      "To retain the current behavior and silence the warning, pass 'sort=True'.\n",
      "\n",
      "  sort=sort,\n"
     ]
    },
    {
     "name": "stdout",
     "output_type": "stream",
     "text": [
      "NSE:ADANIENT\n"
     ]
    },
    {
     "name": "stderr",
     "output_type": "stream",
     "text": [
      "/anaconda3/lib/python3.7/site-packages/pandas/core/frame.py:7123: FutureWarning: Sorting because non-concatenation axis is not aligned. A future version\n",
      "of pandas will change to not sort by default.\n",
      "\n",
      "To accept the future behavior, pass 'sort=False'.\n",
      "\n",
      "To retain the current behavior and silence the warning, pass 'sort=True'.\n",
      "\n",
      "  sort=sort,\n"
     ]
    },
    {
     "name": "stdout",
     "output_type": "stream",
     "text": [
      "NSE:GAIL\n",
      "NSE:VEDL\n",
      "NSE:APOLLOTYRE\n",
      "NSE:DLF\n"
     ]
    },
    {
     "name": "stderr",
     "output_type": "stream",
     "text": [
      "/anaconda3/lib/python3.7/site-packages/pandas/core/frame.py:7123: FutureWarning: Sorting because non-concatenation axis is not aligned. A future version\n",
      "of pandas will change to not sort by default.\n",
      "\n",
      "To accept the future behavior, pass 'sort=False'.\n",
      "\n",
      "To retain the current behavior and silence the warning, pass 'sort=True'.\n",
      "\n",
      "  sort=sort,\n"
     ]
    },
    {
     "name": "stdout",
     "output_type": "stream",
     "text": [
      "NSE:HINDALCO\n",
      "NSE:AMBUJACEM\n",
      "NSE:HINDZINC\n",
      "NSE:CADILAHC\n",
      "NSE:POWERGRID\n",
      "NSE:HINDPETRO\n",
      "NSE:INFRATEL\n",
      "NSE:ITC\n",
      "NSE:PETRONET\n"
     ]
    },
    {
     "name": "stderr",
     "output_type": "stream",
     "text": [
      "/anaconda3/lib/python3.7/site-packages/pandas/core/frame.py:7123: FutureWarning: Sorting because non-concatenation axis is not aligned. A future version\n",
      "of pandas will change to not sort by default.\n",
      "\n",
      "To accept the future behavior, pass 'sort=False'.\n",
      "\n",
      "To retain the current behavior and silence the warning, pass 'sort=True'.\n",
      "\n",
      "  sort=sort,\n"
     ]
    },
    {
     "name": "stdout",
     "output_type": "stream",
     "text": [
      "NSE:TATAGLOBAL\n"
     ]
    },
    {
     "name": "stderr",
     "output_type": "stream",
     "text": [
      "/anaconda3/lib/python3.7/site-packages/pandas/core/frame.py:7123: FutureWarning: Sorting because non-concatenation axis is not aligned. A future version\n",
      "of pandas will change to not sort by default.\n",
      "\n",
      "To accept the future behavior, pass 'sort=False'.\n",
      "\n",
      "To retain the current behavior and silence the warning, pass 'sort=True'.\n",
      "\n",
      "  sort=sort,\n"
     ]
    },
    {
     "name": "stdout",
     "output_type": "stream",
     "text": [
      "NSE:UJJIVAN\n",
      "NSE:UJJIVAN 'timestamp'\n",
      "NSE:TORNTPOWER\n",
      "NSE:IGL\n",
      "NSE:ADANIPORTS\n",
      "NSE:BERGEPAINT\n",
      "NSE:BPCL\n"
     ]
    },
    {
     "name": "stderr",
     "output_type": "stream",
     "text": [
      "/anaconda3/lib/python3.7/site-packages/pandas/core/frame.py:7123: FutureWarning: Sorting because non-concatenation axis is not aligned. A future version\n",
      "of pandas will change to not sort by default.\n",
      "\n",
      "To accept the future behavior, pass 'sort=False'.\n",
      "\n",
      "To retain the current behavior and silence the warning, pass 'sort=True'.\n",
      "\n",
      "  sort=sort,\n"
     ]
    },
    {
     "name": "stdout",
     "output_type": "stream",
     "text": [
      "NSE:ZEEL\n",
      "NSE:GLENMARK\n",
      "NSE:GLENMARK 'DataFrame' object has no attribute 'dt'\n",
      "NSE:BHARTIARTL\n",
      "NSE:TVSMOTOR\n",
      "NSE:HEXAWARE\n"
     ]
    },
    {
     "name": "stderr",
     "output_type": "stream",
     "text": [
      "/anaconda3/lib/python3.7/site-packages/pandas/core/frame.py:7123: FutureWarning: Sorting because non-concatenation axis is not aligned. A future version\n",
      "of pandas will change to not sort by default.\n",
      "\n",
      "To accept the future behavior, pass 'sort=False'.\n",
      "\n",
      "To retain the current behavior and silence the warning, pass 'sort=True'.\n",
      "\n",
      "  sort=sort,\n"
     ]
    },
    {
     "name": "stdout",
     "output_type": "stream",
     "text": [
      "NSE:ICICIPRULI\n",
      "NSE:ICICIPRULI 'timestamp'\n",
      "NSE:UNIONBANK\n",
      "NSE:DCBBANK\n",
      "NSE:YESBANK\n",
      "NSE:WIPRO\n",
      "NSE:TATASTEEL\n",
      "NSE:SBIN\n",
      "NSE:PNB\n",
      "NSE:ONGC\n",
      "NSE:OIL\n",
      "NSE:NTPC\n",
      "NSE:BEL\n"
     ]
    },
    {
     "name": "stderr",
     "output_type": "stream",
     "text": [
      "/anaconda3/lib/python3.7/site-packages/pandas/core/frame.py:7123: FutureWarning: Sorting because non-concatenation axis is not aligned. A future version\n",
      "of pandas will change to not sort by default.\n",
      "\n",
      "To accept the future behavior, pass 'sort=False'.\n",
      "\n",
      "To retain the current behavior and silence the warning, pass 'sort=True'.\n",
      "\n",
      "  sort=sort,\n"
     ]
    },
    {
     "name": "stdout",
     "output_type": "stream",
     "text": [
      "NSE:BIOCON\n",
      "NSE:CANBK\n",
      "NSE:CASTROLIND\n",
      "NSE:CHOLAFIN\n",
      "NSE:COALINDIA\n"
     ]
    },
    {
     "name": "stderr",
     "output_type": "stream",
     "text": [
      "/anaconda3/lib/python3.7/site-packages/pandas/core/frame.py:7123: FutureWarning: Sorting because non-concatenation axis is not aligned. A future version\n",
      "of pandas will change to not sort by default.\n",
      "\n",
      "To accept the future behavior, pass 'sort=False'.\n",
      "\n",
      "To retain the current behavior and silence the warning, pass 'sort=True'.\n",
      "\n",
      "  sort=sort,\n"
     ]
    },
    {
     "name": "stdout",
     "output_type": "stream",
     "text": [
      "NSE:ENGINERSIN\n",
      "NSE:EXIDEIND\n",
      "NSE:JSWSTEEL\n",
      "NSE:MANAPPURAM\n",
      "NSE:SAIL\n",
      "NSE:RECLTD\n",
      "NSE:NMDC\n",
      "NSE:MFSL\n",
      "NSE:IDBI\n",
      "NSE:ARVIND\n",
      "NSE:BHEL\n",
      "NSE:TATAMTRDVR\n",
      "NSE:TATAPOWER\n",
      "NSE:ADANIPOWER\n",
      "NSE:BSOFT\n",
      "NSE:ASHOKLEY\n",
      "NSE:NCC\n",
      "NSE:BANKINDIA\n",
      "NSE:FEDERALBNK\n",
      "NSE:MOTHERSUMI\n",
      "NSE:BANKBARODA\n",
      "NSE:JINDALSTEL\n",
      "NSE:L&TFH\n",
      "NSE:PFC\n"
     ]
    },
    {
     "name": "stderr",
     "output_type": "stream",
     "text": [
      "/anaconda3/lib/python3.7/site-packages/pandas/core/frame.py:7123: FutureWarning: Sorting because non-concatenation axis is not aligned. A future version\n",
      "of pandas will change to not sort by default.\n",
      "\n",
      "To accept the future behavior, pass 'sort=False'.\n",
      "\n",
      "To retain the current behavior and silence the warning, pass 'sort=True'.\n",
      "\n",
      "  sort=sort,\n"
     ]
    },
    {
     "name": "stdout",
     "output_type": "stream",
     "text": [
      "NSE:EQUITAS\n",
      "NSE:EQUITAS 'timestamp'\n",
      "NSE:TATAMOTORS\n",
      "NSE:IOC\n",
      "NSE:ADANIENT\n"
     ]
    },
    {
     "name": "stderr",
     "output_type": "stream",
     "text": [
      "/anaconda3/lib/python3.7/site-packages/pandas/core/frame.py:7123: FutureWarning: Sorting because non-concatenation axis is not aligned. A future version\n",
      "of pandas will change to not sort by default.\n",
      "\n",
      "To accept the future behavior, pass 'sort=False'.\n",
      "\n",
      "To retain the current behavior and silence the warning, pass 'sort=True'.\n",
      "\n",
      "  sort=sort,\n"
     ]
    },
    {
     "name": "stdout",
     "output_type": "stream",
     "text": [
      "NSE:GAIL\n",
      "NSE:VEDL\n",
      "NSE:APOLLOTYRE\n",
      "NSE:DLF\n",
      "NSE:HINDALCO\n",
      "NSE:AMBUJACEM\n",
      "NSE:HINDZINC\n"
     ]
    },
    {
     "name": "stderr",
     "output_type": "stream",
     "text": [
      "/anaconda3/lib/python3.7/site-packages/pandas/core/frame.py:7123: FutureWarning: Sorting because non-concatenation axis is not aligned. A future version\n",
      "of pandas will change to not sort by default.\n",
      "\n",
      "To accept the future behavior, pass 'sort=False'.\n",
      "\n",
      "To retain the current behavior and silence the warning, pass 'sort=True'.\n",
      "\n",
      "  sort=sort,\n"
     ]
    },
    {
     "name": "stdout",
     "output_type": "stream",
     "text": [
      "NSE:CADILAHC\n",
      "NSE:POWERGRID\n",
      "NSE:HINDPETRO\n"
     ]
    },
    {
     "name": "stderr",
     "output_type": "stream",
     "text": [
      "/anaconda3/lib/python3.7/site-packages/pandas/core/frame.py:7123: FutureWarning: Sorting because non-concatenation axis is not aligned. A future version\n",
      "of pandas will change to not sort by default.\n",
      "\n",
      "To accept the future behavior, pass 'sort=False'.\n",
      "\n",
      "To retain the current behavior and silence the warning, pass 'sort=True'.\n",
      "\n",
      "  sort=sort,\n"
     ]
    },
    {
     "name": "stdout",
     "output_type": "stream",
     "text": [
      "NSE:INFRATEL\n",
      "NSE:ITC\n",
      "NSE:PETRONET\n",
      "NSE:TATAGLOBAL\n",
      "NSE:UJJIVAN\n",
      "NSE:UJJIVAN 'timestamp'\n",
      "NSE:TORNTPOWER\n",
      "NSE:IGL\n",
      "NSE:ADANIPORTS\n"
     ]
    },
    {
     "name": "stderr",
     "output_type": "stream",
     "text": [
      "/anaconda3/lib/python3.7/site-packages/pandas/core/frame.py:7123: FutureWarning: Sorting because non-concatenation axis is not aligned. A future version\n",
      "of pandas will change to not sort by default.\n",
      "\n",
      "To accept the future behavior, pass 'sort=False'.\n",
      "\n",
      "To retain the current behavior and silence the warning, pass 'sort=True'.\n",
      "\n",
      "  sort=sort,\n"
     ]
    },
    {
     "name": "stdout",
     "output_type": "stream",
     "text": [
      "NSE:BERGEPAINT\n",
      "NSE:BPCL\n",
      "NSE:ZEEL\n",
      "NSE:GLENMARK\n",
      "NSE:GLENMARK 'DataFrame' object has no attribute 'dt'\n",
      "NSE:BHARTIARTL\n",
      "NSE:TVSMOTOR\n",
      "NSE:HEXAWARE\n",
      "NSE:ICICIPRULI\n",
      "NSE:ICICIPRULI 'timestamp'\n",
      "NSE:UNIONBANK\n",
      "NSE:DCBBANK\n",
      "NSE:YESBANK\n",
      "NSE:WIPRO\n",
      "NSE:TATASTEEL\n",
      "NSE:SBIN\n",
      "NSE:PNB\n",
      "NSE:ONGC\n",
      "NSE:OIL\n",
      "NSE:NTPC\n",
      "NSE:BEL\n"
     ]
    },
    {
     "name": "stderr",
     "output_type": "stream",
     "text": [
      "/anaconda3/lib/python3.7/site-packages/pandas/core/frame.py:7123: FutureWarning: Sorting because non-concatenation axis is not aligned. A future version\n",
      "of pandas will change to not sort by default.\n",
      "\n",
      "To accept the future behavior, pass 'sort=False'.\n",
      "\n",
      "To retain the current behavior and silence the warning, pass 'sort=True'.\n",
      "\n",
      "  sort=sort,\n"
     ]
    },
    {
     "name": "stdout",
     "output_type": "stream",
     "text": [
      "NSE:BIOCON\n",
      "NSE:CANBK\n",
      "NSE:CASTROLIND\n",
      "NSE:CHOLAFIN\n",
      "NSE:COALINDIA\n",
      "NSE:ENGINERSIN\n",
      "NSE:EXIDEIND\n",
      "NSE:JSWSTEEL\n",
      "NSE:MANAPPURAM\n",
      "NSE:SAIL\n",
      "NSE:RECLTD\n",
      "NSE:NMDC\n",
      "NSE:MFSL\n",
      "NSE:IDBI\n",
      "NSE:ARVIND\n"
     ]
    },
    {
     "name": "stderr",
     "output_type": "stream",
     "text": [
      "/anaconda3/lib/python3.7/site-packages/pandas/core/frame.py:7123: FutureWarning: Sorting because non-concatenation axis is not aligned. A future version\n",
      "of pandas will change to not sort by default.\n",
      "\n",
      "To accept the future behavior, pass 'sort=False'.\n",
      "\n",
      "To retain the current behavior and silence the warning, pass 'sort=True'.\n",
      "\n",
      "  sort=sort,\n"
     ]
    },
    {
     "name": "stdout",
     "output_type": "stream",
     "text": [
      "NSE:BHEL\n",
      "NSE:TATAMTRDVR\n"
     ]
    },
    {
     "name": "stderr",
     "output_type": "stream",
     "text": [
      "/anaconda3/lib/python3.7/site-packages/pandas/core/frame.py:7123: FutureWarning: Sorting because non-concatenation axis is not aligned. A future version\n",
      "of pandas will change to not sort by default.\n",
      "\n",
      "To accept the future behavior, pass 'sort=False'.\n",
      "\n",
      "To retain the current behavior and silence the warning, pass 'sort=True'.\n",
      "\n",
      "  sort=sort,\n"
     ]
    },
    {
     "name": "stdout",
     "output_type": "stream",
     "text": [
      "NSE:TATAPOWER\n",
      "NSE:ADANIPOWER\n",
      "NSE:BSOFT\n",
      "NSE:ASHOKLEY\n"
     ]
    },
    {
     "name": "stderr",
     "output_type": "stream",
     "text": [
      "/anaconda3/lib/python3.7/site-packages/pandas/core/frame.py:7123: FutureWarning: Sorting because non-concatenation axis is not aligned. A future version\n",
      "of pandas will change to not sort by default.\n",
      "\n",
      "To accept the future behavior, pass 'sort=False'.\n",
      "\n",
      "To retain the current behavior and silence the warning, pass 'sort=True'.\n",
      "\n",
      "  sort=sort,\n"
     ]
    },
    {
     "name": "stdout",
     "output_type": "stream",
     "text": [
      "NSE:NCC\n"
     ]
    },
    {
     "name": "stderr",
     "output_type": "stream",
     "text": [
      "/anaconda3/lib/python3.7/site-packages/pandas/core/frame.py:7123: FutureWarning: Sorting because non-concatenation axis is not aligned. A future version\n",
      "of pandas will change to not sort by default.\n",
      "\n",
      "To accept the future behavior, pass 'sort=False'.\n",
      "\n",
      "To retain the current behavior and silence the warning, pass 'sort=True'.\n",
      "\n",
      "  sort=sort,\n"
     ]
    },
    {
     "name": "stdout",
     "output_type": "stream",
     "text": [
      "NSE:BANKINDIA\n",
      "NSE:FEDERALBNK\n",
      "NSE:MOTHERSUMI\n",
      "NSE:BANKBARODA\n",
      "NSE:JINDALSTEL\n",
      "NSE:L&TFH\n"
     ]
    },
    {
     "name": "stderr",
     "output_type": "stream",
     "text": [
      "/anaconda3/lib/python3.7/site-packages/pandas/core/frame.py:7123: FutureWarning: Sorting because non-concatenation axis is not aligned. A future version\n",
      "of pandas will change to not sort by default.\n",
      "\n",
      "To accept the future behavior, pass 'sort=False'.\n",
      "\n",
      "To retain the current behavior and silence the warning, pass 'sort=True'.\n",
      "\n",
      "  sort=sort,\n"
     ]
    },
    {
     "name": "stdout",
     "output_type": "stream",
     "text": [
      "NSE:PFC\n",
      "NSE:EQUITAS\n",
      "NSE:EQUITAS 'timestamp'\n",
      "NSE:TATAMOTORS\n",
      "NSE:IOC\n"
     ]
    },
    {
     "name": "stderr",
     "output_type": "stream",
     "text": [
      "/anaconda3/lib/python3.7/site-packages/pandas/core/frame.py:7123: FutureWarning: Sorting because non-concatenation axis is not aligned. A future version\n",
      "of pandas will change to not sort by default.\n",
      "\n",
      "To accept the future behavior, pass 'sort=False'.\n",
      "\n",
      "To retain the current behavior and silence the warning, pass 'sort=True'.\n",
      "\n",
      "  sort=sort,\n"
     ]
    },
    {
     "name": "stdout",
     "output_type": "stream",
     "text": [
      "NSE:ADANIENT\n",
      "NSE:GAIL\n",
      "NSE:VEDL\n",
      "NSE:APOLLOTYRE\n",
      "NSE:DLF\n",
      "NSE:HINDALCO\n"
     ]
    },
    {
     "name": "stderr",
     "output_type": "stream",
     "text": [
      "/anaconda3/lib/python3.7/site-packages/pandas/core/frame.py:7123: FutureWarning: Sorting because non-concatenation axis is not aligned. A future version\n",
      "of pandas will change to not sort by default.\n",
      "\n",
      "To accept the future behavior, pass 'sort=False'.\n",
      "\n",
      "To retain the current behavior and silence the warning, pass 'sort=True'.\n",
      "\n",
      "  sort=sort,\n"
     ]
    },
    {
     "name": "stdout",
     "output_type": "stream",
     "text": [
      "NSE:AMBUJACEM\n"
     ]
    },
    {
     "name": "stderr",
     "output_type": "stream",
     "text": [
      "/anaconda3/lib/python3.7/site-packages/pandas/core/frame.py:7123: FutureWarning: Sorting because non-concatenation axis is not aligned. A future version\n",
      "of pandas will change to not sort by default.\n",
      "\n",
      "To accept the future behavior, pass 'sort=False'.\n",
      "\n",
      "To retain the current behavior and silence the warning, pass 'sort=True'.\n",
      "\n",
      "  sort=sort,\n"
     ]
    },
    {
     "name": "stdout",
     "output_type": "stream",
     "text": [
      "NSE:HINDZINC\n",
      "NSE:CADILAHC\n",
      "NSE:POWERGRID\n"
     ]
    },
    {
     "name": "stderr",
     "output_type": "stream",
     "text": [
      "/anaconda3/lib/python3.7/site-packages/pandas/core/frame.py:7123: FutureWarning: Sorting because non-concatenation axis is not aligned. A future version\n",
      "of pandas will change to not sort by default.\n",
      "\n",
      "To accept the future behavior, pass 'sort=False'.\n",
      "\n",
      "To retain the current behavior and silence the warning, pass 'sort=True'.\n",
      "\n",
      "  sort=sort,\n"
     ]
    },
    {
     "name": "stdout",
     "output_type": "stream",
     "text": [
      "NSE:HINDPETRO\n"
     ]
    },
    {
     "name": "stderr",
     "output_type": "stream",
     "text": [
      "/anaconda3/lib/python3.7/site-packages/pandas/core/frame.py:7123: FutureWarning: Sorting because non-concatenation axis is not aligned. A future version\n",
      "of pandas will change to not sort by default.\n",
      "\n",
      "To accept the future behavior, pass 'sort=False'.\n",
      "\n",
      "To retain the current behavior and silence the warning, pass 'sort=True'.\n",
      "\n",
      "  sort=sort,\n"
     ]
    },
    {
     "name": "stdout",
     "output_type": "stream",
     "text": [
      "NSE:INFRATEL\n",
      "NSE:ITC\n",
      "NSE:PETRONET\n"
     ]
    },
    {
     "name": "stderr",
     "output_type": "stream",
     "text": [
      "/anaconda3/lib/python3.7/site-packages/pandas/core/frame.py:7123: FutureWarning: Sorting because non-concatenation axis is not aligned. A future version\n",
      "of pandas will change to not sort by default.\n",
      "\n",
      "To accept the future behavior, pass 'sort=False'.\n",
      "\n",
      "To retain the current behavior and silence the warning, pass 'sort=True'.\n",
      "\n",
      "  sort=sort,\n"
     ]
    },
    {
     "name": "stdout",
     "output_type": "stream",
     "text": [
      "NSE:TATAGLOBAL\n"
     ]
    },
    {
     "name": "stderr",
     "output_type": "stream",
     "text": [
      "/anaconda3/lib/python3.7/site-packages/pandas/core/frame.py:7123: FutureWarning: Sorting because non-concatenation axis is not aligned. A future version\n",
      "of pandas will change to not sort by default.\n",
      "\n",
      "To accept the future behavior, pass 'sort=False'.\n",
      "\n",
      "To retain the current behavior and silence the warning, pass 'sort=True'.\n",
      "\n",
      "  sort=sort,\n"
     ]
    },
    {
     "name": "stdout",
     "output_type": "stream",
     "text": [
      "NSE:UJJIVAN\n",
      "NSE:UJJIVAN 'timestamp'\n",
      "NSE:TORNTPOWER\n",
      "NSE:IGL\n",
      "NSE:ADANIPORTS\n",
      "NSE:BERGEPAINT\n",
      "NSE:BPCL\n"
     ]
    },
    {
     "name": "stderr",
     "output_type": "stream",
     "text": [
      "/anaconda3/lib/python3.7/site-packages/pandas/core/frame.py:7123: FutureWarning: Sorting because non-concatenation axis is not aligned. A future version\n",
      "of pandas will change to not sort by default.\n",
      "\n",
      "To accept the future behavior, pass 'sort=False'.\n",
      "\n",
      "To retain the current behavior and silence the warning, pass 'sort=True'.\n",
      "\n",
      "  sort=sort,\n"
     ]
    },
    {
     "name": "stdout",
     "output_type": "stream",
     "text": [
      "NSE:ZEEL\n",
      "NSE:GLENMARK\n",
      "NSE:GLENMARK 'DataFrame' object has no attribute 'dt'\n",
      "NSE:BHARTIARTL\n",
      "NSE:TVSMOTOR\n"
     ]
    },
    {
     "name": "stderr",
     "output_type": "stream",
     "text": [
      "/anaconda3/lib/python3.7/site-packages/pandas/core/frame.py:7123: FutureWarning: Sorting because non-concatenation axis is not aligned. A future version\n",
      "of pandas will change to not sort by default.\n",
      "\n",
      "To accept the future behavior, pass 'sort=False'.\n",
      "\n",
      "To retain the current behavior and silence the warning, pass 'sort=True'.\n",
      "\n",
      "  sort=sort,\n"
     ]
    },
    {
     "name": "stdout",
     "output_type": "stream",
     "text": [
      "NSE:HEXAWARE\n",
      "NSE:ICICIPRULI\n",
      "NSE:ICICIPRULI 'timestamp'\n",
      "NSE:UNIONBANK\n",
      "NSE:DCBBANK\n",
      "NSE:YESBANK\n"
     ]
    },
    {
     "name": "stderr",
     "output_type": "stream",
     "text": [
      "/anaconda3/lib/python3.7/site-packages/pandas/core/frame.py:7123: FutureWarning: Sorting because non-concatenation axis is not aligned. A future version\n",
      "of pandas will change to not sort by default.\n",
      "\n",
      "To accept the future behavior, pass 'sort=False'.\n",
      "\n",
      "To retain the current behavior and silence the warning, pass 'sort=True'.\n",
      "\n",
      "  sort=sort,\n"
     ]
    },
    {
     "name": "stdout",
     "output_type": "stream",
     "text": [
      "NSE:WIPRO\n",
      "NSE:TATASTEEL\n"
     ]
    },
    {
     "name": "stderr",
     "output_type": "stream",
     "text": [
      "/anaconda3/lib/python3.7/site-packages/pandas/core/frame.py:7123: FutureWarning: Sorting because non-concatenation axis is not aligned. A future version\n",
      "of pandas will change to not sort by default.\n",
      "\n",
      "To accept the future behavior, pass 'sort=False'.\n",
      "\n",
      "To retain the current behavior and silence the warning, pass 'sort=True'.\n",
      "\n",
      "  sort=sort,\n"
     ]
    },
    {
     "name": "stdout",
     "output_type": "stream",
     "text": [
      "NSE:SBIN\n",
      "NSE:PNB\n",
      "NSE:ONGC\n",
      "NSE:OIL\n"
     ]
    },
    {
     "name": "stderr",
     "output_type": "stream",
     "text": [
      "/anaconda3/lib/python3.7/site-packages/pandas/core/frame.py:7123: FutureWarning: Sorting because non-concatenation axis is not aligned. A future version\n",
      "of pandas will change to not sort by default.\n",
      "\n",
      "To accept the future behavior, pass 'sort=False'.\n",
      "\n",
      "To retain the current behavior and silence the warning, pass 'sort=True'.\n",
      "\n",
      "  sort=sort,\n"
     ]
    },
    {
     "name": "stdout",
     "output_type": "stream",
     "text": [
      "NSE:NTPC\n",
      "NSE:BEL\n"
     ]
    },
    {
     "name": "stderr",
     "output_type": "stream",
     "text": [
      "/anaconda3/lib/python3.7/site-packages/pandas/core/frame.py:7123: FutureWarning: Sorting because non-concatenation axis is not aligned. A future version\n",
      "of pandas will change to not sort by default.\n",
      "\n",
      "To accept the future behavior, pass 'sort=False'.\n",
      "\n",
      "To retain the current behavior and silence the warning, pass 'sort=True'.\n",
      "\n",
      "  sort=sort,\n"
     ]
    },
    {
     "name": "stdout",
     "output_type": "stream",
     "text": [
      "NSE:BIOCON\n",
      "NSE:CANBK\n",
      "NSE:CASTROLIND\n",
      "NSE:CHOLAFIN\n",
      "NSE:COALINDIA\n"
     ]
    },
    {
     "name": "stderr",
     "output_type": "stream",
     "text": [
      "/anaconda3/lib/python3.7/site-packages/pandas/core/frame.py:7123: FutureWarning: Sorting because non-concatenation axis is not aligned. A future version\n",
      "of pandas will change to not sort by default.\n",
      "\n",
      "To accept the future behavior, pass 'sort=False'.\n",
      "\n",
      "To retain the current behavior and silence the warning, pass 'sort=True'.\n",
      "\n",
      "  sort=sort,\n"
     ]
    },
    {
     "name": "stdout",
     "output_type": "stream",
     "text": [
      "NSE:ENGINERSIN\n",
      "NSE:EXIDEIND\n",
      "NSE:JSWSTEEL\n",
      "NSE:MANAPPURAM\n",
      "NSE:SAIL\n",
      "NSE:RECLTD\n",
      "NSE:NMDC\n",
      "NSE:MFSL\n",
      "NSE:IDBI\n",
      "NSE:ARVIND\n",
      "NSE:BHEL\n",
      "NSE:TATAMTRDVR\n",
      "NSE:TATAPOWER\n"
     ]
    },
    {
     "name": "stderr",
     "output_type": "stream",
     "text": [
      "/anaconda3/lib/python3.7/site-packages/pandas/core/frame.py:7123: FutureWarning: Sorting because non-concatenation axis is not aligned. A future version\n",
      "of pandas will change to not sort by default.\n",
      "\n",
      "To accept the future behavior, pass 'sort=False'.\n",
      "\n",
      "To retain the current behavior and silence the warning, pass 'sort=True'.\n",
      "\n",
      "  sort=sort,\n"
     ]
    },
    {
     "name": "stdout",
     "output_type": "stream",
     "text": [
      "NSE:ADANIPOWER\n",
      "NSE:BSOFT\n"
     ]
    },
    {
     "name": "stderr",
     "output_type": "stream",
     "text": [
      "/anaconda3/lib/python3.7/site-packages/pandas/core/frame.py:7123: FutureWarning: Sorting because non-concatenation axis is not aligned. A future version\n",
      "of pandas will change to not sort by default.\n",
      "\n",
      "To accept the future behavior, pass 'sort=False'.\n",
      "\n",
      "To retain the current behavior and silence the warning, pass 'sort=True'.\n",
      "\n",
      "  sort=sort,\n"
     ]
    },
    {
     "name": "stdout",
     "output_type": "stream",
     "text": [
      "NSE:ASHOKLEY\n"
     ]
    },
    {
     "name": "stderr",
     "output_type": "stream",
     "text": [
      "/anaconda3/lib/python3.7/site-packages/pandas/core/frame.py:7123: FutureWarning: Sorting because non-concatenation axis is not aligned. A future version\n",
      "of pandas will change to not sort by default.\n",
      "\n",
      "To accept the future behavior, pass 'sort=False'.\n",
      "\n",
      "To retain the current behavior and silence the warning, pass 'sort=True'.\n",
      "\n",
      "  sort=sort,\n"
     ]
    },
    {
     "name": "stdout",
     "output_type": "stream",
     "text": [
      "NSE:NCC\n",
      "NSE:BANKINDIA\n",
      "NSE:FEDERALBNK\n"
     ]
    },
    {
     "name": "stderr",
     "output_type": "stream",
     "text": [
      "/anaconda3/lib/python3.7/site-packages/pandas/core/frame.py:7123: FutureWarning: Sorting because non-concatenation axis is not aligned. A future version\n",
      "of pandas will change to not sort by default.\n",
      "\n",
      "To accept the future behavior, pass 'sort=False'.\n",
      "\n",
      "To retain the current behavior and silence the warning, pass 'sort=True'.\n",
      "\n",
      "  sort=sort,\n"
     ]
    },
    {
     "name": "stdout",
     "output_type": "stream",
     "text": [
      "NSE:MOTHERSUMI\n",
      "NSE:BANKBARODA\n",
      "NSE:JINDALSTEL\n",
      "NSE:L&TFH\n"
     ]
    },
    {
     "name": "stderr",
     "output_type": "stream",
     "text": [
      "/anaconda3/lib/python3.7/site-packages/pandas/core/frame.py:7123: FutureWarning: Sorting because non-concatenation axis is not aligned. A future version\n",
      "of pandas will change to not sort by default.\n",
      "\n",
      "To accept the future behavior, pass 'sort=False'.\n",
      "\n",
      "To retain the current behavior and silence the warning, pass 'sort=True'.\n",
      "\n",
      "  sort=sort,\n"
     ]
    },
    {
     "name": "stdout",
     "output_type": "stream",
     "text": [
      "NSE:PFC\n"
     ]
    },
    {
     "name": "stderr",
     "output_type": "stream",
     "text": [
      "/anaconda3/lib/python3.7/site-packages/pandas/core/frame.py:7123: FutureWarning: Sorting because non-concatenation axis is not aligned. A future version\n",
      "of pandas will change to not sort by default.\n",
      "\n",
      "To accept the future behavior, pass 'sort=False'.\n",
      "\n",
      "To retain the current behavior and silence the warning, pass 'sort=True'.\n",
      "\n",
      "  sort=sort,\n"
     ]
    },
    {
     "name": "stdout",
     "output_type": "stream",
     "text": [
      "NSE:EQUITAS\n",
      "NSE:EQUITAS 'timestamp'\n",
      "NSE:TATAMOTORS\n",
      "NSE:IOC\n",
      "NSE:ADANIENT\n"
     ]
    },
    {
     "name": "stderr",
     "output_type": "stream",
     "text": [
      "/anaconda3/lib/python3.7/site-packages/pandas/core/frame.py:7123: FutureWarning: Sorting because non-concatenation axis is not aligned. A future version\n",
      "of pandas will change to not sort by default.\n",
      "\n",
      "To accept the future behavior, pass 'sort=False'.\n",
      "\n",
      "To retain the current behavior and silence the warning, pass 'sort=True'.\n",
      "\n",
      "  sort=sort,\n"
     ]
    },
    {
     "name": "stdout",
     "output_type": "stream",
     "text": [
      "NSE:GAIL\n",
      "NSE:VEDL\n",
      "NSE:APOLLOTYRE\n",
      "NSE:DLF\n",
      "NSE:HINDALCO\n"
     ]
    },
    {
     "name": "stderr",
     "output_type": "stream",
     "text": [
      "/anaconda3/lib/python3.7/site-packages/pandas/core/frame.py:7123: FutureWarning: Sorting because non-concatenation axis is not aligned. A future version\n",
      "of pandas will change to not sort by default.\n",
      "\n",
      "To accept the future behavior, pass 'sort=False'.\n",
      "\n",
      "To retain the current behavior and silence the warning, pass 'sort=True'.\n",
      "\n",
      "  sort=sort,\n"
     ]
    },
    {
     "name": "stdout",
     "output_type": "stream",
     "text": [
      "NSE:AMBUJACEM\n"
     ]
    },
    {
     "name": "stderr",
     "output_type": "stream",
     "text": [
      "/anaconda3/lib/python3.7/site-packages/pandas/core/frame.py:7123: FutureWarning: Sorting because non-concatenation axis is not aligned. A future version\n",
      "of pandas will change to not sort by default.\n",
      "\n",
      "To accept the future behavior, pass 'sort=False'.\n",
      "\n",
      "To retain the current behavior and silence the warning, pass 'sort=True'.\n",
      "\n",
      "  sort=sort,\n"
     ]
    },
    {
     "name": "stdout",
     "output_type": "stream",
     "text": [
      "NSE:HINDZINC\n",
      "NSE:CADILAHC\n"
     ]
    },
    {
     "name": "stderr",
     "output_type": "stream",
     "text": [
      "/anaconda3/lib/python3.7/site-packages/pandas/core/frame.py:7123: FutureWarning: Sorting because non-concatenation axis is not aligned. A future version\n",
      "of pandas will change to not sort by default.\n",
      "\n",
      "To accept the future behavior, pass 'sort=False'.\n",
      "\n",
      "To retain the current behavior and silence the warning, pass 'sort=True'.\n",
      "\n",
      "  sort=sort,\n"
     ]
    },
    {
     "name": "stdout",
     "output_type": "stream",
     "text": [
      "NSE:POWERGRID\n",
      "NSE:HINDPETRO\n",
      "NSE:INFRATEL\n",
      "NSE:ITC\n",
      "NSE:PETRONET\n",
      "NSE:TATAGLOBAL\n",
      "NSE:UJJIVAN\n",
      "NSE:UJJIVAN 'timestamp'\n",
      "NSE:TORNTPOWER\n",
      "NSE:IGL\n",
      "NSE:ADANIPORTS\n",
      "NSE:BERGEPAINT\n",
      "NSE:BPCL\n",
      "NSE:ZEEL\n",
      "NSE:GLENMARK\n",
      "NSE:GLENMARK 'DataFrame' object has no attribute 'dt'\n",
      "NSE:BHARTIARTL\n",
      "NSE:TVSMOTOR\n",
      "NSE:HEXAWARE\n",
      "NSE:ICICIPRULI\n",
      "NSE:ICICIPRULI 'timestamp'\n",
      "NSE:UNIONBANK\n",
      "NSE:DCBBANK\n",
      "NSE:YESBANK\n",
      "NSE:WIPRO\n",
      "NSE:TATASTEEL\n",
      "NSE:SBIN\n"
     ]
    },
    {
     "name": "stderr",
     "output_type": "stream",
     "text": [
      "/anaconda3/lib/python3.7/site-packages/pandas/core/frame.py:7123: FutureWarning: Sorting because non-concatenation axis is not aligned. A future version\n",
      "of pandas will change to not sort by default.\n",
      "\n",
      "To accept the future behavior, pass 'sort=False'.\n",
      "\n",
      "To retain the current behavior and silence the warning, pass 'sort=True'.\n",
      "\n",
      "  sort=sort,\n"
     ]
    },
    {
     "name": "stdout",
     "output_type": "stream",
     "text": [
      "NSE:PNB\n"
     ]
    },
    {
     "name": "stderr",
     "output_type": "stream",
     "text": [
      "/anaconda3/lib/python3.7/site-packages/pandas/core/frame.py:7123: FutureWarning: Sorting because non-concatenation axis is not aligned. A future version\n",
      "of pandas will change to not sort by default.\n",
      "\n",
      "To accept the future behavior, pass 'sort=False'.\n",
      "\n",
      "To retain the current behavior and silence the warning, pass 'sort=True'.\n",
      "\n",
      "  sort=sort,\n"
     ]
    },
    {
     "name": "stdout",
     "output_type": "stream",
     "text": [
      "NSE:ONGC\n",
      "NSE:OIL\n",
      "NSE:NTPC\n",
      "NSE:BEL\n",
      "NSE:BIOCON\n",
      "NSE:CANBK\n"
     ]
    },
    {
     "name": "stderr",
     "output_type": "stream",
     "text": [
      "/anaconda3/lib/python3.7/site-packages/pandas/core/frame.py:7123: FutureWarning: Sorting because non-concatenation axis is not aligned. A future version\n",
      "of pandas will change to not sort by default.\n",
      "\n",
      "To accept the future behavior, pass 'sort=False'.\n",
      "\n",
      "To retain the current behavior and silence the warning, pass 'sort=True'.\n",
      "\n",
      "  sort=sort,\n"
     ]
    },
    {
     "name": "stdout",
     "output_type": "stream",
     "text": [
      "NSE:CASTROLIND\n",
      "NSE:CHOLAFIN\n",
      "NSE:COALINDIA\n",
      "NSE:ENGINERSIN\n",
      "NSE:EXIDEIND\n",
      "NSE:JSWSTEEL\n",
      "NSE:MANAPPURAM\n"
     ]
    },
    {
     "name": "stderr",
     "output_type": "stream",
     "text": [
      "/anaconda3/lib/python3.7/site-packages/pandas/core/frame.py:7123: FutureWarning: Sorting because non-concatenation axis is not aligned. A future version\n",
      "of pandas will change to not sort by default.\n",
      "\n",
      "To accept the future behavior, pass 'sort=False'.\n",
      "\n",
      "To retain the current behavior and silence the warning, pass 'sort=True'.\n",
      "\n",
      "  sort=sort,\n"
     ]
    },
    {
     "name": "stdout",
     "output_type": "stream",
     "text": [
      "NSE:SAIL\n",
      "NSE:RECLTD\n",
      "NSE:NMDC\n"
     ]
    },
    {
     "name": "stderr",
     "output_type": "stream",
     "text": [
      "/anaconda3/lib/python3.7/site-packages/pandas/core/frame.py:7123: FutureWarning: Sorting because non-concatenation axis is not aligned. A future version\n",
      "of pandas will change to not sort by default.\n",
      "\n",
      "To accept the future behavior, pass 'sort=False'.\n",
      "\n",
      "To retain the current behavior and silence the warning, pass 'sort=True'.\n",
      "\n",
      "  sort=sort,\n"
     ]
    },
    {
     "name": "stdout",
     "output_type": "stream",
     "text": [
      "NSE:MFSL\n",
      "NSE:IDBI\n",
      "NSE:ARVIND\n",
      "NSE:BHEL\n",
      "NSE:TATAMTRDVR\n",
      "NSE:TATAPOWER\n",
      "NSE:ADANIPOWER\n",
      "NSE:BSOFT\n",
      "NSE:ASHOKLEY\n",
      "NSE:NCC\n",
      "NSE:BANKINDIA\n"
     ]
    },
    {
     "name": "stderr",
     "output_type": "stream",
     "text": [
      "/anaconda3/lib/python3.7/site-packages/pandas/core/frame.py:7123: FutureWarning: Sorting because non-concatenation axis is not aligned. A future version\n",
      "of pandas will change to not sort by default.\n",
      "\n",
      "To accept the future behavior, pass 'sort=False'.\n",
      "\n",
      "To retain the current behavior and silence the warning, pass 'sort=True'.\n",
      "\n",
      "  sort=sort,\n"
     ]
    },
    {
     "name": "stdout",
     "output_type": "stream",
     "text": [
      "NSE:FEDERALBNK\n",
      "NSE:MOTHERSUMI\n",
      "NSE:BANKBARODA\n",
      "NSE:JINDALSTEL\n",
      "NSE:L&TFH\n",
      "NSE:PFC\n",
      "NSE:EQUITAS\n",
      "NSE:EQUITAS 'timestamp'\n",
      "NSE:TATAMOTORS\n"
     ]
    },
    {
     "name": "stderr",
     "output_type": "stream",
     "text": [
      "/anaconda3/lib/python3.7/site-packages/pandas/core/frame.py:7123: FutureWarning: Sorting because non-concatenation axis is not aligned. A future version\n",
      "of pandas will change to not sort by default.\n",
      "\n",
      "To accept the future behavior, pass 'sort=False'.\n",
      "\n",
      "To retain the current behavior and silence the warning, pass 'sort=True'.\n",
      "\n",
      "  sort=sort,\n"
     ]
    },
    {
     "name": "stdout",
     "output_type": "stream",
     "text": [
      "NSE:IOC\n",
      "NSE:ADANIENT\n",
      "NSE:GAIL\n",
      "NSE:VEDL\n",
      "NSE:APOLLOTYRE\n",
      "NSE:DLF\n",
      "NSE:HINDALCO\n"
     ]
    },
    {
     "name": "stderr",
     "output_type": "stream",
     "text": [
      "/anaconda3/lib/python3.7/site-packages/pandas/core/frame.py:7123: FutureWarning: Sorting because non-concatenation axis is not aligned. A future version\n",
      "of pandas will change to not sort by default.\n",
      "\n",
      "To accept the future behavior, pass 'sort=False'.\n",
      "\n",
      "To retain the current behavior and silence the warning, pass 'sort=True'.\n",
      "\n",
      "  sort=sort,\n"
     ]
    },
    {
     "name": "stdout",
     "output_type": "stream",
     "text": [
      "NSE:AMBUJACEM\n",
      "NSE:HINDZINC\n"
     ]
    },
    {
     "name": "stderr",
     "output_type": "stream",
     "text": [
      "/anaconda3/lib/python3.7/site-packages/pandas/core/frame.py:7123: FutureWarning: Sorting because non-concatenation axis is not aligned. A future version\n",
      "of pandas will change to not sort by default.\n",
      "\n",
      "To accept the future behavior, pass 'sort=False'.\n",
      "\n",
      "To retain the current behavior and silence the warning, pass 'sort=True'.\n",
      "\n",
      "  sort=sort,\n"
     ]
    },
    {
     "name": "stdout",
     "output_type": "stream",
     "text": [
      "NSE:CADILAHC\n"
     ]
    },
    {
     "name": "stderr",
     "output_type": "stream",
     "text": [
      "/anaconda3/lib/python3.7/site-packages/pandas/core/frame.py:7123: FutureWarning: Sorting because non-concatenation axis is not aligned. A future version\n",
      "of pandas will change to not sort by default.\n",
      "\n",
      "To accept the future behavior, pass 'sort=False'.\n",
      "\n",
      "To retain the current behavior and silence the warning, pass 'sort=True'.\n",
      "\n",
      "  sort=sort,\n"
     ]
    },
    {
     "name": "stdout",
     "output_type": "stream",
     "text": [
      "NSE:POWERGRID\n",
      "NSE:HINDPETRO\n",
      "NSE:INFRATEL\n",
      "NSE:ITC\n",
      "NSE:PETRONET\n",
      "NSE:TATAGLOBAL\n",
      "NSE:UJJIVAN\n",
      "NSE:UJJIVAN 'timestamp'\n",
      "NSE:TORNTPOWER\n",
      "NSE:IGL\n",
      "NSE:ADANIPORTS\n",
      "NSE:BERGEPAINT\n",
      "NSE:BPCL\n",
      "NSE:ZEEL\n",
      "NSE:GLENMARK\n",
      "NSE:GLENMARK 'DataFrame' object has no attribute 'dt'\n",
      "NSE:BHARTIARTL\n",
      "NSE:TVSMOTOR\n",
      "NSE:HEXAWARE\n",
      "NSE:ICICIPRULI\n",
      "NSE:ICICIPRULI 'timestamp'\n",
      "NSE:UNIONBANK\n",
      "NSE:DCBBANK\n",
      "NSE:YESBANK\n",
      "NSE:WIPRO\n",
      "NSE:TATASTEEL\n",
      "NSE:SBIN\n",
      "NSE:PNB\n",
      "NSE:ONGC\n",
      "NSE:OIL\n",
      "NSE:NTPC\n",
      "NSE:BEL\n",
      "NSE:BIOCON\n",
      "NSE:CANBK\n",
      "NSE:CASTROLIND\n",
      "NSE:CHOLAFIN\n",
      "NSE:COALINDIA\n",
      "NSE:ENGINERSIN\n",
      "NSE:EXIDEIND\n",
      "NSE:JSWSTEEL\n",
      "NSE:MANAPPURAM\n",
      "NSE:SAIL\n"
     ]
    },
    {
     "name": "stderr",
     "output_type": "stream",
     "text": [
      "/anaconda3/lib/python3.7/site-packages/pandas/core/frame.py:7123: FutureWarning: Sorting because non-concatenation axis is not aligned. A future version\n",
      "of pandas will change to not sort by default.\n",
      "\n",
      "To accept the future behavior, pass 'sort=False'.\n",
      "\n",
      "To retain the current behavior and silence the warning, pass 'sort=True'.\n",
      "\n",
      "  sort=sort,\n"
     ]
    },
    {
     "name": "stdout",
     "output_type": "stream",
     "text": [
      "NSE:RECLTD\n",
      "NSE:NMDC\n",
      "NSE:MFSL\n",
      "NSE:IDBI\n",
      "NSE:ARVIND\n",
      "NSE:BHEL\n",
      "NSE:TATAMTRDVR\n",
      "NSE:TATAPOWER\n",
      "NSE:ADANIPOWER\n",
      "NSE:BSOFT\n",
      "NSE:ASHOKLEY\n",
      "NSE:NCC\n",
      "NSE:BANKINDIA\n",
      "NSE:FEDERALBNK\n",
      "NSE:MOTHERSUMI\n",
      "NSE:BANKBARODA\n",
      "NSE:JINDALSTEL\n",
      "NSE:L&TFH\n",
      "NSE:PFC\n",
      "NSE:EQUITAS\n",
      "NSE:EQUITAS 'timestamp'\n",
      "NSE:TATAMOTORS\n",
      "NSE:IOC\n",
      "NSE:ADANIENT\n",
      "NSE:GAIL\n",
      "NSE:VEDL\n"
     ]
    },
    {
     "name": "stderr",
     "output_type": "stream",
     "text": [
      "/anaconda3/lib/python3.7/site-packages/pandas/core/frame.py:7123: FutureWarning: Sorting because non-concatenation axis is not aligned. A future version\n",
      "of pandas will change to not sort by default.\n",
      "\n",
      "To accept the future behavior, pass 'sort=False'.\n",
      "\n",
      "To retain the current behavior and silence the warning, pass 'sort=True'.\n",
      "\n",
      "  sort=sort,\n"
     ]
    },
    {
     "name": "stdout",
     "output_type": "stream",
     "text": [
      "NSE:APOLLOTYRE\n",
      "NSE:DLF\n",
      "NSE:HINDALCO\n",
      "NSE:AMBUJACEM\n",
      "NSE:HINDZINC\n",
      "NSE:CADILAHC\n",
      "NSE:POWERGRID\n",
      "NSE:HINDPETRO\n",
      "NSE:INFRATEL\n",
      "NSE:ITC\n",
      "NSE:PETRONET\n",
      "NSE:TATAGLOBAL\n",
      "NSE:UJJIVAN\n",
      "NSE:UJJIVAN 'timestamp'\n",
      "NSE:TORNTPOWER\n",
      "NSE:IGL\n",
      "NSE:ADANIPORTS\n",
      "NSE:BERGEPAINT\n"
     ]
    },
    {
     "name": "stderr",
     "output_type": "stream",
     "text": [
      "/anaconda3/lib/python3.7/site-packages/pandas/core/frame.py:7123: FutureWarning: Sorting because non-concatenation axis is not aligned. A future version\n",
      "of pandas will change to not sort by default.\n",
      "\n",
      "To accept the future behavior, pass 'sort=False'.\n",
      "\n",
      "To retain the current behavior and silence the warning, pass 'sort=True'.\n",
      "\n",
      "  sort=sort,\n"
     ]
    },
    {
     "name": "stdout",
     "output_type": "stream",
     "text": [
      "NSE:BPCL\n",
      "NSE:ZEEL\n",
      "NSE:GLENMARK\n",
      "NSE:GLENMARK 'DataFrame' object has no attribute 'dt'\n",
      "NSE:BHARTIARTL\n",
      "NSE:TVSMOTOR\n",
      "NSE:HEXAWARE\n",
      "NSE:ICICIPRULI\n",
      "NSE:ICICIPRULI 'timestamp'\n",
      "NSE:UNIONBANK\n",
      "NSE:DCBBANK\n",
      "NSE:YESBANK\n",
      "NSE:WIPRO\n",
      "NSE:TATASTEEL\n",
      "NSE:SBIN\n",
      "NSE:PNB\n",
      "NSE:ONGC\n",
      "NSE:OIL\n",
      "NSE:NTPC\n",
      "NSE:BEL\n",
      "NSE:BIOCON\n",
      "NSE:CANBK\n",
      "NSE:CASTROLIND\n",
      "NSE:CHOLAFIN\n",
      "NSE:COALINDIA\n",
      "NSE:ENGINERSIN\n",
      "NSE:EXIDEIND\n"
     ]
    },
    {
     "name": "stderr",
     "output_type": "stream",
     "text": [
      "/anaconda3/lib/python3.7/site-packages/pandas/core/frame.py:7123: FutureWarning: Sorting because non-concatenation axis is not aligned. A future version\n",
      "of pandas will change to not sort by default.\n",
      "\n",
      "To accept the future behavior, pass 'sort=False'.\n",
      "\n",
      "To retain the current behavior and silence the warning, pass 'sort=True'.\n",
      "\n",
      "  sort=sort,\n"
     ]
    },
    {
     "name": "stdout",
     "output_type": "stream",
     "text": [
      "NSE:JSWSTEEL\n",
      "NSE:MANAPPURAM\n",
      "NSE:SAIL\n",
      "NSE:RECLTD\n",
      "NSE:NMDC\n",
      "NSE:MFSL\n",
      "NSE:IDBI\n",
      "NSE:ARVIND\n",
      "NSE:BHEL\n",
      "NSE:TATAMTRDVR\n"
     ]
    },
    {
     "name": "stderr",
     "output_type": "stream",
     "text": [
      "/anaconda3/lib/python3.7/site-packages/pandas/core/frame.py:7123: FutureWarning: Sorting because non-concatenation axis is not aligned. A future version\n",
      "of pandas will change to not sort by default.\n",
      "\n",
      "To accept the future behavior, pass 'sort=False'.\n",
      "\n",
      "To retain the current behavior and silence the warning, pass 'sort=True'.\n",
      "\n",
      "  sort=sort,\n"
     ]
    },
    {
     "name": "stdout",
     "output_type": "stream",
     "text": [
      "NSE:TATAPOWER\n",
      "NSE:ADANIPOWER\n",
      "NSE:BSOFT\n",
      "NSE:ASHOKLEY\n"
     ]
    },
    {
     "name": "stderr",
     "output_type": "stream",
     "text": [
      "/anaconda3/lib/python3.7/site-packages/pandas/core/frame.py:7123: FutureWarning: Sorting because non-concatenation axis is not aligned. A future version\n",
      "of pandas will change to not sort by default.\n",
      "\n",
      "To accept the future behavior, pass 'sort=False'.\n",
      "\n",
      "To retain the current behavior and silence the warning, pass 'sort=True'.\n",
      "\n",
      "  sort=sort,\n"
     ]
    },
    {
     "name": "stdout",
     "output_type": "stream",
     "text": [
      "NSE:NCC\n",
      "NSE:BANKINDIA\n",
      "NSE:FEDERALBNK\n",
      "NSE:MOTHERSUMI\n",
      "NSE:BANKBARODA\n"
     ]
    },
    {
     "name": "stderr",
     "output_type": "stream",
     "text": [
      "/anaconda3/lib/python3.7/site-packages/pandas/core/frame.py:7123: FutureWarning: Sorting because non-concatenation axis is not aligned. A future version\n",
      "of pandas will change to not sort by default.\n",
      "\n",
      "To accept the future behavior, pass 'sort=False'.\n",
      "\n",
      "To retain the current behavior and silence the warning, pass 'sort=True'.\n",
      "\n",
      "  sort=sort,\n"
     ]
    },
    {
     "name": "stdout",
     "output_type": "stream",
     "text": [
      "NSE:JINDALSTEL\n",
      "NSE:L&TFH\n",
      "NSE:PFC\n",
      "NSE:EQUITAS\n",
      "NSE:EQUITAS 'timestamp'\n",
      "NSE:TATAMOTORS\n",
      "NSE:IOC\n"
     ]
    },
    {
     "name": "stderr",
     "output_type": "stream",
     "text": [
      "/anaconda3/lib/python3.7/site-packages/pandas/core/frame.py:7123: FutureWarning: Sorting because non-concatenation axis is not aligned. A future version\n",
      "of pandas will change to not sort by default.\n",
      "\n",
      "To accept the future behavior, pass 'sort=False'.\n",
      "\n",
      "To retain the current behavior and silence the warning, pass 'sort=True'.\n",
      "\n",
      "  sort=sort,\n"
     ]
    },
    {
     "name": "stdout",
     "output_type": "stream",
     "text": [
      "NSE:ADANIENT\n",
      "NSE:GAIL\n",
      "NSE:VEDL\n",
      "NSE:APOLLOTYRE\n",
      "NSE:DLF\n",
      "NSE:HINDALCO\n",
      "NSE:AMBUJACEM\n"
     ]
    },
    {
     "name": "stderr",
     "output_type": "stream",
     "text": [
      "/anaconda3/lib/python3.7/site-packages/pandas/core/frame.py:7123: FutureWarning: Sorting because non-concatenation axis is not aligned. A future version\n",
      "of pandas will change to not sort by default.\n",
      "\n",
      "To accept the future behavior, pass 'sort=False'.\n",
      "\n",
      "To retain the current behavior and silence the warning, pass 'sort=True'.\n",
      "\n",
      "  sort=sort,\n"
     ]
    },
    {
     "name": "stdout",
     "output_type": "stream",
     "text": [
      "NSE:HINDZINC\n",
      "NSE:CADILAHC\n",
      "NSE:POWERGRID\n",
      "NSE:HINDPETRO\n",
      "NSE:INFRATEL\n"
     ]
    },
    {
     "name": "stderr",
     "output_type": "stream",
     "text": [
      "/anaconda3/lib/python3.7/site-packages/pandas/core/frame.py:7123: FutureWarning: Sorting because non-concatenation axis is not aligned. A future version\n",
      "of pandas will change to not sort by default.\n",
      "\n",
      "To accept the future behavior, pass 'sort=False'.\n",
      "\n",
      "To retain the current behavior and silence the warning, pass 'sort=True'.\n",
      "\n",
      "  sort=sort,\n"
     ]
    },
    {
     "name": "stdout",
     "output_type": "stream",
     "text": [
      "NSE:ITC\n",
      "NSE:PETRONET\n",
      "NSE:TATAGLOBAL\n",
      "NSE:UJJIVAN\n",
      "NSE:UJJIVAN 'timestamp'\n",
      "NSE:TORNTPOWER\n",
      "NSE:IGL\n",
      "NSE:ADANIPORTS\n",
      "NSE:BERGEPAINT\n"
     ]
    },
    {
     "name": "stderr",
     "output_type": "stream",
     "text": [
      "/anaconda3/lib/python3.7/site-packages/pandas/core/frame.py:7123: FutureWarning: Sorting because non-concatenation axis is not aligned. A future version\n",
      "of pandas will change to not sort by default.\n",
      "\n",
      "To accept the future behavior, pass 'sort=False'.\n",
      "\n",
      "To retain the current behavior and silence the warning, pass 'sort=True'.\n",
      "\n",
      "  sort=sort,\n"
     ]
    },
    {
     "name": "stdout",
     "output_type": "stream",
     "text": [
      "NSE:BPCL\n",
      "NSE:ZEEL\n",
      "NSE:GLENMARK\n",
      "NSE:GLENMARK 'DataFrame' object has no attribute 'dt'\n",
      "NSE:BHARTIARTL\n",
      "NSE:TVSMOTOR\n",
      "NSE:HEXAWARE\n",
      "NSE:ICICIPRULI\n",
      "NSE:ICICIPRULI 'timestamp'\n",
      "NSE:UNIONBANK\n",
      "NSE:DCBBANK\n",
      "NSE:YESBANK\n",
      "NSE:WIPRO\n",
      "NSE:TATASTEEL\n",
      "NSE:SBIN\n",
      "NSE:PNB\n",
      "NSE:ONGC\n",
      "NSE:OIL\n",
      "NSE:NTPC\n",
      "NSE:BEL\n",
      "NSE:BIOCON\n",
      "NSE:CANBK\n",
      "NSE:CASTROLIND\n",
      "NSE:CHOLAFIN\n",
      "NSE:COALINDIA\n",
      "NSE:ENGINERSIN\n",
      "NSE:EXIDEIND\n",
      "NSE:JSWSTEEL\n"
     ]
    },
    {
     "name": "stderr",
     "output_type": "stream",
     "text": [
      "/anaconda3/lib/python3.7/site-packages/pandas/core/frame.py:7123: FutureWarning: Sorting because non-concatenation axis is not aligned. A future version\n",
      "of pandas will change to not sort by default.\n",
      "\n",
      "To accept the future behavior, pass 'sort=False'.\n",
      "\n",
      "To retain the current behavior and silence the warning, pass 'sort=True'.\n",
      "\n",
      "  sort=sort,\n"
     ]
    },
    {
     "name": "stdout",
     "output_type": "stream",
     "text": [
      "NSE:MANAPPURAM\n",
      "NSE:SAIL\n",
      "NSE:RECLTD\n",
      "NSE:NMDC\n",
      "NSE:MFSL\n",
      "NSE:IDBI\n",
      "NSE:ARVIND\n",
      "NSE:BHEL\n",
      "NSE:TATAMTRDVR\n",
      "NSE:TATAPOWER\n",
      "NSE:ADANIPOWER\n",
      "NSE:BSOFT\n",
      "NSE:ASHOKLEY\n",
      "NSE:NCC\n",
      "NSE:BANKINDIA\n",
      "NSE:FEDERALBNK\n",
      "NSE:MOTHERSUMI\n"
     ]
    },
    {
     "name": "stderr",
     "output_type": "stream",
     "text": [
      "/anaconda3/lib/python3.7/site-packages/pandas/core/frame.py:7123: FutureWarning: Sorting because non-concatenation axis is not aligned. A future version\n",
      "of pandas will change to not sort by default.\n",
      "\n",
      "To accept the future behavior, pass 'sort=False'.\n",
      "\n",
      "To retain the current behavior and silence the warning, pass 'sort=True'.\n",
      "\n",
      "  sort=sort,\n"
     ]
    },
    {
     "name": "stdout",
     "output_type": "stream",
     "text": [
      "NSE:BANKBARODA\n",
      "NSE:JINDALSTEL\n"
     ]
    },
    {
     "name": "stderr",
     "output_type": "stream",
     "text": [
      "/anaconda3/lib/python3.7/site-packages/pandas/core/frame.py:7123: FutureWarning: Sorting because non-concatenation axis is not aligned. A future version\n",
      "of pandas will change to not sort by default.\n",
      "\n",
      "To accept the future behavior, pass 'sort=False'.\n",
      "\n",
      "To retain the current behavior and silence the warning, pass 'sort=True'.\n",
      "\n",
      "  sort=sort,\n"
     ]
    },
    {
     "name": "stdout",
     "output_type": "stream",
     "text": [
      "NSE:L&TFH\n",
      "NSE:PFC\n",
      "NSE:EQUITAS\n",
      "NSE:EQUITAS 'timestamp'\n",
      "NSE:TATAMOTORS\n",
      "NSE:IOC\n",
      "NSE:ADANIENT\n",
      "NSE:GAIL\n",
      "NSE:VEDL\n",
      "NSE:APOLLOTYRE\n",
      "NSE:DLF\n",
      "NSE:HINDALCO\n",
      "NSE:AMBUJACEM\n",
      "NSE:HINDZINC\n",
      "NSE:CADILAHC\n"
     ]
    },
    {
     "name": "stderr",
     "output_type": "stream",
     "text": [
      "/anaconda3/lib/python3.7/site-packages/pandas/core/frame.py:7123: FutureWarning: Sorting because non-concatenation axis is not aligned. A future version\n",
      "of pandas will change to not sort by default.\n",
      "\n",
      "To accept the future behavior, pass 'sort=False'.\n",
      "\n",
      "To retain the current behavior and silence the warning, pass 'sort=True'.\n",
      "\n",
      "  sort=sort,\n"
     ]
    },
    {
     "name": "stdout",
     "output_type": "stream",
     "text": [
      "NSE:POWERGRID\n",
      "NSE:HINDPETRO\n",
      "NSE:INFRATEL\n",
      "NSE:ITC\n",
      "NSE:PETRONET\n",
      "NSE:TATAGLOBAL\n",
      "NSE:UJJIVAN\n",
      "NSE:UJJIVAN 'timestamp'\n",
      "NSE:TORNTPOWER\n",
      "NSE:IGL\n",
      "NSE:ADANIPORTS\n",
      "NSE:BERGEPAINT\n",
      "NSE:BPCL\n",
      "NSE:ZEEL\n",
      "NSE:GLENMARK\n",
      "NSE:GLENMARK 'DataFrame' object has no attribute 'dt'\n",
      "NSE:BHARTIARTL\n",
      "NSE:TVSMOTOR\n",
      "NSE:HEXAWARE\n",
      "NSE:ICICIPRULI\n",
      "NSE:ICICIPRULI 'timestamp'\n",
      "NSE:UNIONBANK\n",
      "NSE:DCBBANK\n",
      "NSE:YESBANK\n"
     ]
    },
    {
     "name": "stderr",
     "output_type": "stream",
     "text": [
      "/anaconda3/lib/python3.7/site-packages/pandas/core/frame.py:7123: FutureWarning: Sorting because non-concatenation axis is not aligned. A future version\n",
      "of pandas will change to not sort by default.\n",
      "\n",
      "To accept the future behavior, pass 'sort=False'.\n",
      "\n",
      "To retain the current behavior and silence the warning, pass 'sort=True'.\n",
      "\n",
      "  sort=sort,\n"
     ]
    },
    {
     "name": "stdout",
     "output_type": "stream",
     "text": [
      "NSE:WIPRO\n",
      "NSE:TATASTEEL\n",
      "NSE:SBIN\n",
      "NSE:PNB\n",
      "NSE:ONGC\n",
      "NSE:OIL\n",
      "NSE:NTPC\n",
      "NSE:BEL\n",
      "NSE:BIOCON\n",
      "NSE:CANBK\n",
      "NSE:CASTROLIND\n",
      "NSE:CHOLAFIN\n",
      "NSE:COALINDIA\n",
      "NSE:ENGINERSIN\n",
      "NSE:EXIDEIND\n",
      "NSE:JSWSTEEL\n",
      "NSE:MANAPPURAM\n",
      "NSE:SAIL\n",
      "NSE:RECLTD\n",
      "NSE:NMDC\n",
      "NSE:MFSL\n",
      "NSE:IDBI\n",
      "NSE:ARVIND\n",
      "NSE:BHEL\n"
     ]
    },
    {
     "name": "stderr",
     "output_type": "stream",
     "text": [
      "/anaconda3/lib/python3.7/site-packages/pandas/core/frame.py:7123: FutureWarning: Sorting because non-concatenation axis is not aligned. A future version\n",
      "of pandas will change to not sort by default.\n",
      "\n",
      "To accept the future behavior, pass 'sort=False'.\n",
      "\n",
      "To retain the current behavior and silence the warning, pass 'sort=True'.\n",
      "\n",
      "  sort=sort,\n"
     ]
    },
    {
     "name": "stdout",
     "output_type": "stream",
     "text": [
      "NSE:TATAMTRDVR\n",
      "NSE:TATAPOWER\n",
      "NSE:ADANIPOWER\n",
      "NSE:BSOFT\n",
      "NSE:ASHOKLEY\n",
      "NSE:NCC\n"
     ]
    },
    {
     "name": "stderr",
     "output_type": "stream",
     "text": [
      "/anaconda3/lib/python3.7/site-packages/pandas/core/frame.py:7123: FutureWarning: Sorting because non-concatenation axis is not aligned. A future version\n",
      "of pandas will change to not sort by default.\n",
      "\n",
      "To accept the future behavior, pass 'sort=False'.\n",
      "\n",
      "To retain the current behavior and silence the warning, pass 'sort=True'.\n",
      "\n",
      "  sort=sort,\n"
     ]
    },
    {
     "name": "stdout",
     "output_type": "stream",
     "text": [
      "NSE:BANKINDIA\n",
      "NSE:FEDERALBNK\n"
     ]
    },
    {
     "name": "stderr",
     "output_type": "stream",
     "text": [
      "/anaconda3/lib/python3.7/site-packages/pandas/core/frame.py:7123: FutureWarning: Sorting because non-concatenation axis is not aligned. A future version\n",
      "of pandas will change to not sort by default.\n",
      "\n",
      "To accept the future behavior, pass 'sort=False'.\n",
      "\n",
      "To retain the current behavior and silence the warning, pass 'sort=True'.\n",
      "\n",
      "  sort=sort,\n"
     ]
    },
    {
     "name": "stdout",
     "output_type": "stream",
     "text": [
      "NSE:MOTHERSUMI\n",
      "NSE:BANKBARODA\n",
      "NSE:JINDALSTEL\n",
      "NSE:L&TFH\n",
      "NSE:PFC\n",
      "NSE:EQUITAS\n",
      "NSE:EQUITAS 'timestamp'\n",
      "NSE:TATAMOTORS\n",
      "NSE:IOC\n",
      "NSE:ADANIENT\n",
      "NSE:GAIL\n",
      "NSE:VEDL\n",
      "NSE:APOLLOTYRE\n",
      "NSE:DLF\n",
      "NSE:HINDALCO\n"
     ]
    },
    {
     "name": "stderr",
     "output_type": "stream",
     "text": [
      "/anaconda3/lib/python3.7/site-packages/pandas/core/frame.py:7123: FutureWarning: Sorting because non-concatenation axis is not aligned. A future version\n",
      "of pandas will change to not sort by default.\n",
      "\n",
      "To accept the future behavior, pass 'sort=False'.\n",
      "\n",
      "To retain the current behavior and silence the warning, pass 'sort=True'.\n",
      "\n",
      "  sort=sort,\n"
     ]
    },
    {
     "name": "stdout",
     "output_type": "stream",
     "text": [
      "NSE:AMBUJACEM\n",
      "NSE:HINDZINC\n",
      "NSE:CADILAHC\n",
      "NSE:POWERGRID\n",
      "NSE:HINDPETRO\n",
      "NSE:INFRATEL\n",
      "NSE:ITC\n",
      "NSE:PETRONET\n",
      "NSE:TATAGLOBAL\n",
      "NSE:UJJIVAN\n",
      "NSE:UJJIVAN 'timestamp'\n",
      "NSE:TORNTPOWER\n",
      "NSE:IGL\n",
      "NSE:ADANIPORTS\n",
      "NSE:BERGEPAINT\n",
      "NSE:BPCL\n"
     ]
    },
    {
     "name": "stderr",
     "output_type": "stream",
     "text": [
      "/anaconda3/lib/python3.7/site-packages/pandas/core/frame.py:7123: FutureWarning: Sorting because non-concatenation axis is not aligned. A future version\n",
      "of pandas will change to not sort by default.\n",
      "\n",
      "To accept the future behavior, pass 'sort=False'.\n",
      "\n",
      "To retain the current behavior and silence the warning, pass 'sort=True'.\n",
      "\n",
      "  sort=sort,\n"
     ]
    },
    {
     "name": "stdout",
     "output_type": "stream",
     "text": [
      "NSE:ZEEL\n",
      "NSE:GLENMARK\n",
      "NSE:GLENMARK 'DataFrame' object has no attribute 'dt'\n",
      "NSE:BHARTIARTL\n",
      "NSE:TVSMOTOR\n",
      "NSE:HEXAWARE\n",
      "NSE:ICICIPRULI\n",
      "NSE:ICICIPRULI 'timestamp'\n",
      "NSE:UNIONBANK\n",
      "NSE:DCBBANK\n",
      "NSE:YESBANK\n",
      "NSE:WIPRO\n",
      "NSE:TATASTEEL\n",
      "NSE:SBIN\n",
      "NSE:PNB\n",
      "NSE:ONGC\n",
      "NSE:OIL\n",
      "NSE:NTPC\n",
      "NSE:BEL\n",
      "NSE:BIOCON\n",
      "NSE:CANBK\n",
      "NSE:CASTROLIND\n",
      "NSE:CHOLAFIN\n",
      "NSE:COALINDIA\n",
      "NSE:ENGINERSIN\n",
      "NSE:EXIDEIND\n",
      "NSE:JSWSTEEL\n",
      "NSE:MANAPPURAM\n",
      "NSE:SAIL\n",
      "NSE:RECLTD\n",
      "NSE:NMDC\n",
      "NSE:MFSL\n",
      "NSE:IDBI\n",
      "NSE:ARVIND\n",
      "NSE:BHEL\n",
      "NSE:TATAMTRDVR\n",
      "NSE:TATAPOWER\n",
      "NSE:ADANIPOWER\n",
      "NSE:BSOFT\n",
      "NSE:ASHOKLEY\n",
      "NSE:NCC\n",
      "NSE:BANKINDIA\n",
      "NSE:FEDERALBNK\n",
      "NSE:MOTHERSUMI\n",
      "NSE:BANKBARODA\n",
      "NSE:JINDALSTEL\n",
      "NSE:L&TFH\n",
      "NSE:PFC\n",
      "NSE:EQUITAS\n",
      "NSE:EQUITAS 'timestamp'\n",
      "NSE:TATAMOTORS\n",
      "NSE:IOC\n"
     ]
    },
    {
     "name": "stderr",
     "output_type": "stream",
     "text": [
      "/anaconda3/lib/python3.7/site-packages/pandas/core/frame.py:7123: FutureWarning: Sorting because non-concatenation axis is not aligned. A future version\n",
      "of pandas will change to not sort by default.\n",
      "\n",
      "To accept the future behavior, pass 'sort=False'.\n",
      "\n",
      "To retain the current behavior and silence the warning, pass 'sort=True'.\n",
      "\n",
      "  sort=sort,\n"
     ]
    },
    {
     "name": "stdout",
     "output_type": "stream",
     "text": [
      "NSE:ADANIENT\n",
      "NSE:GAIL\n",
      "NSE:VEDL\n",
      "NSE:APOLLOTYRE\n"
     ]
    },
    {
     "name": "stderr",
     "output_type": "stream",
     "text": [
      "/anaconda3/lib/python3.7/site-packages/pandas/core/frame.py:7123: FutureWarning: Sorting because non-concatenation axis is not aligned. A future version\n",
      "of pandas will change to not sort by default.\n",
      "\n",
      "To accept the future behavior, pass 'sort=False'.\n",
      "\n",
      "To retain the current behavior and silence the warning, pass 'sort=True'.\n",
      "\n",
      "  sort=sort,\n"
     ]
    },
    {
     "name": "stdout",
     "output_type": "stream",
     "text": [
      "NSE:DLF\n",
      "NSE:HINDALCO\n",
      "NSE:AMBUJACEM\n",
      "NSE:HINDZINC\n",
      "NSE:CADILAHC\n",
      "NSE:POWERGRID\n",
      "NSE:HINDPETRO\n",
      "NSE:INFRATEL\n",
      "NSE:ITC\n",
      "NSE:PETRONET\n",
      "NSE:TATAGLOBAL\n",
      "NSE:UJJIVAN\n",
      "NSE:UJJIVAN 'timestamp'\n",
      "NSE:TORNTPOWER\n",
      "NSE:IGL\n",
      "NSE:ADANIPORTS\n",
      "NSE:BERGEPAINT\n",
      "NSE:BPCL\n",
      "NSE:ZEEL\n",
      "NSE:GLENMARK\n",
      "NSE:GLENMARK 'DataFrame' object has no attribute 'dt'\n",
      "NSE:BHARTIARTL\n",
      "NSE:TVSMOTOR\n",
      "NSE:HEXAWARE\n",
      "NSE:ICICIPRULI\n",
      "NSE:ICICIPRULI 'timestamp'\n",
      "NSE:UNIONBANK\n",
      "NSE:DCBBANK\n",
      "NSE:YESBANK\n",
      "NSE:WIPRO\n",
      "NSE:TATASTEEL\n"
     ]
    }
   ],
   "source": [
    "calculate = True\n",
    "\n",
    "if calculate:\n",
    "    \n",
    "    all_trades = pd.DataFrame(columns=header_list)\n",
    "    \n",
    "    for i in range(len(d.date.unique().tolist())-1):\n",
    "        \n",
    "        trades_today = pd.DataFrame(columns=header_list)\n",
    "        \n",
    "        for instrument in budget_df.instrument.tolist():\n",
    "\n",
    "            try:\n",
    "                all_data_df = get_clean_data(instrument, from_year, to_year)\n",
    "\n",
    "                date_prev = all_data_df.date.unique().tolist()[i]\n",
    "                data_prev = all_data_df[all_data_df['date']==date_prev]\n",
    "                open_prev = data_prev.open.iloc[0]\n",
    "                close_prev = data_prev.open.iloc[-1]\n",
    "                high_prev = data_prev.high.max()\n",
    "                low_prev = data_prev.low.min()\n",
    "\n",
    "                date_today = all_data_df.date.unique().tolist()[i+1]\n",
    "                data_today = all_data_df[all_data_df['date']==date_today]\n",
    "                open_today = data_today.open.iloc[0]\n",
    "\n",
    "                if (open_today > high_prev) & (open_today < 1.15 * high_prev):\n",
    "\n",
    "                    condition = 'high'\n",
    "                    transaction_type = 'sell'\n",
    "\n",
    "                elif (open_today < low_prev) & (open_today > 0.85 * low_prev):\n",
    "\n",
    "                    condition = 'low'\n",
    "                    transaction_type = 'buy'\n",
    "\n",
    "                else:\n",
    "\n",
    "                    condition = None\n",
    "                    transaction_type = None\n",
    "                \n",
    "                if condition is not None:\n",
    "                    trades_today = trades_today.append(pd.DataFrame(data={'instrument':[instrument], \n",
    "                                                      'high_prev':[high_prev], \n",
    "                                                      'low_prev':[low_prev], \n",
    "                                                      'open_today':[open_today], \n",
    "                                                      'condition':[condition], \n",
    "                                                      'transaction_type':[transaction_type]}), ignore_index=True)\n",
    "\n",
    "            except Exception as ex:\n",
    "                print(instrument, ex)\n",
    "                                                                                      \n",
    "#         for instrument in trades_today.instrument.tolist():\n",
    "            \n",
    "#             try:\n",
    "                \n",
    "#                 # Trim beyond exit time\n",
    "#                 data_today = data_today[data_today['timestamp'].dt.time<exit_time]\n",
    "#                 all_data_df = get_clean_data(instrument, from_year, to_year)\n",
    "\n",
    "#                 date_prev = all_data_df.date.unique().tolist()[i]\n",
    "#                 data_prev = all_data_df[all_data_df['date']==date_prev]\n",
    "#                 open_prev = data_prev.open.iloc[0]\n",
    "#                 close_prev = data_prev.open.iloc[-1]\n",
    "#                 high_prev = data_prev.high.max()\n",
    "#                 low_prev = data_prev.low.min()\n",
    "\n",
    "#                 date_today = all_data_df.date.unique().tolist()[i+1]\n",
    "#                 data_today = all_data_df[all_data_df['date']==date_today]\n",
    "\n",
    "#                 # Trim beyond exit time\n",
    "#                 data_today = data_today[data_today['timestamp'].dt.time<exit_time]\n",
    "#                 open_today = data_today.open.iloc[0]\n",
    "\n",
    "#                 if (open_today > high_prev) & (open_today < 1.15 * high_prev):\n",
    "\n",
    "#                     condition = 'high'\n",
    "#                     transaction_type = 'sell'\n",
    "\n",
    "#                 elif (open_today < low_prev) & (open_today > 0.85 * low_prev):\n",
    "\n",
    "#                     condition = 'low'\n",
    "#                     transaction_type = 'buy'\n",
    "\n",
    "#                 else:\n",
    "\n",
    "#                     condition = None\n",
    "#                     transaction_type = None\n",
    "                \n",
    "#                 if condition is not None:\n",
    "\n",
    "                            \n",
    "                            \n",
    "#                     valid_trades = all_trades[(all_trades['instrument']==instrument) & (all_trades['condition']==condition) & (all_trades['status']=='complete')]\n",
    "#                     last_valid_trade = valid_trades[valid_trades['trade_number']==valid_trades['trade_number'].max()]\n",
    "\n",
    "#                     # Calculate trade number\n",
    "#                     if len(last_valid_trade):\n",
    "#                         trade_number = int(last_valid_trade['trade_number']) + 1\n",
    "#                     else:\n",
    "#                         trade_number = 1\n",
    "                    \n",
    "#                     # Calculate level\n",
    "#                     if len(last_valid_trade):\n",
    "#                         if float(last_valid_trade['pl_tag'])==1.0:\n",
    "#                             level = 1\n",
    "#                         else:\n",
    "#                             level = float(last_valid_trade['level']) + 1\n",
    "#                     else:\n",
    "#                         level = 1\n",
    "\n",
    "#                     # Calculate budget and return\n",
    "#                     if level==1:\n",
    "#                         budget = float(budget_df[budget_df['instrument']==instrument]['budget'])\n",
    "#                         return_ = float(budget_df[budget_df['instrument']==instrument]['return'])\n",
    "#                     else:\n",
    "#                         budget = float(last_valid_trade['budget'])\n",
    "#                         return_ = float(last_valid_trade['return'])\n",
    "\n",
    "#                     # Calculate daily khwab\n",
    "#                     if len(last_valid_trade):\n",
    "#                         if int(last_valid_trade['flag'])==1:\n",
    "#                             daily_khwab = round(return_ * budget, 2)\n",
    "#                         else:\n",
    "#                             daily_khwab = 0\n",
    "#                     else:\n",
    "#                         daily_khwab = round(return_ * budget, 2)\n",
    "\n",
    "#                     # Calculate actual khwab\n",
    "#                     if len(last_valid_trade):\n",
    "#                         actual_khwab = max(round(float(last_valid_trade['adhoora_khwab']) + daily_khwab, 2), round(return_ * budget, 2))\n",
    "#                     else:\n",
    "#                         actual_khwab = round(return_ * budget, 2)\n",
    "\n",
    "#                     # Caluclate tax\n",
    "#                     tax = (0.0005647 * actual_khwab)/return_\n",
    "#                     actual_khwab = round(actual_khwab + tax, 2)\n",
    "                    \n",
    "#                     # Calculate quantity\n",
    "#                     quantity = int(round(actual_khwab/(return_ * open_today)))\n",
    "\n",
    "#                     # Calculate budget required\n",
    "#                     budget_required = round(quantity * open_today, 2)\n",
    "\n",
    "#                     # Calculate price and trigger price\n",
    "#                     if transaction_type=='buy':\n",
    "#                         price = round(open_today + 0.05 * max(round(20 * 0.0010 * open_today), 2), 2)\n",
    "#                         trigger_price = round(open_today + 0.05 * max(round(20 * 0.0005 * open_today),1), 2)\n",
    "#                     else:\n",
    "#                         price = round(open_today - 0.05 * max(round(20 * 0.0010 * open_today), 2), 2)\n",
    "#                         trigger_price = round(open_today - 0.05 * max(round(20 * 0.0005 * open_today),1), 2)\n",
    "\n",
    "#                     # Calculate square off and stoploss\n",
    "#                     squareoff = round(return_ * price, 1)\n",
    "#                     stoploss = round(return_ * price, 1)\n",
    "\n",
    "#                     # Calculate order_id, order_type\n",
    "#                     order_id = trade_number\n",
    "#                     order_type = 'SL'\n",
    "\n",
    "#                     # Calculate timestamp, status and profit\n",
    "#                     if transaction_type=='buy':\n",
    "                        \n",
    "#                         if data_today.high.max() < trigger_price:\n",
    "\n",
    "#                             timestamp = data_today.timestamp.iloc[0]\n",
    "#                             status = 'incomplete'\n",
    "#                             profit = 0\n",
    "\n",
    "#                         else:\n",
    "\n",
    "#                             status = 'complete'\n",
    "#                             for index, row in data_today.iterrows():\n",
    "\n",
    "#                                 if row['high'] > price + squareoff:\n",
    "#                                     timestamp = row['timestamp']\n",
    "#                                     profit = round(squareoff * quantity, 2)\n",
    "#                                     break\n",
    "\n",
    "#                                 elif row['low'] < price - stoploss:\n",
    "#                                     timestamp = row['timestamp']\n",
    "#                                     profit = round(-1 * stoploss * quantity, 2)\n",
    "#                                     break\n",
    "\n",
    "#                                 else:\n",
    "#                                     timestamp = row['timestamp']\n",
    "#                                     profit = round((row['close']-price) * quantity, 2)\n",
    "\n",
    "#                     else:\n",
    "\n",
    "#                         if data_today.low.min() > trigger_price:\n",
    "#                             timestamp = data_today.timestamp.iloc[0]\n",
    "#                             status = 'incomplete'\n",
    "#                             profit = 0        \n",
    "\n",
    "#                         else:\n",
    "\n",
    "#                             status = 'complete'\n",
    "#                             for index, row in data_today.iterrows():\n",
    "\n",
    "#                                 if row['low'] < price - squareoff:\n",
    "#                                     timestamp = row['timestamp']\n",
    "#                                     profit = round(squareoff * quantity, 2)\n",
    "#                                     break\n",
    "\n",
    "#                                 elif row['high'] > price + stoploss:\n",
    "#                                     timestamp = row['timestamp']\n",
    "#                                     profit = round(-1 * stoploss * quantity, 2)\n",
    "#                                     break\n",
    "\n",
    "#                                 else:\n",
    "#                                     timestamp = row['timestamp']\n",
    "#                                     profit = round((price - row['close']) * quantity, 2)\n",
    "\n",
    "#                     # Calculate P/L tag\n",
    "#                     pl_tag = round(round(float(profit), 2) / (float(squareoff) * float(quantity)), 1)\n",
    "\n",
    "#                     # Calculate flag\n",
    "#                     if abs(float(pl_tag))==1:\n",
    "#                         flag = 1\n",
    "#                     else:\n",
    "#                         flag = 0\n",
    "\n",
    "#                     # Calculate adhoora khwab\n",
    "#                     adhoora_khwab = round(float(actual_khwab) - profit, 2)\n",
    "\n",
    "#                     trades_today = pd.DataFrame(data={'instrument':[instrument], \n",
    "#                                                       'high_prev':[high_prev], \n",
    "#                                                       'low_prev':[low_prev], \n",
    "#                                                       'open_today':[open_today], \n",
    "#                                                       'condition':[condition], \n",
    "#                                                       'transaction_type':[transaction_type], \n",
    "#                                                       'trade_number':[trade_number], \n",
    "#                                                       'level':[level], \n",
    "#                                                       'budget':[budget], \n",
    "#                                                       'return':[return_], \n",
    "#                                                       'daily_khwab':[daily_khwab], \n",
    "#                                                       'actual_khwab':[actual_khwab], \n",
    "#                                                       'quantity':[quantity], \n",
    "#                                                       'budget_required':[budget_required], \n",
    "#                                                       'price':[price], \n",
    "#                                                       'trigger_price':[trigger_price], \n",
    "#                                                       'squareoff':[squareoff], \n",
    "#                                                       'stoploss':[stoploss], \n",
    "#                                                       'order_id':[order_id], \n",
    "#                                                       'timestamp':[timestamp], \n",
    "#                                                       'order_type':[order_type], \n",
    "#                                                       'status':[status], \n",
    "#                                                       'profit':[profit], \n",
    "#                                                       'pl_tag':[pl_tag], \n",
    "#                                                       'flag':[flag], \n",
    "#                                                       'adhoora_khwab':[adhoora_khwab]\n",
    "#                                                      })\n",
    "\n",
    "#                     all_trades = all_trades.append(trades_today, ignore_index = True)\n",
    "#         except Exception as ex:\n",
    "#             print('Failed calculation for {} : {}'.format(instrument, ex))\n",
    "            \n",
    "#     all_trades.to_pickle('all_trades_opp_brokerage_{}_{}.pkl'.format(from_year, to_year))\n",
    "    \n",
    "# else:\n",
    "    \n",
    "#     all_trades = pd.read_pickle('all_trades_opp_brokerage_{}_{}.pkl'.format(from_year, to_year))"
   ]
  },
  {
   "cell_type": "markdown",
   "metadata": {},
   "source": [
    "# High Trades Analysis"
   ]
  },
  {
   "cell_type": "code",
   "execution_count": null,
   "metadata": {},
   "outputs": [],
   "source": [
    "high_trades = all_trades[(all_trades['condition']=='high') & (all_trades['status']=='complete')]"
   ]
  },
  {
   "cell_type": "code",
   "execution_count": null,
   "metadata": {},
   "outputs": [],
   "source": [
    "high_trades_loop = pd.DataFrame()\n",
    "for instrument in high_trades.instrument.unique().tolist():\n",
    "    instrument_high_trades = high_trades[high_trades['instrument']==instrument]\n",
    "    instrument_high_trades_loop = instrument_high_trades[instrument_high_trades['trade_number']<=instrument_high_trades[instrument_high_trades['pl_tag']==1.0].trade_number.max()]\n",
    "    high_trades_loop = high_trades_loop.append(instrument_high_trades_loop, ignore_index=True)\n",
    "    "
   ]
  },
  {
   "cell_type": "code",
   "execution_count": null,
   "metadata": {
    "scrolled": false
   },
   "outputs": [],
   "source": [
    "high_trades"
   ]
  },
  {
   "cell_type": "markdown",
   "metadata": {},
   "source": [
    "# Low Trades Analysis"
   ]
  },
  {
   "cell_type": "code",
   "execution_count": null,
   "metadata": {},
   "outputs": [],
   "source": [
    "low_trades = all_trades[(all_trades['condition']=='low') & (all_trades['status']=='complete')]"
   ]
  },
  {
   "cell_type": "code",
   "execution_count": null,
   "metadata": {},
   "outputs": [],
   "source": [
    "low_trades_loop = pd.DataFrame()\n",
    "for instrument in low_trades.instrument.unique().tolist():\n",
    "    instrument_low_trades = low_trades[low_trades['instrument']==instrument]\n",
    "    instrument_low_trades_loop = instrument_low_trades[instrument_low_trades['trade_number']<=instrument_low_trades[instrument_low_trades['pl_tag']==1.0].trade_number.max()]\n",
    "    low_trades_loop = low_trades_loop.append(instrument_low_trades_loop, ignore_index=True)\n",
    "    "
   ]
  },
  {
   "cell_type": "code",
   "execution_count": null,
   "metadata": {
    "scrolled": true
   },
   "outputs": [],
   "source": [
    "low_trades.head()"
   ]
  },
  {
   "cell_type": "markdown",
   "metadata": {},
   "source": [
    "# Results"
   ]
  },
  {
   "cell_type": "code",
   "execution_count": null,
   "metadata": {
    "scrolled": true
   },
   "outputs": [],
   "source": [
    "pd.DataFrame(data={'high':[len(high_trades),\n",
    "                           len(high_trades_loop),\n",
    "                           round(high_trades_loop.profit.sum(), 2), \n",
    "                           round(high_trades_loop.profit.sum()/budget_df.budget.sum() * 100, 2),\n",
    "                           round(high_trades_loop.budget_required.max()), \n",
    "                           round(high_trades_loop.budget_required.max()/leverage)],\n",
    "                   'low':[len(low_trades),\n",
    "                          len(low_trades_loop),\n",
    "                          round(low_trades_loop.profit.sum(), 2), \n",
    "                          round(low_trades_loop.profit.sum()/budget_df.budget.sum() * 100, 2),\n",
    "                          round(low_trades_loop.budget_required.max()),\n",
    "                          round(low_trades_loop.budget_required.max()/leverage)]\n",
    "                   }, \n",
    "             index = ['total_trades', 'trades_considered', 'profit', 'perc_return', 'hightest_budget_required', 'hightest_margin_required'])"
   ]
  },
  {
   "cell_type": "markdown",
   "metadata": {},
   "source": [
    "# Daily Margin Required Analysis"
   ]
  },
  {
   "cell_type": "code",
   "execution_count": null,
   "metadata": {},
   "outputs": [],
   "source": [
    "all_trades['date'] = all_trades['timestamp'].dt.date\n",
    "all_trades['margin_required'] = all_trades['budget_required']/leverage\n",
    "margins = all_trades.groupby('date').agg({'budget_required':sum, 'margin_required':sum, 'instrument':list}).reset_index()"
   ]
  },
  {
   "cell_type": "code",
   "execution_count": null,
   "metadata": {},
   "outputs": [],
   "source": [
    "import numpy as np\n",
    "import matplotlib.pyplot as plt\n",
    "\n",
    "def stacked_bar(data, series_labels, category_labels=None, \n",
    "                show_values=False, value_format=\"{}\", y_label=None, \n",
    "                grid=True, reverse=False):\n",
    "    \"\"\"Plots a stacked bar chart with the data and labels provided.\n",
    "\n",
    "    Keyword arguments:\n",
    "    data            -- 2-dimensional numpy array or nested list\n",
    "                       containing data for each series in rows\n",
    "    series_labels   -- list of series labels (these appear in\n",
    "                       the legend)\n",
    "    category_labels -- list of category labels (these appear\n",
    "                       on the x-axis)\n",
    "    show_values     -- If True then numeric value labels will \n",
    "                       be shown on each bar\n",
    "    value_format    -- Format string for numeric value labels\n",
    "                       (default is \"{}\")\n",
    "    y_label         -- Label for y-axis (str)\n",
    "    grid            -- If True display grid\n",
    "    reverse         -- If True reverse the order that the\n",
    "                       series are displayed (left-to-right\n",
    "                       or right-to-left)\n",
    "    \"\"\"\n",
    "\n",
    "    ny = len(data[0])\n",
    "    ind = list(range(ny))\n",
    "\n",
    "    axes = []\n",
    "    cum_size = np.zeros(ny)\n",
    "\n",
    "    data = np.array(data)\n",
    "\n",
    "    if reverse:\n",
    "        data = np.flip(data, axis=1)\n",
    "        category_labels = reversed(category_labels)\n",
    "\n",
    "    for i, row_data in enumerate(data):\n",
    "        axes.append(plt.bar(ind, row_data, bottom=cum_size, \n",
    "                            label=series_labels[i]))\n",
    "        cum_size += row_data\n",
    "\n",
    "    if category_labels:\n",
    "        plt.xticks(ind, category_labels, rotation='vertical')\n",
    "\n",
    "    if y_label:\n",
    "        plt.ylabel(y_label)\n",
    "\n",
    "    plt.legend(loc='center left', bbox_to_anchor=(1, 0.5))\n",
    "\n",
    "    if grid:\n",
    "        plt.grid()\n",
    "\n",
    "    if show_values:\n",
    "        for axis in axes:\n",
    "            for bar in axis:\n",
    "                w, h = bar.get_width(), bar.get_height()\n",
    "                plt.text(bar.get_x() + w/2, bar.get_y() + h/2, \n",
    "                         value_format.format(h), ha=\"center\", \n",
    "                         va=\"center\")"
   ]
  },
  {
   "cell_type": "code",
   "execution_count": null,
   "metadata": {
    "scrolled": false
   },
   "outputs": [],
   "source": [
    "df2 = all_trades.groupby(['date', 'instrument'])['margin_required'].sum().unstack('instrument').fillna(0)\n",
    "\n",
    "df = df2.transpose()\n",
    "\n",
    "plt.figure(figsize=(50, 10))\n",
    "\n",
    "series_labels = df.index.tolist()\n",
    "\n",
    "data = df.values\n",
    "\n",
    "category_labels = df.columns.tolist()\n",
    "\n",
    "stacked_bar(\n",
    "    data, \n",
    "    series_labels, \n",
    "    category_labels=category_labels, \n",
    "    show_values=False,\n",
    "    value_format=\"{:.1f}\",\n",
    "    y_label=\"Total margin required\"\n",
    ")\n",
    "\n",
    "plt.savefig('margin_required_opp_brokerage_{}_{}.png'.format(from_year, to_year))\n",
    "plt.show()"
   ]
  },
  {
   "cell_type": "markdown",
   "metadata": {},
   "source": [
    "## Brokerage Calculation"
   ]
  },
  {
   "cell_type": "code",
   "execution_count": null,
   "metadata": {},
   "outputs": [],
   "source": [
    "# brokerage = min(40, 0.0002 * budget_required)\n",
    "# stt = 0.00025 * budget_required\n",
    "# transaction_charges = 2 * 0.0000325 * budget_required\n",
    "# gst = 0.18 * (brokerage + transaction_charges)\n",
    "# sebi = 2 * 10 * budget_required/10000000\n",
    "# total_tax_and_charges = brokerage + stt + transaction_charges + gst + sebi\n",
    "\n",
    "# profit = profit - total_tax_and_charges"
   ]
  }
 ],
 "metadata": {
  "kernelspec": {
   "display_name": "Python 3",
   "language": "python",
   "name": "python3"
  },
  "language_info": {
   "codemirror_mode": {
    "name": "ipython",
    "version": 3
   },
   "file_extension": ".py",
   "mimetype": "text/x-python",
   "name": "python",
   "nbconvert_exporter": "python",
   "pygments_lexer": "ipython3",
   "version": "3.7.1"
  }
 },
 "nbformat": 4,
 "nbformat_minor": 2
}
